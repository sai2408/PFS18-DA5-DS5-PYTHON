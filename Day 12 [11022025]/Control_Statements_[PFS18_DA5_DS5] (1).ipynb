{
  "nbformat": 4,
  "nbformat_minor": 0,
  "metadata": {
    "colab": {
      "provenance": []
    },
    "kernelspec": {
      "name": "python3",
      "display_name": "Python 3"
    },
    "language_info": {
      "name": "python"
    }
  },
  "cells": [
    {
      "cell_type": "markdown",
      "source": [
        "#**CONTROL STATEMENTS**\n",
        "    Loops are traditionally used when you have a block of code which we want to repeat a fixed number of times.\n",
        "#**Types of Control Statements**\n",
        "    While\n",
        "    For\n",
        "    Nested control Statements\n"
      ],
      "metadata": {
        "id": "q59hQg2J2hNL"
      }
    },
    {
      "cell_type": "markdown",
      "source": [
        "#**WHILE LOOP**\n",
        "\n",
        "#SYNTAX\n",
        "    while condition:\n",
        "        while statement 1\n",
        "        while statement 2\n",
        "        .\n",
        "        .\n",
        "        ."
      ],
      "metadata": {
        "id": "HFUwY--33irX"
      }
    },
    {
      "cell_type": "code",
      "execution_count": null,
      "metadata": {
        "id": "0z7Gyakd1sn2",
        "colab": {
          "base_uri": "https://localhost:8080/"
        },
        "outputId": "1d0c8356-7a07-4cde-d0f7-2b8592a8845b"
      },
      "outputs": [
        {
          "output_type": "stream",
          "name": "stdout",
          "text": [
            "Hello World\n",
            "Hello World\n",
            "Hello World\n",
            "Hello World\n",
            "Hello World\n",
            "end\n"
          ]
        }
      ],
      "source": [
        "#Approach - 1\n",
        "'''\n",
        "n = 5\n",
        "while (n>0):\n",
        "  print(\"Hello World\")\n",
        "  n = n - 1\n",
        "print(\"end\")\n",
        "'''\n",
        "#Appraoch - 2\n",
        "'''\n",
        "n = 1\n",
        "while (n<=5):\n",
        "  print(\"Hello World\")\n",
        "  n = n + 1\n",
        "print(\"End\")\n",
        "'''\n",
        "#Approach - 3\n",
        "'''\n",
        "n = 101\n",
        "while (n<=105):\n",
        "  print(\"Hello World\")\n",
        "  n = n + 1\n",
        "print(\"end\")\n",
        "'''"
      ]
    },
    {
      "cell_type": "markdown",
      "source": [
        "#**FOR LOOP**\n",
        "\n",
        "#SYNTAX\n",
        "    for variable in sequence:\n",
        "        for statement 1\n",
        "        for statement 2\n",
        "        .\n",
        "        .\n",
        "        ."
      ],
      "metadata": {
        "id": "qfa9R2WA3qw9"
      }
    },
    {
      "cell_type": "code",
      "source": [
        "#Approach - 1\n",
        "'''\n",
        "for i in range(5):\n",
        "  print(\"Hello World\")\n",
        "print(\"End\")\n",
        "'''\n",
        "#Approach - 2\n",
        "'''\n",
        "for i in range(0,5,1):\n",
        "  print(\"Hello World\")\n",
        "print(\"end\")\n",
        "'''\n",
        "#Approach - 3\n",
        "'''\n",
        "for i in range(100,105,1):\n",
        "  print(\"Hello World\")\n",
        "print(\"end\")\n",
        "'''"
      ],
      "metadata": {
        "id": "0kTMYpDM3tI1",
        "colab": {
          "base_uri": "https://localhost:8080/"
        },
        "outputId": "7caff629-fe86-4ea3-8196-feb1306c65d9"
      },
      "execution_count": null,
      "outputs": [
        {
          "output_type": "stream",
          "name": "stdout",
          "text": [
            "Hello World\n",
            "Hello World\n",
            "Hello World\n",
            "Hello World\n",
            "Hello World\n",
            "end\n"
          ]
        }
      ]
    },
    {
      "cell_type": "markdown",
      "source": [
        "#**LOOP CONTROLLED STATEMENTS**\n",
        "    Break\n",
        "    Continue\n",
        "    Pass"
      ],
      "metadata": {
        "id": "u6JC7LCE5uSy"
      }
    },
    {
      "cell_type": "code",
      "source": [
        "#Pass\n",
        "'''\n",
        "for i in range(10):\n",
        "  pass\n",
        "'''\n",
        "#Break\n",
        "'''\n",
        "for i in range(100):\n",
        "  print(f\"Petrol Injection started at {i}\")\n",
        "  if i == 47:\n",
        "    break\n",
        "'''\n",
        "#Continue\n",
        "'''\n",
        "for i in range(10):\n",
        "  print(f\"Iteration {i}.1\")\n",
        "  if i == 4:\n",
        "    continue\n",
        "  print(f\"Iteration {i}.2\")\n",
        "for i in range(3):\n",
        "  print(\"Hello 1\")\n",
        "  print(\"Hello 2\")\n",
        "  if i == 1:\n",
        "    continue\n",
        "  print(\"Hello 3\")\n",
        "  print(\"Hello 4\")\n",
        "'''"
      ],
      "metadata": {
        "id": "BS2zlHhM55rV",
        "colab": {
          "base_uri": "https://localhost:8080/"
        },
        "outputId": "d44cff21-4e90-413b-a131-f2e9d1c7f915"
      },
      "execution_count": null,
      "outputs": [
        {
          "output_type": "stream",
          "name": "stdout",
          "text": [
            "Hello 1\n",
            "Hello 2\n",
            "Hello 3\n",
            "Hello 4\n",
            "Hello 1\n",
            "Hello 2\n",
            "Hello 1\n",
            "Hello 2\n",
            "Hello 3\n",
            "Hello 4\n"
          ]
        }
      ]
    },
    {
      "cell_type": "markdown",
      "source": [
        "#**Clauses**\n",
        "    Else with while\n",
        "        while (condition):\n",
        "          statement 1\n",
        "          statement 2\n",
        "          .\n",
        "          .\n",
        "        else:\n",
        "          statement 1\n",
        "          statement 2\n",
        "          .\n",
        "          .\n",
        "    Else with For\n",
        "        for variabel in sequence:\n",
        "          statement 1\n",
        "          statement 2\n",
        "          .\n",
        "          .\n",
        "        else:\n",
        "          statement 1\n",
        "          statement 2\n",
        "          .\n",
        "          .\n"
      ],
      "metadata": {
        "id": "ytCNxhC55-gs"
      }
    },
    {
      "cell_type": "code",
      "source": [
        "#Example - 1\n",
        "'''\n",
        "for i in range(5):\n",
        "  print(\"Hello\")\n",
        "  if i == 3:\n",
        "    continue\n",
        "else:\n",
        "  print(\"No break\")\n",
        "'''\n",
        "#Example - 2\n",
        "'''\n",
        "n = 5\n",
        "while (n>0):\n",
        "  print(\"Hello\")\n",
        "  if n == 2:\n",
        "    break\n",
        "  n = n - 1\n",
        "else:\n",
        "  print(\"No break\")\n",
        "'''"
      ],
      "metadata": {
        "id": "DVMfcVlf6DZG",
        "colab": {
          "base_uri": "https://localhost:8080/"
        },
        "outputId": "a1d56114-275f-45d1-bdb9-8152bec51621"
      },
      "execution_count": null,
      "outputs": [
        {
          "output_type": "stream",
          "name": "stdout",
          "text": [
            "Hello\n",
            "Hello\n",
            "Hello\n",
            "Hello\n"
          ]
        }
      ]
    },
    {
      "cell_type": "markdown",
      "source": [
        "#**Accessing Elements of Lists**\n",
        "    For With Range\n",
        "    For Without Range"
      ],
      "metadata": {
        "id": "8Y_XlF-1g00o"
      }
    },
    {
      "cell_type": "code",
      "source": [
        "x = [10,20,30,40,50]\n",
        "#For with range\n",
        "'''\n",
        "for i in range(len(x)):\n",
        "  print(x[i])\n",
        "'''\n",
        "'''\n",
        "for i in range(len(x)):\n",
        "  print(x[i],end=\" \")\n",
        "'''\n",
        "#for with out range\n",
        "'''\n",
        "for i in x:\n",
        "  print(i)\n",
        "'''\n",
        "'''\n",
        "for i in x:\n",
        "  print(i,end=\" \")\n",
        "'''\n",
        "#Keyargs\n",
        "print(*x,sep=\" \")\n"
      ],
      "metadata": {
        "id": "c1gHD_1wg64I",
        "colab": {
          "base_uri": "https://localhost:8080/"
        },
        "outputId": "603c5d49-92fc-4fde-9fb4-f95f588932ef"
      },
      "execution_count": 8,
      "outputs": [
        {
          "output_type": "stream",
          "name": "stdout",
          "text": [
            "10,20,30,40,50\n"
          ]
        }
      ]
    },
    {
      "cell_type": "markdown",
      "source": [
        "#**Accessing Elements of Tuple**\n",
        "    For With Range\n",
        "    For Without Range"
      ],
      "metadata": {
        "id": "qyJxJTDcg7-S"
      }
    },
    {
      "cell_type": "code",
      "source": [
        "x = (10,20,30,40,50)\n",
        "#For with range\n",
        "'''\n",
        "for i in range(len(x)):\n",
        "  print(x[i])\n",
        "'''\n",
        "'''\n",
        "for i in range(len(x)):\n",
        "  print(x[i],end=\" \")\n",
        "'''\n",
        "#for with out range\n",
        "'''\n",
        "for i in x:\n",
        "  print(i)\n",
        "'''\n",
        "'''\n",
        "for i in x:\n",
        "  print(i,end=\" \")\n",
        "'''\n",
        "#Keyargs\n",
        "'''\n",
        "print(*x,sep=\" \")\n",
        "'''"
      ],
      "metadata": {
        "id": "2DYWUYCug_7N",
        "colab": {
          "base_uri": "https://localhost:8080/",
          "height": 122
        },
        "outputId": "d2cd3292-d72f-4959-bc03-0606c3eb196a"
      },
      "execution_count": 12,
      "outputs": [
        {
          "output_type": "stream",
          "name": "stdout",
          "text": [
            "10\n",
            "20\n",
            "30\n",
            "40\n",
            "50\n"
          ]
        },
        {
          "output_type": "execute_result",
          "data": {
            "text/plain": [
              "'\\nprint(*x,sep=\" \")\\n'"
            ],
            "application/vnd.google.colaboratory.intrinsic+json": {
              "type": "string"
            }
          },
          "metadata": {},
          "execution_count": 12
        }
      ]
    },
    {
      "cell_type": "markdown",
      "source": [
        "#**Accessing Elements of Sets**\n",
        "    For Without Range"
      ],
      "metadata": {
        "id": "8tHhRqZ8g_Xo"
      }
    },
    {
      "cell_type": "code",
      "source": [
        "s1 = {1,6,2,8,2}\n",
        "'''\n",
        "print(s1)\n",
        "'''\n",
        "#For with out Range\n",
        "'''\n",
        "for i in s1:\n",
        "  print(i)\n",
        "'''\n",
        "#Keyargs\n",
        "'''\n",
        "print(*s1,sep=\" \")\n",
        "'''\n",
        "'''\n",
        "for i in s1:\n",
        "  print(i,end=\" \")\n",
        "'''"
      ],
      "metadata": {
        "id": "PnfzQ2jlhDU5",
        "colab": {
          "base_uri": "https://localhost:8080/"
        },
        "outputId": "62fde6ab-7c60-4d1a-dd21-82ba1620e34e"
      },
      "execution_count": 16,
      "outputs": [
        {
          "output_type": "stream",
          "name": "stdout",
          "text": [
            "{8, 1, 2, 6}\n",
            "8\n",
            "1\n",
            "2\n",
            "6\n",
            "8 1 2 6\n",
            "8 1 2 6 "
          ]
        }
      ]
    },
    {
      "cell_type": "markdown",
      "source": [
        "#**Accessing Elements of Dictionary**\n",
        "    For Without Range"
      ],
      "metadata": {
        "id": "ylXz_7Z9hDxp"
      }
    },
    {
      "cell_type": "code",
      "source": [
        "d = {1:10,2:20,3:30,4:40,5:50}\n",
        "#Without range\n",
        "'''\n",
        "for i in d:\n",
        "  print(i)\n",
        "  print(d[i])\n",
        "'''"
      ],
      "metadata": {
        "id": "C7DFoCf6hHaq",
        "colab": {
          "base_uri": "https://localhost:8080/"
        },
        "outputId": "f6a9a554-51be-47fd-850a-efdc15e14f4c"
      },
      "execution_count": 18,
      "outputs": [
        {
          "output_type": "stream",
          "name": "stdout",
          "text": [
            "1\n",
            "10\n",
            "2\n",
            "20\n",
            "3\n",
            "30\n",
            "4\n",
            "40\n",
            "5\n",
            "50\n"
          ]
        }
      ]
    },
    {
      "cell_type": "markdown",
      "source": [
        "#**NESTED CONTROL STATEMENTS**\n",
        "\n",
        "#Types:\n",
        "    1. For in For\n",
        "    2. For in while\n",
        "    3. While in while\n",
        "    4. For in for"
      ],
      "metadata": {
        "id": "9irtNmxX3taM"
      }
    },
    {
      "cell_type": "code",
      "source": [
        "#Pattern - 1\n",
        "'''\n",
        "for i in range(3):\n",
        "    for j in range(3):\n",
        "      print(\"*\",end=\" \")\n",
        "    print()\n",
        "'''\n",
        "#Pattern - 2\n",
        "'''\n",
        "for i in range(3):\n",
        "  for j in range(4):\n",
        "    print(\"#\",end=\" \")\n",
        "  print()\n",
        "'''\n",
        "#Pattern - 3\n",
        "'''\n",
        "n = 4\n",
        "for i in range(n):\n",
        "  for j in range(n):\n",
        "    if (i>=j):\n",
        "      print(\"*\",end= \" \")\n",
        "    else:\n",
        "      print(\"#\",end=\" \")\n",
        "  print()\n",
        "'''\n",
        "#Pattern - 4\n",
        "'''\n",
        "temp = 1\n",
        "n = 4\n",
        "for i in range(n):\n",
        "  for j in range(n):\n",
        "    print(temp,end=\" \")\n",
        "    temp = temp + 1\n",
        "  print()\n",
        "  temp = 1\n",
        "'''\n",
        "'''\n",
        "n = 4\n",
        "for i in range(n):\n",
        "  for j in range(n):\n",
        "    print(j+1,end=\" \")\n",
        "  print()\n",
        "'''\n",
        "#Pattern - 5\n",
        "'''\n",
        "n = 4\n",
        "for i in range(n):\n",
        "  for j in range(n):\n",
        "    print(i+1,end=\" \")\n",
        "  print()\n",
        "'''\n",
        "#Pattern - 6\n",
        "'''\n",
        "n = 4\n",
        "for i in range(n):\n",
        "  if i%2 == 0:\n",
        "    for j in range(n):\n",
        "      print(\"*\",end= \" \")\n",
        "  else:\n",
        "    for j in range(n):\n",
        "      print(j+1,end= \" \")\n",
        "  print()\n",
        "'''\n",
        "#Pattern - 7\n",
        "'''\n",
        "n = 4\n",
        "for i in range(n):\n",
        "  for j in range(n):\n",
        "    if i==0 or i==n-1 or j==0 or j==n-1:\n",
        "      print(\"*\",end=\" \")\n",
        "    else:\n",
        "      print(\" \",end=\" \")\n",
        "  print()\n",
        "'''"
      ],
      "metadata": {
        "colab": {
          "base_uri": "https://localhost:8080/"
        },
        "id": "byNDjrRavaPD",
        "outputId": "3b4c6d07-c8ae-42fb-af8b-93e20791626a"
      },
      "execution_count": 40,
      "outputs": [
        {
          "output_type": "stream",
          "name": "stdout",
          "text": [
            "* * * * \n",
            "*     * \n",
            "*     * \n",
            "* * * * \n"
          ]
        }
      ]
    }
  ]
}