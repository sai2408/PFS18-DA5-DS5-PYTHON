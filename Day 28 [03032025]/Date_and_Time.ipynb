{
  "nbformat": 4,
  "nbformat_minor": 0,
  "metadata": {
    "colab": {
      "provenance": []
    },
    "kernelspec": {
      "name": "python3",
      "display_name": "Python 3"
    },
    "language_info": {
      "name": "python"
    }
  },
  "cells": [
    {
      "cell_type": "markdown",
      "source": [
        "#DATE & TIME\n",
        "    1. date\n",
        "    2. time\n",
        "    3. datetime\n",
        "    4. timedelta"
      ],
      "metadata": {
        "id": "G3rzKDyYQ7Vj"
      }
    },
    {
      "cell_type": "markdown",
      "source": [
        "#date\n",
        "    1. today()\n",
        "        1.1. today().year\n",
        "        1.2. today().month\n",
        "        1.3. today().day\n",
        "    2. date(yyyy,mm,dd)\n",
        "\n"
      ],
      "metadata": {
        "id": "dCRayrouTq8V"
      }
    },
    {
      "cell_type": "code",
      "source": [
        "from datetime import date\n",
        "\n",
        "# Current date\n",
        "current_date = date.today()\n",
        "print(current_date)\n",
        "\n",
        "# Create a specific date\n",
        "specific_date = date(2024, 8, 24)\n",
        "print(specific_date)\n",
        "\n",
        "# Extract year, month, day\n",
        "print(current_date.year)\n",
        "print(current_date.month)\n",
        "print(current_date.day)\n"
      ],
      "metadata": {
        "id": "K_sCghrKTvdY",
        "colab": {
          "base_uri": "https://localhost:8080/"
        },
        "outputId": "590472a7-aa87-4280-e671-d35a48195a78"
      },
      "execution_count": 3,
      "outputs": [
        {
          "output_type": "stream",
          "name": "stdout",
          "text": [
            "Current Date: 2025-03-03\n",
            "Specific Date: 2024-08-24\n",
            "Year: 2025\n",
            "Month: 3\n",
            "Day: 3\n"
          ]
        }
      ]
    },
    {
      "cell_type": "markdown",
      "source": [
        "#time\n",
        "    1. time(hh,mm,ss)\n",
        "        1.1. time(hh,mm,ss).hour\n",
        "        1.2. time(hh,mm,ss).minute\n",
        "        1.3. time(hh,mm,ss).second\n",
        "    "
      ],
      "metadata": {
        "id": "ZiHiJYnZTstO"
      }
    },
    {
      "cell_type": "code",
      "source": [
        "from datetime import time\n",
        "\n",
        "# Create a specific time\n",
        "specific_time = time(14, 30, 45)  # 2:30:45 PM\n",
        "print(specific_time)\n",
        "\n",
        "# Extract hour, minute, second\n",
        "print(specific_time.hour)\n",
        "print(specific_time.minute)\n",
        "print(specific_time.second)\n"
      ],
      "metadata": {
        "id": "Hv5G135kT_l_",
        "colab": {
          "base_uri": "https://localhost:8080/"
        },
        "outputId": "7d48b318-e770-45dc-fe1a-1dd9e7b2c486"
      },
      "execution_count": 4,
      "outputs": [
        {
          "output_type": "stream",
          "name": "stdout",
          "text": [
            "14:30:45\n",
            "Hour: 14\n",
            "Minute: 30\n",
            "Second: 45\n"
          ]
        }
      ]
    },
    {
      "cell_type": "markdown",
      "source": [
        "#datetime\n",
        "    1. datetime.now()\n",
        "    2. datetime.today()\n",
        "    3. datetime.now().time()"
      ],
      "metadata": {
        "id": "X-VobpGdTtk1"
      }
    },
    {
      "cell_type": "code",
      "source": [
        "from datetime import datetime\n",
        "\n",
        "# Current date and time\n",
        "now = datetime.now()\n",
        "print(now)\n",
        "\n",
        "# Current date\n",
        "today = datetime.today()\n",
        "print(today)\n",
        "\n",
        "print(datetime.now().time())"
      ],
      "metadata": {
        "id": "aBeSzQRhT3hd",
        "colab": {
          "base_uri": "https://localhost:8080/"
        },
        "outputId": "2eaf94a9-a25f-4f10-9f90-2c50838365fd"
      },
      "execution_count": 9,
      "outputs": [
        {
          "output_type": "stream",
          "name": "stdout",
          "text": [
            "Current Date and Time: 2025-03-03 11:21:47.809038\n",
            "Today's Date: 2025-03-03 11:21:47.809250\n",
            "11:21:47.809333\n"
          ]
        }
      ]
    },
    {
      "cell_type": "code",
      "source": [
        "import datetime\n",
        "print(datetime.datetime.now().time())"
      ],
      "metadata": {
        "colab": {
          "base_uri": "https://localhost:8080/"
        },
        "id": "Hbx9TYlKwQGD",
        "outputId": "5a4cb43e-a549-46d9-fd3b-3aec174970c2"
      },
      "execution_count": 11,
      "outputs": [
        {
          "output_type": "stream",
          "name": "stdout",
          "text": [
            "11:25:49.604647\n"
          ]
        }
      ]
    },
    {
      "cell_type": "markdown",
      "source": [
        "#Formatting Date and Time\n",
        "    1. now.strftime(<format>)\n",
        "        %Y - Year\n",
        "        %m - Month\n",
        "        %d - day\n",
        "        %H - Hour\n",
        "        %M - Minute\n",
        "        %S - Second\n",
        "    2. datetime.strptime(<date string>,<format>)"
      ],
      "metadata": {
        "id": "Iy5kGuB2UF1a"
      }
    },
    {
      "cell_type": "code",
      "source": [
        "from datetime import datetime\n",
        "# Format the current date and time\n",
        "formatted = now.strftime(\"%d-%m/%Y %H:%M:%S\")\n",
        "print(formatted)\n",
        "\n",
        "day = now.strftime(\"%A\")\n",
        "print(day)\n",
        "\n",
        "# Parse a string into a datetime object\n",
        "date_string = \"2024-12-30 14:30:45\"\n",
        "parsed_date = datetime.strptime(date_string, \"%Y-%m-%d %H:%M:%S\")\n",
        "print(parsed_date)\n"
      ],
      "metadata": {
        "id": "oKUqSD5kUIC6",
        "colab": {
          "base_uri": "https://localhost:8080/"
        },
        "outputId": "a3644c0c-d62a-4667-b214-47941889c93f"
      },
      "execution_count": 39,
      "outputs": [
        {
          "output_type": "stream",
          "name": "stdout",
          "text": [
            "03-03/2025 11:21:47\n",
            "Monday\n",
            "2024-12-30 14:30:45\n"
          ]
        }
      ]
    },
    {
      "cell_type": "markdown",
      "source": [
        "#Performing Date Arithmetic\n"
      ],
      "metadata": {
        "id": "SpU717BGUMN8"
      }
    },
    {
      "cell_type": "code",
      "source": [
        "from datetime import timedelta\n",
        "print(current_date)\n",
        "# Add 10 days to the current date\n",
        "future_date = current_date + timedelta(days=10)\n",
        "print(future_date)\n",
        "\n",
        "# Subtract 5 days from the current date\n",
        "past_date = current_date - timedelta(days=5)\n",
        "print(past_date)\n",
        "\n",
        "# Calculate difference between two dates\n",
        "difference = future_date - current_date\n",
        "print(difference.days)\n"
      ],
      "metadata": {
        "id": "wD91EtczUNr8",
        "colab": {
          "base_uri": "https://localhost:8080/"
        },
        "outputId": "cd550e85-0951-470a-a67e-1ea18193239c"
      },
      "execution_count": 38,
      "outputs": [
        {
          "output_type": "stream",
          "name": "stdout",
          "text": [
            "2025-03-03\n",
            "2025-03-13\n",
            "2025-02-26\n",
            "10\n"
          ]
        }
      ]
    },
    {
      "cell_type": "markdown",
      "source": [
        "#Time Module\n",
        "    1. time.time()\n",
        "    2. time.sleep(<value>)"
      ],
      "metadata": {
        "id": "beRhyrohUX2q"
      }
    },
    {
      "cell_type": "code",
      "source": [
        "import time\n",
        "\n",
        "# Get the current time as a timestamp\n",
        "current_timestamp = time.time()\n",
        "print(\"Current Timestamp:\", current_timestamp)\n",
        "\n",
        "# Sleep for 2 seconds\n",
        "print(\"Waiting for 2 seconds...\")\n",
        "time.sleep(2)\n",
        "print(\"Done!\")\n"
      ],
      "metadata": {
        "id": "-a_seNmQUXVh"
      },
      "execution_count": null,
      "outputs": []
    }
  ]
}