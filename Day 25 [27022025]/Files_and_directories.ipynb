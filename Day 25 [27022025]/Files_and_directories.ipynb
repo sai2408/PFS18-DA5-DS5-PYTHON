{
  "nbformat": 4,
  "nbformat_minor": 0,
  "metadata": {
    "colab": {
      "provenance": []
    },
    "kernelspec": {
      "name": "python3",
      "display_name": "Python 3"
    },
    "language_info": {
      "name": "python"
    }
  },
  "cells": [
    {
      "cell_type": "markdown",
      "source": [
        "#File Handling in Python\n",
        "\n",
        "    Operations\n",
        "      1. Opening a file\n",
        "      2. Reading Data From file\n",
        "      3. Writing Data into file\n",
        "      4. Adding Data into existing File\n",
        "      5. closing a file"
      ],
      "metadata": {
        "id": "7kia_Rxi6rF2"
      }
    },
    {
      "cell_type": "markdown",
      "source": [
        "#Syntax\n",
        "    varible_name = open(filename,Mode)\n",
        "\n",
        "    Filename : Relative or Absolute path of a file\n",
        "    Mode: String that indicates what to do with the file\n",
        "\n",
        "#Modes\n",
        "\n",
        "    'r': Read (default mode, file must exist)\n",
        "    'w': Write (creates file if not exists, overwrites if exists)\n",
        "    'a': Append (adds content to the end, creates file if not exists)\n",
        "    'r+': Read and Write (reads and writes data at a single time)"
      ],
      "metadata": {
        "id": "G5itJ0QO7TQ9"
      }
    },
    {
      "cell_type": "markdown",
      "source": [
        "#Reading a File"
      ],
      "metadata": {
        "id": "csYGeB3P8Fzp"
      }
    },
    {
      "cell_type": "code",
      "execution_count": 2,
      "metadata": {
        "id": "ckI0WJtB6j-_",
        "colab": {
          "base_uri": "https://localhost:8080/"
        },
        "outputId": "daaead22-1cb4-4de9-cc0b-039ff5986115"
      },
      "outputs": [
        {
          "output_type": "stream",
          "name": "stdout",
          "text": [
            "Hello Codegnan\n"
          ]
        }
      ],
      "source": [
        "f1 = open(\"sample.txt\",\"r\")\n",
        "x = f1.read()\n",
        "print(x)\n",
        "f1.close()"
      ]
    },
    {
      "cell_type": "code",
      "source": [
        "f11 = open(\"hello.txt\",\"r\")\n",
        "k = f11.read()\n",
        "print(k)\n",
        "f11.close()"
      ],
      "metadata": {
        "colab": {
          "base_uri": "https://localhost:8080/"
        },
        "id": "GMMK2LgSFk-2",
        "outputId": "c9637b76-a928-4cf6-8d93-f8f963492b61"
      },
      "execution_count": 4,
      "outputs": [
        {
          "output_type": "stream",
          "name": "stdout",
          "text": [
            "hello World\n"
          ]
        }
      ]
    },
    {
      "cell_type": "markdown",
      "source": [
        "#Writing into a file"
      ],
      "metadata": {
        "id": "ycV7OOII8L1-"
      }
    },
    {
      "cell_type": "code",
      "source": [
        "f2 = open(\"sample.txt\",\"w\")\n",
        "f2.write(\"Hello Codegnan\")\n",
        "f2.close()"
      ],
      "metadata": {
        "id": "XuqSu_p78RnC"
      },
      "execution_count": 1,
      "outputs": []
    },
    {
      "cell_type": "code",
      "source": [
        "f3 = open(\"sample.txt\",\"w\")\n",
        "f3.write(\"Updated Data\")\n",
        "f3.close()"
      ],
      "metadata": {
        "id": "poGj007sFsWu"
      },
      "execution_count": 5,
      "outputs": []
    },
    {
      "cell_type": "markdown",
      "source": [
        "#Appending into a file"
      ],
      "metadata": {
        "id": "R56tG-CX8SIa"
      }
    },
    {
      "cell_type": "code",
      "source": [
        "f3 = open(\"abc.txt\",\"a\")\n",
        "f3.write(\"Hello New File\")\n",
        "f3.close()"
      ],
      "metadata": {
        "id": "k9jsKeHd8U5H"
      },
      "execution_count": 6,
      "outputs": []
    },
    {
      "cell_type": "code",
      "source": [
        "f4 = open(\"abc.txt\",\"a\")\n",
        "f4.write(\"\\nHello New Line\")\n",
        "f4.close()"
      ],
      "metadata": {
        "id": "Rch-1thNH4Bo"
      },
      "execution_count": 7,
      "outputs": []
    },
    {
      "cell_type": "markdown",
      "source": [
        "#Read and Write"
      ],
      "metadata": {
        "id": "nixF24B78gxx"
      }
    },
    {
      "cell_type": "code",
      "source": [
        "f5 = open(\"hello.txt\",\"r+\")\n",
        "x1 = f5.read()\n",
        "print(x1)\n",
        "f5.write(\"\\nHello Codegnan\")\n",
        "f5.close()"
      ],
      "metadata": {
        "id": "mGykSZ9W8iBl",
        "colab": {
          "base_uri": "https://localhost:8080/"
        },
        "outputId": "54e57ac3-d0bb-441e-fbdf-84b382c78bf9"
      },
      "execution_count": 9,
      "outputs": [
        {
          "output_type": "stream",
          "name": "stdout",
          "text": [
            "hello World\n"
          ]
        }
      ]
    },
    {
      "cell_type": "markdown",
      "source": [
        "#Seek Method"
      ],
      "metadata": {
        "id": "Y1nPmrLq8mmN"
      }
    },
    {
      "cell_type": "code",
      "source": [
        "f6 = open(\"abc.txt\",\"r\")\n",
        "x = f6.read()\n",
        "print(x)\n",
        "f6.close()"
      ],
      "metadata": {
        "id": "dYobyC9Q8oCX",
        "colab": {
          "base_uri": "https://localhost:8080/"
        },
        "outputId": "4ef39033-ceef-4eb8-c167-fa73e06bb2c6"
      },
      "execution_count": 12,
      "outputs": [
        {
          "output_type": "stream",
          "name": "stdout",
          "text": [
            "Hello codegnan\n"
          ]
        }
      ]
    },
    {
      "cell_type": "code",
      "source": [
        "f6 = open(\"abc.txt\",\"r\")\n",
        "f6.seek(5)\n",
        "x = f6.read()\n",
        "print(x)\n",
        "f6.close()"
      ],
      "metadata": {
        "colab": {
          "base_uri": "https://localhost:8080/"
        },
        "id": "ax2SenQaJyIC",
        "outputId": "2d6cb12c-780e-42f2-b0f4-20cecb52a6dd"
      },
      "execution_count": 11,
      "outputs": [
        {
          "output_type": "stream",
          "name": "stdout",
          "text": [
            " codegnan\n"
          ]
        }
      ]
    },
    {
      "cell_type": "markdown",
      "source": [
        "#Directories\n",
        "    1. mkdir()\n",
        "    2. rmdir()\n",
        "    3. chdir()\n",
        "    4. listdir()\n",
        "    5. rename()\n"
      ],
      "metadata": {
        "id": "FWleFQWA8s2H"
      }
    },
    {
      "cell_type": "markdown",
      "source": [
        "#Importing OS"
      ],
      "metadata": {
        "id": "bmHUqaxN9FUB"
      }
    },
    {
      "cell_type": "code",
      "source": [
        "from os import *"
      ],
      "metadata": {
        "id": "5proGIfH9E0u"
      },
      "execution_count": 13,
      "outputs": []
    },
    {
      "cell_type": "code",
      "source": [
        "mkdir(\"codegnan\")"
      ],
      "metadata": {
        "id": "YurgVSOhK4MP"
      },
      "execution_count": 14,
      "outputs": []
    },
    {
      "cell_type": "code",
      "source": [
        "mkdir(\"sample\")"
      ],
      "metadata": {
        "id": "g5ZoX2XhLEZX"
      },
      "execution_count": 15,
      "outputs": []
    },
    {
      "cell_type": "code",
      "source": [
        "rmdir(\"sample\")"
      ],
      "metadata": {
        "id": "AIJbWtrTLJyS"
      },
      "execution_count": 16,
      "outputs": []
    },
    {
      "cell_type": "code",
      "source": [
        "print(listdir())"
      ],
      "metadata": {
        "colab": {
          "base_uri": "https://localhost:8080/"
        },
        "id": "BOruxvY-LSRC",
        "outputId": "e724e38a-6e40-4b5e-ce44-f5540e31cc84"
      },
      "execution_count": 18,
      "outputs": [
        {
          "output_type": "stream",
          "name": "stdout",
          "text": [
            "['.config', 'hello.txt', 'codegnan', 'sample.txt', 'abc.txt', '.ipynb_checkpoints', 'sample_data']\n"
          ]
        }
      ]
    },
    {
      "cell_type": "code",
      "source": [
        "chdir(\"codegnan\")"
      ],
      "metadata": {
        "id": "HF9PZtLbLj73"
      },
      "execution_count": 19,
      "outputs": []
    },
    {
      "cell_type": "code",
      "source": [
        "print(listdir())"
      ],
      "metadata": {
        "colab": {
          "base_uri": "https://localhost:8080/"
        },
        "id": "Gq4OretILskp",
        "outputId": "e7db1744-8971-43a9-d42d-cdeec3362464"
      },
      "execution_count": 20,
      "outputs": [
        {
          "output_type": "stream",
          "name": "stdout",
          "text": [
            "['file2.txt', 'file1.txt', '.ipynb_checkpoints']\n"
          ]
        }
      ]
    },
    {
      "cell_type": "code",
      "source": [
        "mkdir(\"code\")"
      ],
      "metadata": {
        "id": "8KFSWWbIMru9"
      },
      "execution_count": 22,
      "outputs": []
    },
    {
      "cell_type": "code",
      "source": [
        "print(listdir())"
      ],
      "metadata": {
        "colab": {
          "base_uri": "https://localhost:8080/"
        },
        "id": "olA1dYICMzq2",
        "outputId": "a82a8a0c-66f4-4975-96ab-41f80be88f22"
      },
      "execution_count": 23,
      "outputs": [
        {
          "output_type": "stream",
          "name": "stdout",
          "text": [
            "['file2.txt', 'file1.txt', '.ipynb_checkpoints', 'code']\n"
          ]
        }
      ]
    },
    {
      "cell_type": "code",
      "source": [
        "rename(\"code\",\"updated_folder\")"
      ],
      "metadata": {
        "id": "4rFX6ZGzMmJD"
      },
      "execution_count": 24,
      "outputs": []
    },
    {
      "cell_type": "code",
      "source": [
        "chdir(\"..\")"
      ],
      "metadata": {
        "id": "ejq3wVXsNH92"
      },
      "execution_count": 25,
      "outputs": []
    },
    {
      "cell_type": "code",
      "source": [
        "print(listdir())"
      ],
      "metadata": {
        "colab": {
          "base_uri": "https://localhost:8080/"
        },
        "id": "6GJ19TYhNJjV",
        "outputId": "ef329c2b-4fa0-4c72-cd41-bfe6ce86a267"
      },
      "execution_count": 26,
      "outputs": [
        {
          "output_type": "stream",
          "name": "stdout",
          "text": [
            "['.config', 'hello.txt', 'codegnan', 'sample.txt', 'abc.txt', '.ipynb_checkpoints', 'sample_data']\n"
          ]
        }
      ]
    },
    {
      "cell_type": "code",
      "source": [
        "#Problem - 1\n",
        "print(listdir())\n",
        "from os import *\n",
        "f7 = open(\"details.txt\",\"r+\")\n",
        "n = int(input(\"Enter N value: \"))\n",
        "for i in range(n):\n",
        "  print(f\"Enter {i+1} Details: \")\n",
        "  roll = input(\"Enter Roll number: \")\n",
        "  name = input(\"Enter Name: \")\n",
        "  email = input(\"Enter Email: \")\n",
        "  phone = input(\"Enter Phone Number: \")\n",
        "  f7.write(f\"Roll Number: {roll}\\nName: {name}\\nEmail: {email}\\nPhone Number: {phone}\\n\\n\")\n",
        "  f7.write(\"-----------------------------------\")\n",
        "f7.close()\n"
      ],
      "metadata": {
        "colab": {
          "base_uri": "https://localhost:8080/",
          "height": 248
        },
        "id": "b165q4v8Plq-",
        "outputId": "081b3df1-5139-4c90-d15a-33a2b823bc39"
      },
      "execution_count": 40,
      "outputs": [
        {
          "output_type": "stream",
          "name": "stdout",
          "text": [
            "['.config', 'hello.txt', 'codegnan', 'hello123.txt', 'sample.txt', 'abc.txt', '.ipynb_checkpoints', 'details.txt', 'sample_data']\n"
          ]
        },
        {
          "output_type": "error",
          "ename": "TypeError",
          "evalue": "'str' object cannot be interpreted as an integer",
          "traceback": [
            "\u001b[0;31m---------------------------------------------------------------------------\u001b[0m",
            "\u001b[0;31mTypeError\u001b[0m                                 Traceback (most recent call last)",
            "\u001b[0;32m<ipython-input-40-082a84dbe2ec>\u001b[0m in \u001b[0;36m<cell line: 0>\u001b[0;34m()\u001b[0m\n\u001b[1;32m      2\u001b[0m \u001b[0mprint\u001b[0m\u001b[0;34m(\u001b[0m\u001b[0mlistdir\u001b[0m\u001b[0;34m(\u001b[0m\u001b[0;34m)\u001b[0m\u001b[0;34m)\u001b[0m\u001b[0;34m\u001b[0m\u001b[0;34m\u001b[0m\u001b[0m\n\u001b[1;32m      3\u001b[0m \u001b[0;32mfrom\u001b[0m \u001b[0mos\u001b[0m \u001b[0;32mimport\u001b[0m \u001b[0;34m*\u001b[0m\u001b[0;34m\u001b[0m\u001b[0;34m\u001b[0m\u001b[0m\n\u001b[0;32m----> 4\u001b[0;31m \u001b[0mf7\u001b[0m \u001b[0;34m=\u001b[0m \u001b[0mopen\u001b[0m\u001b[0;34m(\u001b[0m\u001b[0;34m\"details.txt\"\u001b[0m\u001b[0;34m,\u001b[0m\u001b[0;34m\"r+\"\u001b[0m\u001b[0;34m)\u001b[0m\u001b[0;34m\u001b[0m\u001b[0;34m\u001b[0m\u001b[0m\n\u001b[0m\u001b[1;32m      5\u001b[0m \u001b[0mn\u001b[0m \u001b[0;34m=\u001b[0m \u001b[0mint\u001b[0m\u001b[0;34m(\u001b[0m\u001b[0minput\u001b[0m\u001b[0;34m(\u001b[0m\u001b[0;34m\"Enter N value: \"\u001b[0m\u001b[0;34m)\u001b[0m\u001b[0;34m)\u001b[0m\u001b[0;34m\u001b[0m\u001b[0;34m\u001b[0m\u001b[0m\n\u001b[1;32m      6\u001b[0m \u001b[0;32mfor\u001b[0m \u001b[0mi\u001b[0m \u001b[0;32min\u001b[0m \u001b[0mrange\u001b[0m\u001b[0;34m(\u001b[0m\u001b[0mn\u001b[0m\u001b[0;34m)\u001b[0m\u001b[0;34m:\u001b[0m\u001b[0;34m\u001b[0m\u001b[0;34m\u001b[0m\u001b[0m\n",
            "\u001b[0;31mTypeError\u001b[0m: 'str' object cannot be interpreted as an integer"
          ]
        }
      ]
    },
    {
      "cell_type": "code",
      "source": [
        "x1 = open(\"abc.txt\",\"r\")\n",
        "print(x1.read())\n",
        "x1.close()"
      ],
      "metadata": {
        "colab": {
          "base_uri": "https://localhost:8080/",
          "height": 176
        },
        "id": "ZxDgB2UdRGlu",
        "outputId": "304fb196-8fc8-4272-bcaf-d0bd8134dc37"
      },
      "execution_count": 39,
      "outputs": [
        {
          "output_type": "error",
          "ename": "TypeError",
          "evalue": "'str' object cannot be interpreted as an integer",
          "traceback": [
            "\u001b[0;31m---------------------------------------------------------------------------\u001b[0m",
            "\u001b[0;31mTypeError\u001b[0m                                 Traceback (most recent call last)",
            "\u001b[0;32m<ipython-input-39-9cca25e4c655>\u001b[0m in \u001b[0;36m<cell line: 0>\u001b[0;34m()\u001b[0m\n\u001b[0;32m----> 1\u001b[0;31m \u001b[0mx1\u001b[0m \u001b[0;34m=\u001b[0m \u001b[0mopen\u001b[0m\u001b[0;34m(\u001b[0m\u001b[0;34m\"abc.txt\"\u001b[0m\u001b[0;34m,\u001b[0m\u001b[0;34m\"r\"\u001b[0m\u001b[0;34m)\u001b[0m\u001b[0;34m\u001b[0m\u001b[0;34m\u001b[0m\u001b[0m\n\u001b[0m\u001b[1;32m      2\u001b[0m \u001b[0mprint\u001b[0m\u001b[0;34m(\u001b[0m\u001b[0mx1\u001b[0m\u001b[0;34m.\u001b[0m\u001b[0mread\u001b[0m\u001b[0;34m(\u001b[0m\u001b[0;34m)\u001b[0m\u001b[0;34m)\u001b[0m\u001b[0;34m\u001b[0m\u001b[0;34m\u001b[0m\u001b[0m\n\u001b[1;32m      3\u001b[0m \u001b[0mx1\u001b[0m\u001b[0;34m.\u001b[0m\u001b[0mclose\u001b[0m\u001b[0;34m(\u001b[0m\u001b[0;34m)\u001b[0m\u001b[0;34m\u001b[0m\u001b[0;34m\u001b[0m\u001b[0m\n",
            "\u001b[0;31mTypeError\u001b[0m: 'str' object cannot be interpreted as an integer"
          ]
        }
      ]
    },
    {
      "cell_type": "code",
      "source": [],
      "metadata": {
        "id": "e-GR4nT_R5W8"
      },
      "execution_count": null,
      "outputs": []
    }
  ]
}