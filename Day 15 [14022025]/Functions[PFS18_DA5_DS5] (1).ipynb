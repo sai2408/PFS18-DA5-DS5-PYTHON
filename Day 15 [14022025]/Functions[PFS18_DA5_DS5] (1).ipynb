{
  "nbformat": 4,
  "nbformat_minor": 0,
  "metadata": {
    "colab": {
      "provenance": []
    },
    "kernelspec": {
      "name": "python3",
      "display_name": "Python 3"
    },
    "language_info": {
      "name": "python"
    }
  },
  "cells": [
    {
      "cell_type": "markdown",
      "source": [
        "#**Functions**\n",
        "    A function in Python is a block of reusable code that performs a specific task.\n",
        "    Functions help improve code reusability.\n",
        "\n",
        "#**Types of Functions**\n",
        "    1. Builtin Functions\n",
        "    2. User Defined Functions\n",
        "    3. Lambda Functions"
      ],
      "metadata": {
        "id": "xb7zWUjI0B1b"
      }
    },
    {
      "cell_type": "markdown",
      "source": [
        "#**Builtin functions**\n",
        "    1. abs()\n",
        "    2. chr()\n",
        "    3. ord()\n",
        "    4. eval()\n",
        "    5. bin()\n",
        "    6. hex()\n",
        "    7. oct()\n"
      ],
      "metadata": {
        "id": "DzExNQrM0kWg"
      }
    },
    {
      "cell_type": "code",
      "execution_count": null,
      "metadata": {
        "id": "MDwq0OFcz8lo",
        "colab": {
          "base_uri": "https://localhost:8080/"
        },
        "outputId": "d75ef216-dfa6-4abf-8004-04b560c9729f"
      },
      "outputs": [
        {
          "output_type": "stream",
          "name": "stdout",
          "text": [
            "0b1010\n",
            "0xa\n",
            "0o12\n"
          ]
        }
      ],
      "source": [
        "'''\n",
        "a = -20\n",
        "x = abs(a)\n",
        "print(x)\n",
        "a = 20\n",
        "print(abs(a))\n",
        "print(abs(-10))\n",
        "'''\n",
        "'''\n",
        "a = \"A\"\n",
        "b = \"B\"\n",
        "c = \"C\"\n",
        "z = \"Z\"\n",
        "print(ord(a))\n",
        "print(ord(b))\n",
        "print(ord(c))\n",
        "print(ord(z))\n",
        "print(ord(\"a\"))\n",
        "for i in range(1,201):\n",
        "  print(chr(i))\n",
        "'''\n",
        "'''\n",
        "print(chr(65))\n",
        "print(chr(97))\n",
        "'''\n",
        "'''\n",
        "a = \"10+20\"\n",
        "x = a.split(\"+\")\n",
        "print(x)\n",
        "print(int(x[0])+int(x[1]))\n",
        "a = \"10+20-10\"\n",
        "print(a.split(\"-\"))\n",
        "'''\n",
        "'''\n",
        "a = \"(10+20-10)//10\"\n",
        "print(eval(a))\n",
        "'''\n",
        "'''\n",
        "a = 10\n",
        "print(bin(a))\n",
        "print(hex(a))\n",
        "print(oct(a))\n",
        "'''"
      ]
    },
    {
      "cell_type": "markdown",
      "source": [
        "#**User Defined Functions**\n",
        "    1. With Parameters With Return Types\n",
        "    2. With Parameters Without Return Types\n",
        "    3. Without Parameters With Return Types\n",
        "    4. Without Parameters Without Return Types\n",
        "    5. Recursive Functions"
      ],
      "metadata": {
        "id": "mEPlnVC01qeH"
      }
    },
    {
      "cell_type": "code",
      "source": [
        "#i/O -> 10 20\n",
        "#O/P -> 30\n",
        "#       200\n",
        "#WP-WR\n",
        "'''\n",
        "def codegnan1(a,b):\n",
        "    c = a + b\n",
        "    d = a*b\n",
        "    return c,d\n",
        "n1,n2 = map(int,input().split())\n",
        "r1,r2 = codegnan1(n1,n2)\n",
        "print(r1)\n",
        "print(r2)\n",
        "'''\n",
        "#WP-WOR\n",
        "'''\n",
        "def codegnan2(a,b):\n",
        "    c = a + b\n",
        "    d = a * b\n",
        "    print(c)\n",
        "    print(d)\n",
        "n1,n2 = map(int,input().split())\n",
        "codegnan2(n1,n2)\n",
        "'''\n",
        "#WOP - WR\n",
        "'''\n",
        "def codegnan3():\n",
        "    a,b = map(int,input().split())\n",
        "    c = a + b\n",
        "    d = a * b\n",
        "    return c,d\n",
        "v1,v2 = codegnan3()\n",
        "print(v1)\n",
        "print(v2)\n",
        "'''\n",
        "#WOP - WOR\n",
        "'''\n",
        "def codegnan3():\n",
        "    a,b = map(int,input().split())\n",
        "    c = a + b\n",
        "    d = a * b\n",
        "    print(c)\n",
        "    print(d)\n",
        "codegnan3()\n",
        "'''\n",
        "#Problem - 1\n",
        "def choclates(n,x):\n",
        "  if x >= n:\n",
        "      print(0)\n",
        "  else:\n",
        "    req = n-x\n",
        "    if req%4 == 0:\n",
        "      print(req//4)\n",
        "    else:\n",
        "      print((req//4)+1)\n",
        "t = int(input())\n",
        "for i in range(t):\n",
        "    n,x = map(int,input().split())\n",
        "    choclates(n,x)"
      ],
      "metadata": {
        "colab": {
          "base_uri": "https://localhost:8080/"
        },
        "id": "xQBeqkIgHgnl",
        "outputId": "70e6d01d-6c64-44bb-c163-55415b5ba8d1"
      },
      "execution_count": null,
      "outputs": [
        {
          "output_type": "stream",
          "name": "stdout",
          "text": [
            "4\n",
            "20 12\n",
            "2\n",
            "10 100\n",
            "0\n",
            "10 9\n",
            "1\n",
            "20 9\n",
            "3\n"
          ]
        }
      ]
    },
    {
      "cell_type": "code",
      "source": [
        "#Recu [ WP - WOR ]\n",
        "'''\n",
        "def fun1(n):\n",
        "    if n > 0:\n",
        "        print(n)\n",
        "        fun1(n-1)\n",
        "fun1(5)\n",
        "'''\n",
        "#Recu [ WP - WR ]\n",
        "'''\n",
        "def fun1(n):\n",
        "    if n > 0:\n",
        "        print(n)\n",
        "    else:\n",
        "        return\n",
        "    fun1(n-1)\n",
        "fun1(5)\n",
        "'''\n",
        "#Problem - 1 [Print 1 to 5 using RF]\n",
        "#Approach - 1\n",
        "'''\n",
        "def hello(n):\n",
        "  if n > 0:\n",
        "      hello(n-1)\n",
        "      print(n)\n",
        "hello(5)\n",
        "'''\n",
        "#Appproach - 2\n",
        "'''\n",
        "def hello(n,m):\n",
        "    if n >= 1:\n",
        "        print(m)\n",
        "        hello(n-1,m+1)\n",
        "hello(5,1)\n",
        "'''"
      ],
      "metadata": {
        "colab": {
          "base_uri": "https://localhost:8080/"
        },
        "id": "PJi3PavxHxHk",
        "outputId": "1e5e2147-93b8-4ce5-c4dd-e34c3d6a44f7"
      },
      "execution_count": 7,
      "outputs": [
        {
          "output_type": "stream",
          "name": "stdout",
          "text": [
            "1\n",
            "2\n",
            "3\n",
            "4\n",
            "5\n"
          ]
        }
      ]
    },
    {
      "cell_type": "markdown",
      "source": [
        "#**Pass By Reference**\n",
        "    All parameters (arguments) in python language are passed by reference\n",
        "    It means when we change a parameter within a function the change will reflects in main object\n"
      ],
      "metadata": {
        "id": "a2Hog2Dc193M"
      }
    },
    {
      "cell_type": "code",
      "source": [
        "def hello(x):\n",
        "    x[2] = 250\n",
        "\n",
        "n = [10,20,30,40]\n",
        "print(n)\n",
        "hello(n)\n",
        "print(n)"
      ],
      "metadata": {
        "id": "jGSJYROl2hqf",
        "colab": {
          "base_uri": "https://localhost:8080/"
        },
        "outputId": "337cdf3b-1b48-440b-cf99-a4957126bdbd"
      },
      "execution_count": 4,
      "outputs": [
        {
          "output_type": "stream",
          "name": "stdout",
          "text": [
            "[10, 20, 30, 40]\n",
            "[10, 20, 250, 40]\n"
          ]
        }
      ]
    },
    {
      "cell_type": "markdown",
      "source": [
        "#**Function Arguments**\n",
        "    1. Default Arguments\n",
        "    2. Required Arguments\n",
        "    3. Keyword Arguments\n",
        "    4. Variable number of arguments"
      ],
      "metadata": {
        "id": "cOlc7zJ_2mOw"
      }
    },
    {
      "cell_type": "code",
      "source": [
        "# Required Argumnets\n",
        "'''\n",
        "def hello(a,b):\n",
        "    print(a+b)\n",
        "hello(20,10)\n",
        "'''\n",
        "#default Arguments\n",
        "'''\n",
        "def hello(a=0,b=0):\n",
        "    print(a+b)\n",
        "hello(1,2)\n",
        "hello(1)\n",
        "hello()\n",
        "'''\n",
        "#Keyword Arguments\n",
        "'''\n",
        "def hello(a,b):\n",
        "    print(a + \" \" + b)\n",
        "hello(\"hello\",\"world\")\n",
        "hello(\"world\",\"hello\")\n",
        "hello(a=\"hello\",b=\"world\")\n",
        "hello(b=\"world\",a=\"hello\")\n",
        "'''\n",
        "#Variable number of arguments\n",
        "'''\n",
        "def hello(*values):\n",
        "    res = 0\n",
        "    for i in values:\n",
        "      res = res + i\n",
        "    print(res)\n",
        "hello()\n",
        "hello(1,2)\n",
        "hello(1,2,4,5,23,5,32,5,4,6,5)\n",
        "'''"
      ],
      "metadata": {
        "id": "5Vqeuvfz25bB",
        "colab": {
          "base_uri": "https://localhost:8080/"
        },
        "outputId": "0057ef52-ed7d-4d1e-ff19-8e1368376241"
      },
      "execution_count": 26,
      "outputs": [
        {
          "output_type": "stream",
          "name": "stdout",
          "text": [
            "0\n",
            "3\n",
            "92\n"
          ]
        }
      ]
    },
    {
      "cell_type": "markdown",
      "source": [
        "#**Scope of the variables**\n",
        "    1. Local Variable\n",
        "    2. Global Variable"
      ],
      "metadata": {
        "id": "DndZUGab25xy"
      }
    },
    {
      "cell_type": "code",
      "source": [
        "#Example 1\n",
        "'''\n",
        "b = 20\n",
        "c = 30\n",
        "def hello():\n",
        "    a = 10\n",
        "    c = 300\n",
        "    print(c)\n",
        "hello()\n",
        "print(c)\n",
        "'''\n",
        "#Example 2\n",
        "'''\n",
        "b = 20\n",
        "c = 30\n",
        "def hello():\n",
        "    a = 10\n",
        "    c = 300\n",
        "    print(a)\n",
        "hello()\n",
        "print(b)\n",
        "'''\n",
        "#Example 3\n",
        "'''\n",
        "a = 10\n",
        "def hello():\n",
        "    print(a)\n",
        "hello()\n",
        "print(a)\n",
        "'''\n",
        "#Exmaple 4\n",
        "'''\n",
        "def hello():\n",
        "      a1234 = 10\n",
        "      print(a1234)\n",
        "hello()\n",
        "print(a1234)\n",
        "'''\n",
        "#Example 5\n",
        "'''\n",
        "def hello():\n",
        "    global b1234\n",
        "    b1234 = \"hello\"\n",
        "    print(b1234)\n",
        "hello()\n",
        "print(b1234)\n",
        "'''"
      ],
      "metadata": {
        "id": "rj6JOEen3Bje",
        "colab": {
          "base_uri": "https://localhost:8080/"
        },
        "outputId": "629218b5-5443-45fb-c2a9-9212c6532747"
      },
      "execution_count": 37,
      "outputs": [
        {
          "output_type": "stream",
          "name": "stdout",
          "text": [
            "hello\n",
            "hello\n"
          ]
        }
      ]
    },
    {
      "cell_type": "markdown",
      "source": [
        "#**Lambda Functions (Anonymous Functions)**\n",
        "    syntax :\n",
        "        fun_name = lambda parameters : operations"
      ],
      "metadata": {
        "id": "gA1GqLWS3ECL"
      }
    },
    {
      "cell_type": "code",
      "source": [],
      "metadata": {
        "id": "ajwF4mCE3Qo9"
      },
      "execution_count": null,
      "outputs": []
    },
    {
      "cell_type": "markdown",
      "source": [
        "#**Lambda With Filter**\n",
        "    1. Filters an iterable based on a function\n",
        "    2. Allows us to create a easy way of filtering elements\n",
        "    Syntax:\n",
        "        fun_name = filter(lambda parameters : operations, iterable)\n",
        "  "
      ],
      "metadata": {
        "id": "c-f3D-Gg3wxc"
      }
    },
    {
      "cell_type": "code",
      "source": [],
      "metadata": {
        "id": "23yiXBoR4LPc"
      },
      "execution_count": null,
      "outputs": []
    },
    {
      "cell_type": "markdown",
      "source": [
        "#**Lambda with Map**\n",
        "    1. Applies a function to each item in am iterable and returing a new iterable with the results.\n",
        "    2. Allows us to create an easy way of transformation of elements\n",
        "    Syntax:\n",
        "        fun_name = map(lambda parameters : operations,iterable)\n",
        "        "
      ],
      "metadata": {
        "id": "sqm2SKBO4Lr6"
      }
    },
    {
      "cell_type": "code",
      "source": [],
      "metadata": {
        "id": "ZWMhiiBp4uih"
      },
      "execution_count": null,
      "outputs": []
    }
  ]
}