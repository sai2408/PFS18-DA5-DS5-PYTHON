{
  "nbformat": 4,
  "nbformat_minor": 0,
  "metadata": {
    "colab": {
      "provenance": [],
      "collapsed_sections": [
        "abBBFRFFm76m",
        "z4o2293AnMwp",
        "oz3LR66SnPKI"
      ]
    },
    "kernelspec": {
      "name": "python3",
      "display_name": "Python 3"
    },
    "language_info": {
      "name": "python"
    }
  },
  "cells": [
    {
      "cell_type": "markdown",
      "source": [
        "#Data Types\n",
        "    1. Numeric Types:\n",
        "        int\n",
        "        flaot\n",
        "        complex\n",
        "    2. Sequence Types:\n",
        "        list\n",
        "        tuple\n",
        "    3. Mapping Types:\n",
        "        dict\n",
        "    4. Set types\n",
        "        sets\n",
        "        frozensets\n",
        "    5. Boolean Types\n",
        "        bool [ True / False ]\n",
        "    6. Text Type:\n",
        "        Strings"
      ],
      "metadata": {
        "id": "Q-M84qHsmuG2"
      }
    },
    {
      "cell_type": "markdown",
      "source": [
        "#Numeric\n",
        "    1. Int\n",
        "    2. Float\n",
        "    3. Complex"
      ],
      "metadata": {
        "id": "abBBFRFFm76m"
      }
    },
    {
      "cell_type": "code",
      "execution_count": null,
      "metadata": {
        "id": "rArahkFEmsPR"
      },
      "outputs": [],
      "source": []
    },
    {
      "cell_type": "markdown",
      "source": [
        "#Sequence\n",
        "    1. Lists\n",
        "    2. Tuples"
      ],
      "metadata": {
        "id": "NXtbkA-1nD1s"
      }
    },
    {
      "cell_type": "markdown",
      "source": [
        "#Lists\n",
        "    "
      ],
      "metadata": {
        "id": "z4o2293AnMwp"
      }
    },
    {
      "cell_type": "code",
      "source": [],
      "metadata": {
        "id": "5dH9zFV2nVVO"
      },
      "execution_count": null,
      "outputs": []
    },
    {
      "cell_type": "markdown",
      "source": [
        "#Tuples"
      ],
      "metadata": {
        "id": "oz3LR66SnPKI"
      }
    },
    {
      "cell_type": "code",
      "source": [],
      "metadata": {
        "id": "7t86e5DXnT8P"
      },
      "execution_count": null,
      "outputs": []
    }
  ]
}