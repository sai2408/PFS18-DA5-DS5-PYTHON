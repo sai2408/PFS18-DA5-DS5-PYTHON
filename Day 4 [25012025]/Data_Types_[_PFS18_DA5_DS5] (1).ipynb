{
  "nbformat": 4,
  "nbformat_minor": 0,
  "metadata": {
    "colab": {
      "provenance": [],
      "collapsed_sections": [
        "abBBFRFFm76m",
        "X0XdcoD9VfDk",
        "HWm3gZwrXf-h",
        "aU52j7AeXwVz",
        "TsoDVe68bFKf"
      ]
    },
    "kernelspec": {
      "name": "python3",
      "display_name": "Python 3"
    },
    "language_info": {
      "name": "python"
    }
  },
  "cells": [
    {
      "cell_type": "markdown",
      "source": [
        "#Data Types\n",
        "    1. Numeric Types:\n",
        "        int\n",
        "        flaot\n",
        "        complex\n",
        "    2. Sequence Types:\n",
        "        list\n",
        "        tuple\n",
        "    3. Mapping Types:\n",
        "        dict\n",
        "    4. Set types\n",
        "        sets\n",
        "        frozensets\n",
        "    5. Boolean Types\n",
        "        bool [ True / False ]\n",
        "    6. Text Type:\n",
        "        Strings"
      ],
      "metadata": {
        "id": "Q-M84qHsmuG2"
      }
    },
    {
      "cell_type": "markdown",
      "source": [
        "#Numeric\n",
        "    1. Int\n",
        "    2. Float\n",
        "    3. Complex"
      ],
      "metadata": {
        "id": "abBBFRFFm76m"
      }
    },
    {
      "cell_type": "code",
      "execution_count": null,
      "metadata": {
        "id": "rArahkFEmsPR"
      },
      "outputs": [],
      "source": [
        "'''\n",
        "a = 10\n",
        "b = 20\n",
        "c = 10.56\n",
        "print(a)\n",
        "print(b)\n",
        "print(type(a))\n",
        "'''\n",
        "'''\n",
        "a = 10\n",
        "print(type(a))\n",
        "a = 10.45\n",
        "print(type(a))\n",
        "a = complex(4,5)\n",
        "print(type(a))\n",
        "print(a)\n",
        "print(id(a))\n",
        "'''\n",
        "a = 10\n",
        "b = 20\n",
        "c = 10\n",
        "print(id(a))\n",
        "print(id(b))\n",
        "print(id(c))"
      ]
    },
    {
      "cell_type": "markdown",
      "source": [
        "#Sequence\n",
        "    1. Lists\n",
        "    2. Tuples"
      ],
      "metadata": {
        "id": "NXtbkA-1nD1s"
      }
    },
    {
      "cell_type": "markdown",
      "source": [
        "#Lists\n",
        "    List is ordered collection of items\n",
        "    Item could be of any python Data Type\n",
        "    Lists are Mutable\n",
        "    Square brackets represents Lists\n",
        "    \n",
        "    Operations on Lists:\n",
        "        Creation\n",
        "        Accessing\n",
        "        Insertion\n",
        "        Deletion\n",
        "        Updation\n"
      ],
      "metadata": {
        "id": "z4o2293AnMwp"
      }
    },
    {
      "cell_type": "markdown",
      "source": [
        "#List Operations\n"
      ],
      "metadata": {
        "id": "X0XdcoD9VfDk"
      }
    },
    {
      "cell_type": "markdown",
      "source": [
        "1. Creation\n",
        "        Creation of an Empty List\n",
        "        Creation of List with Single Element\n",
        "        Creation of List with multiple Elements\n",
        "        Creation of list with user Inputs [ Lets Discuss Later ]"
      ],
      "metadata": {
        "id": "CRxp_v4YXGI9"
      }
    },
    {
      "cell_type": "code",
      "source": [
        "a = []\n",
        "print(a)\n",
        "print(type(a))\n",
        "b = [1]\n",
        "c = [10.45]\n",
        "print(b)\n",
        "print(type(b))\n",
        "print(c)\n",
        "print(type(c))\n",
        "d = [10,20,67.89,4+7j]\n",
        "print(d)\n",
        "print(type(d))"
      ],
      "metadata": {
        "id": "QsCSnMGgXMLK"
      },
      "execution_count": null,
      "outputs": []
    },
    {
      "cell_type": "markdown",
      "source": [
        "2. Accessing\n",
        "    Indexing\n",
        "        Positive Indexing\n",
        "        Negetive Indexing\n",
        "    Looping [ Discuss Later ]\n",
        "        For Loop with range\n",
        "        For Loop without range\n",
        "    Methods\n",
        "        index()\n",
        "        count()\n",
        "        copy()\n",
        "    Slicing\n",
        "        Positive Slicing\n",
        "        Negetive Slicing"
      ],
      "metadata": {
        "id": "envMkRJbXMmS"
      }
    },
    {
      "cell_type": "code",
      "source": [
        "a = [10,20,30,40,50,60]\n",
        "print(a[4])\n",
        "print(a[0])\n",
        "print(a[-1])\n",
        "print(a[6-1])"
      ],
      "metadata": {
        "id": "WTKSXAmOXPfw"
      },
      "execution_count": null,
      "outputs": []
    },
    {
      "cell_type": "code",
      "source": [
        "a = [10,20,300,40,30,50]\n",
        "print(a.index(30))"
      ],
      "metadata": {
        "id": "gWU5BErx_02e"
      },
      "execution_count": null,
      "outputs": []
    },
    {
      "cell_type": "code",
      "source": [
        "a = [10,20,30,40,50,30,40,30]\n",
        "print(a.count(30))"
      ],
      "metadata": {
        "id": "zmnZvrGDB9G0"
      },
      "execution_count": null,
      "outputs": []
    },
    {
      "cell_type": "code",
      "source": [
        "a = [10,20,30]\n",
        "b = a.copy()\n",
        "print(a)\n",
        "print(b)"
      ],
      "metadata": {
        "id": "63bkxbGjCGac"
      },
      "execution_count": null,
      "outputs": []
    },
    {
      "cell_type": "code",
      "source": [
        "a = [10,20,30]\n",
        "b = a.copy()\n",
        "print(a)\n",
        "print(b)\n",
        "b[1] = 25\n",
        "print(a)\n",
        "print(b)\n"
      ],
      "metadata": {
        "id": "5MvU9C6_CMN7"
      },
      "execution_count": null,
      "outputs": []
    },
    {
      "cell_type": "code",
      "source": [
        "a = [10,20,30,40,50,60,70,80]\n",
        "print(a[::])\n",
        "print(a[:])\n",
        "print(a[::1])\n",
        "print(a[::2])\n",
        "print(a[::3])\n",
        "print(a[::-1])\n",
        "print(a[::-2])\n",
        "print(a[2:])\n",
        "print(a[:5])\n",
        "print(a[3:6])\n",
        "print(a[2:6:2])\n",
        "print(a[11:25])\n",
        "b = [10,20,30,40,50,60,70]\n",
        "print(b[5:2:-1])"
      ],
      "metadata": {
        "id": "Glj38SxVCr0n"
      },
      "execution_count": null,
      "outputs": []
    },
    {
      "cell_type": "markdown",
      "source": [
        "3. Insertion\n",
        "        Methods\n",
        "          append()\n",
        "          extend()\n",
        "          insert()"
      ],
      "metadata": {
        "id": "GqbJb6u3XPz8"
      }
    },
    {
      "cell_type": "code",
      "source": [
        "a = [10,20,30]\n",
        "a.append(40)\n",
        "print(a)"
      ],
      "metadata": {
        "id": "xtZsumXTXaXI"
      },
      "execution_count": null,
      "outputs": []
    },
    {
      "cell_type": "code",
      "source": [
        "a = [10,20,30]\n",
        "b = [70,60]\n",
        "b.extend(a)\n",
        "print(a)\n",
        "print(b)"
      ],
      "metadata": {
        "id": "CCZjrUetDUMy"
      },
      "execution_count": null,
      "outputs": []
    },
    {
      "cell_type": "code",
      "source": [
        "a = [10,20,30,40]\n",
        "a.insert(2,25)\n",
        "print(a)\n",
        "a.insert(0,5)\n",
        "print(a)"
      ],
      "metadata": {
        "id": "Mct62DGdDdWM"
      },
      "execution_count": null,
      "outputs": []
    },
    {
      "cell_type": "markdown",
      "source": [
        "4. Deletion\n",
        "        Methods\n",
        "          remove()\n",
        "          pop()\n",
        "          clear()"
      ],
      "metadata": {
        "id": "t0uQ9SArXV8H"
      }
    },
    {
      "cell_type": "code",
      "source": [
        "a = [10,20,30,40]\n",
        "print(a)\n",
        "a.remove(30)\n",
        "print(a)\n",
        "b = [1,2,3,4,2,3,4]\n",
        "print(b)\n",
        "b.remove(3)\n",
        "print(b)"
      ],
      "metadata": {
        "id": "HsPoPzv_F55E"
      },
      "execution_count": null,
      "outputs": []
    },
    {
      "cell_type": "code",
      "source": [
        "a = [10,20,30,40,50]\n",
        "print(a)\n",
        "a.pop()\n",
        "print(a)\n",
        "b = [1,2,3,4,5]\n",
        "print(b)\n",
        "b.pop(3)\n",
        "print(b)"
      ],
      "metadata": {
        "id": "XBavFaO4Xd5C"
      },
      "execution_count": null,
      "outputs": []
    },
    {
      "cell_type": "code",
      "source": [
        "a = [1,2,3,4,5]\n",
        "print(a)\n",
        "a.clear()\n",
        "print(a)"
      ],
      "metadata": {
        "id": "1VQbtEHVHMM6"
      },
      "execution_count": null,
      "outputs": []
    },
    {
      "cell_type": "markdown",
      "source": [
        "5. Updation\n",
        "        Indexing\n",
        "            Positive\n",
        "            Negetive\n",
        "        Methods\n",
        "          sort()\n",
        "          reverse()"
      ],
      "metadata": {
        "id": "N2EY9wghXZF5"
      }
    },
    {
      "cell_type": "code",
      "source": [
        "a = [10,20,30,40,50]\n",
        "a[2] = 350\n",
        "print(a)\n",
        "a[-2] = 450\n",
        "print(a)\n",
        "b = [7,3,7,2,87]\n",
        "print(b)\n",
        "b.sort()\n",
        "print(b)\n",
        "c = [34,56,78]\n",
        "print(c)\n",
        "c.reverse()\n",
        "print(c)"
      ],
      "metadata": {
        "id": "35UBYjgQXfKF"
      },
      "execution_count": null,
      "outputs": []
    },
    {
      "cell_type": "markdown",
      "source": [
        "#Built-in functions in Lists\n",
        "    len()\n",
        "    max()\n",
        "    min()\n",
        "    sum()\n",
        "    sorted()"
      ],
      "metadata": {
        "id": "HWm3gZwrXf-h"
      }
    },
    {
      "cell_type": "code",
      "source": [
        "a = [10,20,40,12,7]\n",
        "print(len(a))\n",
        "print(max(a))\n",
        "print(min(a))\n",
        "print(sum(a))\n",
        "print(sorted(a))\n",
        "b = [4,2,7]\n",
        "b.sort()\n",
        "print(b)\n",
        "c = [4,2,7]\n",
        "print(sorted(c))\n",
        "print(c)"
      ],
      "metadata": {
        "id": "5Or1BskgXu7w"
      },
      "execution_count": null,
      "outputs": []
    },
    {
      "cell_type": "markdown",
      "source": [
        "#External Operations on Lists\n",
        "    1. concatenation\n",
        "    2. repetetion\n",
        "    3. membership"
      ],
      "metadata": {
        "id": "aU52j7AeXwVz"
      }
    },
    {
      "cell_type": "code",
      "source": [
        "a = [10,20,30,40]\n",
        "b = [1,2,3,4]\n",
        "print(a+b)\n",
        "c = [1,2,3]\n",
        "print(c*3)\n",
        "d = [10,20,30,40]\n",
        "print(100 in d)"
      ],
      "metadata": {
        "id": "_4x_zUSNX7Mt"
      },
      "execution_count": null,
      "outputs": []
    },
    {
      "cell_type": "markdown",
      "source": [
        "#List Comprehension\n",
        "    Its an elegant way to define lists in python\n",
        "\n",
        "    Breakdown of List Comprehension:\n",
        "        1. Output Expression\n",
        "        2. Input Sequence\n",
        "        3. Condition"
      ],
      "metadata": {
        "id": "TvAHECGXYGoC"
      }
    },
    {
      "cell_type": "code",
      "source": [
        "a = [i for i in range(10) if i%2==0]\n",
        "print(a)"
      ],
      "metadata": {
        "id": "uGDjzK2zbdYH",
        "colab": {
          "base_uri": "https://localhost:8080/"
        },
        "outputId": "d5fefdaa-587f-4e4d-b180-af9be672ecc0"
      },
      "execution_count": 7,
      "outputs": [
        {
          "output_type": "stream",
          "name": "stdout",
          "text": [
            "[0, 2, 4, 6, 8]\n"
          ]
        }
      ]
    },
    {
      "cell_type": "markdown",
      "source": [
        "#Nested Lists\n",
        "    List inside another lists is called as Nested Lists"
      ],
      "metadata": {
        "id": "mSQUvnKpYgb0"
      }
    },
    {
      "cell_type": "code",
      "source": [
        "x = [[1,2,3],[4,5,6]]\n",
        "print(x)\n",
        "print(x[0][1])\n"
      ],
      "metadata": {
        "id": "0KnwM2zrYYEI",
        "colab": {
          "base_uri": "https://localhost:8080/"
        },
        "outputId": "a345d332-94c1-4ab0-f086-d0d935dadd36"
      },
      "execution_count": 10,
      "outputs": [
        {
          "output_type": "stream",
          "name": "stdout",
          "text": [
            "[[1, 2, 3], [4, 5, 6]]\n",
            "2\n"
          ]
        }
      ]
    },
    {
      "cell_type": "markdown",
      "source": [
        "#Tuples\n",
        "    Tuple is ordered collection of items.\n",
        "    It could be of any python data type\n",
        "    Its an immutable data structure\n",
        "\n",
        "    Operations on Tuple:\n",
        "        Creation\n",
        "        Accessing"
      ],
      "metadata": {
        "id": "oz3LR66SnPKI"
      }
    },
    {
      "cell_type": "markdown",
      "source": [
        "#Tuple Operations\n",
        "  \n"
      ],
      "metadata": {
        "id": "SfeSgLAbZVxG"
      }
    },
    {
      "cell_type": "markdown",
      "source": [
        "1. Creation\n",
        "        Creation of an Empty tuple\n",
        "        Creation of tuple with Single Element\n",
        "        Creation of tuple with multiple Elements\n",
        "        Creation of tuple with user Inputs [ Lets Discuss Later ]"
      ],
      "metadata": {
        "id": "LmBTNISJZ7CU"
      }
    },
    {
      "cell_type": "code",
      "source": [
        "a = ()\n",
        "print(a)\n",
        "print(type(a))\n",
        "b = (1,)\n",
        "print(b)\n",
        "print(type(b))\n",
        "c = (1,2,3,4)\n",
        "print(c)\n",
        "print(type(c))"
      ],
      "metadata": {
        "id": "HV1DHtVnakJZ",
        "colab": {
          "base_uri": "https://localhost:8080/"
        },
        "outputId": "89853a7a-eb9b-422f-855c-f622c844d731"
      },
      "execution_count": 16,
      "outputs": [
        {
          "output_type": "stream",
          "name": "stdout",
          "text": [
            "()\n",
            "<class 'tuple'>\n",
            "(1,)\n",
            "<class 'tuple'>\n",
            "(1, 2, 3, 4)\n",
            "<class 'tuple'>\n"
          ]
        }
      ]
    },
    {
      "cell_type": "markdown",
      "source": [
        "2. Accessing\n",
        "  1. Indexing\n",
        "          Positive Indexing\n",
        "          Negetive Indexing\n",
        "  2. Looping\n",
        "            For Loop with range\n",
        "            For Loop without range\n",
        "  3. Methods\n",
        "            index()\n",
        "            count()\n",
        "  4. Slicing\n",
        "          Positive Slicing\n",
        "          Negetive Slicing"
      ],
      "metadata": {
        "id": "EbRioTKEaF-a"
      }
    },
    {
      "cell_type": "code",
      "source": [
        "a = (1,2,3,400,5,6,2)\n",
        "print(a[3])\n",
        "print(a[-2])\n",
        "print(a.index(400))\n",
        "print(a.count(2))\n",
        "print(a[::])\n",
        "print(a[2:])\n",
        "print(a[:4])\n",
        "print(a[2::2])\n",
        "print(a[:2:2])"
      ],
      "metadata": {
        "id": "QAhXkNvsaz2T",
        "colab": {
          "base_uri": "https://localhost:8080/"
        },
        "outputId": "1ec53808-375f-402d-804f-3a6104b16eee"
      },
      "execution_count": 29,
      "outputs": [
        {
          "output_type": "stream",
          "name": "stdout",
          "text": [
            "400\n",
            "6\n",
            "3\n",
            "2\n",
            "(1, 2, 3, 400, 5, 6, 2)\n",
            "(3, 400, 5, 6, 2)\n",
            "(1, 2, 3, 400)\n",
            "(3, 5, 2)\n",
            "(1,)\n"
          ]
        }
      ]
    },
    {
      "cell_type": "markdown",
      "source": [
        "#Built-in functions in Tuple\n",
        "    len()\n",
        "    max()\n",
        "    min()\n",
        "    sum()\n",
        "    sorted()"
      ],
      "metadata": {
        "id": "k_EWNOy-a7Un"
      }
    },
    {
      "cell_type": "code",
      "source": [
        "a = (1,2,3,4,5)\n",
        "print(len(a))\n",
        "print(min(a))\n",
        "print(max(a))\n",
        "print(sum(a))\n",
        "print(sorted(a))"
      ],
      "metadata": {
        "id": "T1U3XKmia8XZ",
        "colab": {
          "base_uri": "https://localhost:8080/"
        },
        "outputId": "16034c8c-fbdb-4818-a3eb-063aedf4cf91"
      },
      "execution_count": 34,
      "outputs": [
        {
          "output_type": "stream",
          "name": "stdout",
          "text": [
            "5\n",
            "1\n",
            "5\n",
            "15\n",
            "[1, 2, 3, 4, 5]\n"
          ]
        }
      ]
    },
    {
      "cell_type": "markdown",
      "source": [
        "#External Operations on Tuple\n",
        "    1. concatenation\n",
        "    2. repetetion\n",
        "    3. membership"
      ],
      "metadata": {
        "id": "m-VEWOX2bBWr"
      }
    },
    {
      "cell_type": "code",
      "source": [
        "a = (1,2,3,4,5)\n",
        "b = (6,7,8,9,10)\n",
        "print(a+b)\n",
        "print(a*2)\n",
        "print(1 in b)"
      ],
      "metadata": {
        "id": "uv5QMZEfbCYS",
        "colab": {
          "base_uri": "https://localhost:8080/"
        },
        "outputId": "638dd134-6529-488b-8040-bf9109037a0f"
      },
      "execution_count": 38,
      "outputs": [
        {
          "output_type": "stream",
          "name": "stdout",
          "text": [
            "(1, 2, 3, 4, 5, 6, 7, 8, 9, 10)\n",
            "(1, 2, 3, 4, 5, 1, 2, 3, 4, 5)\n",
            "False\n"
          ]
        }
      ]
    },
    {
      "cell_type": "markdown",
      "source": [
        "#Nested Tuple\n",
        "    Tuple inside another tuple is called as Nested tuple"
      ],
      "metadata": {
        "id": "TsoDVe68bFKf"
      }
    },
    {
      "cell_type": "code",
      "source": [
        "t = ((1,2,3),(4,5,6),(7,8,9))\n",
        "print(t[1][1])\n",
        "t = (1,2,3,4)"
      ],
      "metadata": {
        "id": "xm4svwMTbgnr",
        "colab": {
          "base_uri": "https://localhost:8080/",
          "height": 193
        },
        "outputId": "2235cb74-6c74-4503-991f-7e8f125c5a44"
      },
      "execution_count": 40,
      "outputs": [
        {
          "output_type": "stream",
          "name": "stdout",
          "text": [
            "5\n"
          ]
        },
        {
          "output_type": "error",
          "ename": "TypeError",
          "evalue": "'tuple' object does not support item assignment",
          "traceback": [
            "\u001b[0;31m---------------------------------------------------------------------------\u001b[0m",
            "\u001b[0;31mTypeError\u001b[0m                                 Traceback (most recent call last)",
            "\u001b[0;32m<ipython-input-40-fc25b4ef2c6a>\u001b[0m in \u001b[0;36m<cell line: 0>\u001b[0;34m()\u001b[0m\n\u001b[1;32m      2\u001b[0m \u001b[0mprint\u001b[0m\u001b[0;34m(\u001b[0m\u001b[0mt\u001b[0m\u001b[0;34m[\u001b[0m\u001b[0;36m1\u001b[0m\u001b[0;34m]\u001b[0m\u001b[0;34m[\u001b[0m\u001b[0;36m1\u001b[0m\u001b[0;34m]\u001b[0m\u001b[0;34m)\u001b[0m\u001b[0;34m\u001b[0m\u001b[0;34m\u001b[0m\u001b[0m\n\u001b[1;32m      3\u001b[0m \u001b[0mt\u001b[0m \u001b[0;34m=\u001b[0m \u001b[0;34m(\u001b[0m\u001b[0;36m1\u001b[0m\u001b[0;34m,\u001b[0m\u001b[0;36m2\u001b[0m\u001b[0;34m,\u001b[0m\u001b[0;36m3\u001b[0m\u001b[0;34m,\u001b[0m\u001b[0;36m4\u001b[0m\u001b[0;34m)\u001b[0m\u001b[0;34m\u001b[0m\u001b[0;34m\u001b[0m\u001b[0m\n\u001b[0;32m----> 4\u001b[0;31m \u001b[0mt\u001b[0m\u001b[0;34m[\u001b[0m\u001b[0;36m2\u001b[0m\u001b[0;34m]\u001b[0m \u001b[0;34m=\u001b[0m \u001b[0;36m345\u001b[0m\u001b[0;34m\u001b[0m\u001b[0;34m\u001b[0m\u001b[0m\n\u001b[0m",
            "\u001b[0;31mTypeError\u001b[0m: 'tuple' object does not support item assignment"
          ]
        }
      ]
    },
    {
      "cell_type": "code",
      "source": [
        "t = (1,2,3,4,5)\n",
        "t1 = ((6,7,8),)\n",
        "t2 = t + t1\n",
        "print(t2)"
      ],
      "metadata": {
        "colab": {
          "base_uri": "https://localhost:8080/"
        },
        "id": "ODVx1hQCObJa",
        "outputId": "a334bf7a-8279-4949-88c7-c9657b095f05"
      },
      "execution_count": 43,
      "outputs": [
        {
          "output_type": "stream",
          "name": "stdout",
          "text": [
            "(1, 2, 3, 4, 5, (6, 7, 8))\n"
          ]
        }
      ]
    }
  ]
}