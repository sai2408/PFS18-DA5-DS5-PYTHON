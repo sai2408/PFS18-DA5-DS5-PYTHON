{
  "nbformat": 4,
  "nbformat_minor": 0,
  "metadata": {
    "colab": {
      "provenance": []
    },
    "kernelspec": {
      "name": "python3",
      "display_name": "Python 3"
    },
    "language_info": {
      "name": "python"
    }
  },
  "cells": [
    {
      "cell_type": "markdown",
      "source": [
        "#Frozen Sets\n",
        "    1. A Frozen Set is an unordered collection data type that is iterable, immutable and has no duplicate elements.\n",
        "    2. Frozen Set is majorly used to perform mathematical set operations like union,difference,intersection etc,..\n",
        "    \n",
        "    Operations on Lists:\n",
        "        1. Creation\n",
        "        2. Accessing"
      ],
      "metadata": {
        "id": "5jFbLszhKXW3"
      }
    },
    {
      "cell_type": "markdown",
      "source": [
        "#Creation\n",
        "    Creation of an Empty Frozen Set\n",
        "    Creation of Frozen Set with Single Element\n",
        "    Creation of Frozen Set with multiple Elements\n",
        "    Creation of Frozen Set with user Inputs"
      ],
      "metadata": {
        "id": "qTyiXAooLOVO"
      }
    },
    {
      "cell_type": "code",
      "execution_count": 3,
      "metadata": {
        "id": "JiBrxaZyKNVb",
        "colab": {
          "base_uri": "https://localhost:8080/"
        },
        "outputId": "28e2afd7-1c38-4245-b4e2-1a6a025eaf5b"
      },
      "outputs": [
        {
          "output_type": "stream",
          "name": "stdout",
          "text": [
            "frozenset()\n",
            "<class 'frozenset'>\n",
            "frozenset({1})\n",
            "frozenset({1, 2, 3, 4})\n"
          ]
        }
      ],
      "source": [
        "a = frozenset()\n",
        "print(a)\n",
        "print(type(a))\n",
        "b = frozenset([1])\n",
        "print(b)\n",
        "c = frozenset([1,2,3,4])\n",
        "print(c)\n"
      ]
    },
    {
      "cell_type": "markdown",
      "source": [
        "#Accessing\n",
        "    Looping\n",
        "        For Loop without range\n",
        "    Methods\n",
        "        copy()"
      ],
      "metadata": {
        "id": "gbPUIldLLcs0"
      }
    },
    {
      "cell_type": "code",
      "source": [
        "a = frozenset([1,2,3,4])\n",
        "b = a.copy()\n",
        "print(b)"
      ],
      "metadata": {
        "id": "wYAYEnILLxiG",
        "colab": {
          "base_uri": "https://localhost:8080/"
        },
        "outputId": "4983d871-ed97-4687-bb1f-a07f00b62692"
      },
      "execution_count": 4,
      "outputs": [
        {
          "output_type": "stream",
          "name": "stdout",
          "text": [
            "frozenset({1, 2, 3, 4})\n"
          ]
        }
      ]
    },
    {
      "cell_type": "markdown",
      "source": [
        "#Built-in functions\n",
        "    1. len()\n",
        "    2. max()\n",
        "    3. min()\n",
        "    4. sum()\n",
        "    5. sorted()"
      ],
      "metadata": {
        "id": "6IJg_FrsMVi1"
      }
    },
    {
      "cell_type": "code",
      "source": [],
      "metadata": {
        "id": "Mbl4BrlAMt3W"
      },
      "execution_count": null,
      "outputs": []
    },
    {
      "cell_type": "markdown",
      "source": [
        "#Mathematical set operations\n",
        "    1. union()\n",
        "        union() or  |\n",
        "    2. intersection\n",
        "        intersection() or &\n",
        "    3. difference\n",
        "        difference() or -\n",
        "    4. symmetric difference\n",
        "        symmetric_differnece() or ^\n",
        "    5. isdisjoint()\n",
        "    6. issubset()\n",
        "    7. issuperset()"
      ],
      "metadata": {
        "id": "n0i6W3ETMxE1"
      }
    },
    {
      "cell_type": "code",
      "source": [
        "s1 = frozenset({1,2,3,4,5})\n",
        "s2 = frozenset({3,4,5,6,7})\n",
        "print(type(s1))\n"
      ],
      "metadata": {
        "id": "NiEOVatdNsDn",
        "colab": {
          "base_uri": "https://localhost:8080/"
        },
        "outputId": "5e5c1cec-4f0b-4ae1-c980-6ad51ec516fb"
      },
      "execution_count": 9,
      "outputs": [
        {
          "output_type": "stream",
          "name": "stdout",
          "text": [
            "<class 'frozenset'>\n"
          ]
        }
      ]
    }
  ]
}