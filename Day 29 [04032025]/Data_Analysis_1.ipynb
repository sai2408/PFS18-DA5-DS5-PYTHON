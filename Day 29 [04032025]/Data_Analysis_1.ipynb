{
  "cells": [
    {
      "cell_type": "markdown",
      "source": [
        "#Installation of Numpy"
      ],
      "metadata": {
        "id": "tsVkbPv1que-"
      },
      "id": "tsVkbPv1que-"
    },
    {
      "cell_type": "code",
      "execution_count": 1,
      "id": "e9d0f03a",
      "metadata": {
        "id": "e9d0f03a",
        "colab": {
          "base_uri": "https://localhost:8080/"
        },
        "outputId": "ef0ba580-8543-4a48-96f5-4cba4d516f2b"
      },
      "outputs": [
        {
          "output_type": "stream",
          "name": "stdout",
          "text": [
            "Requirement already satisfied: numpy in /usr/local/lib/python3.11/dist-packages (1.26.4)\n"
          ]
        }
      ],
      "source": [
        "pip install numpy"
      ]
    },
    {
      "cell_type": "code",
      "execution_count": 2,
      "id": "c614d7cc",
      "metadata": {
        "id": "c614d7cc",
        "colab": {
          "base_uri": "https://localhost:8080/"
        },
        "outputId": "f6243615-89e4-4580-d9c5-096d234fe66a"
      },
      "outputs": [
        {
          "output_type": "stream",
          "name": "stdout",
          "text": [
            "1.26.4\n"
          ]
        }
      ],
      "source": [
        "import numpy\n",
        "print(numpy.__version__)"
      ]
    },
    {
      "cell_type": "code",
      "execution_count": 3,
      "id": "b2ea66f5",
      "metadata": {
        "id": "b2ea66f5"
      },
      "outputs": [],
      "source": [
        "import numpy as np"
      ]
    },
    {
      "cell_type": "markdown",
      "source": [
        "#Creation of Numpy Elements"
      ],
      "metadata": {
        "id": "sCZ-2IHQqyov"
      },
      "id": "sCZ-2IHQqyov"
    },
    {
      "cell_type": "code",
      "execution_count": 4,
      "id": "3ebb6bc2",
      "metadata": {
        "id": "3ebb6bc2",
        "colab": {
          "base_uri": "https://localhost:8080/"
        },
        "outputId": "232bc480-1996-4edd-c3b0-8c99d804702b"
      },
      "outputs": [
        {
          "output_type": "stream",
          "name": "stdout",
          "text": [
            "<built-in function array>\n"
          ]
        }
      ],
      "source": [
        "a = np.array\n",
        "print(a)"
      ]
    },
    {
      "cell_type": "code",
      "source": [
        "a = np.array([1,2,3])\n",
        "print(a)"
      ],
      "metadata": {
        "id": "TyNLJgkis5de",
        "colab": {
          "base_uri": "https://localhost:8080/"
        },
        "outputId": "e74c6084-ffd0-4fcc-d75f-77c57061156a"
      },
      "id": "TyNLJgkis5de",
      "execution_count": 5,
      "outputs": [
        {
          "output_type": "stream",
          "name": "stdout",
          "text": [
            "[1 2 3]\n"
          ]
        }
      ]
    },
    {
      "cell_type": "markdown",
      "source": [
        "#Type functions in Numpy"
      ],
      "metadata": {
        "id": "rZ5bvnorq2YF"
      },
      "id": "rZ5bvnorq2YF"
    },
    {
      "cell_type": "code",
      "execution_count": 6,
      "id": "3235336b",
      "metadata": {
        "id": "3235336b",
        "colab": {
          "base_uri": "https://localhost:8080/"
        },
        "outputId": "f4a94972-b772-418e-ed25-df8a3360b7c9"
      },
      "outputs": [
        {
          "output_type": "stream",
          "name": "stdout",
          "text": [
            "[1 2 3]\n",
            "<class 'numpy.ndarray'>\n",
            "int64\n",
            "1\n"
          ]
        }
      ],
      "source": [
        "a = np.array([1,2,3])\n",
        "print(a)\n",
        "#Returns type of an array\n",
        "print(type(a))\n",
        "#Returns data types of elements inside the array\n",
        "print(a.dtype)\n",
        "#Returns dimensions of numpy array\n",
        "print(a.ndim)"
      ]
    },
    {
      "cell_type": "code",
      "execution_count": 7,
      "id": "94363587",
      "metadata": {
        "id": "94363587",
        "colab": {
          "base_uri": "https://localhost:8080/"
        },
        "outputId": "5f9f2d1b-478f-4e3a-9c69-df2e84226753"
      },
      "outputs": [
        {
          "output_type": "stream",
          "name": "stdout",
          "text": [
            "[[1 2 3]\n",
            " [4 5 6]\n",
            " [6 7 8]]\n",
            "<class 'numpy.ndarray'>\n",
            "int64\n",
            "2\n"
          ]
        }
      ],
      "source": [
        "a = np.array([[1,2,3],[4,5,6],[6,7,8]])\n",
        "print(a)\n",
        "print(type(a))\n",
        "print(a.dtype)\n",
        "print(a.ndim)"
      ]
    },
    {
      "cell_type": "code",
      "execution_count": 8,
      "id": "ffe8a76a",
      "metadata": {
        "id": "ffe8a76a",
        "colab": {
          "base_uri": "https://localhost:8080/"
        },
        "outputId": "899bc77f-f361-4b7a-9c68-0bd17f27be66"
      },
      "outputs": [
        {
          "output_type": "stream",
          "name": "stdout",
          "text": [
            "[1.+0.j 2.+0.j 3.+0.j]\n"
          ]
        }
      ],
      "source": [
        "a = np.array([1,2,3], complex)\n",
        "print(a)"
      ]
    },
    {
      "cell_type": "markdown",
      "source": [
        "#Sizes and shapes of Numpy"
      ],
      "metadata": {
        "id": "ZVarTp0fq6kl"
      },
      "id": "ZVarTp0fq6kl"
    },
    {
      "cell_type": "code",
      "execution_count": 12,
      "id": "9c2ce6c5",
      "metadata": {
        "id": "9c2ce6c5",
        "colab": {
          "base_uri": "https://localhost:8080/"
        },
        "outputId": "e7aaef87-0900-4264-bd0e-041db76bc1b5"
      },
      "outputs": [
        {
          "output_type": "stream",
          "name": "stdout",
          "text": [
            "6\n",
            "(6,)\n"
          ]
        }
      ],
      "source": [
        "a = np.array([1,2,3,4,5,6])\n",
        "print(a.size) # no.of elements\n",
        "print(a.shape) #(rows,columns)"
      ]
    },
    {
      "cell_type": "code",
      "execution_count": 14,
      "id": "a9913468",
      "metadata": {
        "id": "a9913468",
        "colab": {
          "base_uri": "https://localhost:8080/"
        },
        "outputId": "ad23df20-a00a-4c42-9885-43a0044d98ae"
      },
      "outputs": [
        {
          "output_type": "stream",
          "name": "stdout",
          "text": [
            "[[ 1  2  3  4]\n",
            " [ 5  6  7  8]\n",
            " [ 9 10 11 12]]\n",
            "12\n",
            "(3, 4)\n"
          ]
        }
      ],
      "source": [
        "arr = np.array([[1,2,3,4],[5,6,7,8],[9,10,11,12]])\n",
        "print(arr)\n",
        "print(arr.size)\n",
        "print(arr.shape)"
      ]
    },
    {
      "cell_type": "code",
      "execution_count": 16,
      "id": "7a992f30",
      "metadata": {
        "id": "7a992f30",
        "colab": {
          "base_uri": "https://localhost:8080/"
        },
        "outputId": "14cea25e-1178-460e-ab3c-06873758a087"
      },
      "outputs": [
        {
          "output_type": "stream",
          "name": "stdout",
          "text": [
            "Original array\n",
            "[[1 2]\n",
            " [3 4]\n",
            " [5 6]]\n",
            "Reshaped array\n",
            "[[1 2 3]\n",
            " [4 5 6]]\n"
          ]
        }
      ],
      "source": [
        "a = np.array([[1,2,],[3,4],[5,6]])\n",
        "print('Original array')\n",
        "print(a)\n",
        "\n",
        "a = a.reshape(2,3)\n",
        "print('Reshaped array')\n",
        "print(a)"
      ]
    },
    {
      "cell_type": "markdown",
      "source": [
        "#Accessing of elements in Numpy"
      ],
      "metadata": {
        "id": "ARpKgzibrAON"
      },
      "id": "ARpKgzibrAON"
    },
    {
      "cell_type": "code",
      "execution_count": 17,
      "id": "0e419e26",
      "metadata": {
        "id": "0e419e26",
        "colab": {
          "base_uri": "https://localhost:8080/"
        },
        "outputId": "bc28a55a-3681-4664-c074-05e23a0ad1f9"
      },
      "outputs": [
        {
          "output_type": "stream",
          "name": "stdout",
          "text": [
            "[[1 2]\n",
            " [3 4]\n",
            " [5 6]]\n",
            "2\n",
            "6\n",
            "4\n"
          ]
        }
      ],
      "source": [
        "a = np.array([[1,2],[3,4],[5,6]])\n",
        "print(a)\n",
        "print(a[0,1])\n",
        "print(a[2,1])\n",
        "print(a[1,1])"
      ]
    },
    {
      "cell_type": "markdown",
      "source": [
        "#Functions in Numpy"
      ],
      "metadata": {
        "id": "PnqU89FaqsXU"
      },
      "id": "PnqU89FaqsXU"
    },
    {
      "cell_type": "code",
      "execution_count": 18,
      "id": "09400533",
      "metadata": {
        "id": "09400533",
        "colab": {
          "base_uri": "https://localhost:8080/"
        },
        "outputId": "c43872b6-9591-47b7-8297-f9dd4a981c7f"
      },
      "outputs": [
        {
          "output_type": "stream",
          "name": "stdout",
          "text": [
            "[ 1  2  3 50  4 45  4]\n",
            "50\n",
            "1\n",
            "109\n"
          ]
        }
      ],
      "source": [
        "a = np.array([1,2,3,50,4,45,4])\n",
        "print(a)\n",
        "print(a.max())\n",
        "print(a.min())\n",
        "print(a.sum())"
      ]
    },
    {
      "cell_type": "code",
      "execution_count": 24,
      "id": "a759941e",
      "metadata": {
        "id": "a759941e",
        "colab": {
          "base_uri": "https://localhost:8080/"
        },
        "outputId": "6f40fff7-295f-483b-833d-2f96e03b0899"
      },
      "outputs": [
        {
          "output_type": "stream",
          "name": "stdout",
          "text": [
            "[[ 0.74844592 -1.11134605 -1.09317868  1.47793976]\n",
            " [-1.09568959 -0.8478278   1.10163501  0.93557277]\n",
            " [-0.71702595  0.70982262  0.29843055  0.82575913]\n",
            " [-0.70741435  2.77361284 -1.28331379  0.22132712]]\n"
          ]
        }
      ],
      "source": [
        "# randn --> generates random number between (-1,0,1)\n",
        "\n",
        "a = np.random.randn(4,4)\n",
        "print(a)"
      ]
    },
    {
      "cell_type": "code",
      "execution_count": 25,
      "id": "f98eba26",
      "metadata": {
        "id": "f98eba26",
        "colab": {
          "base_uri": "https://localhost:8080/"
        },
        "outputId": "ac49a972-fb21-48f8-a825-d1e95a9ab645"
      },
      "outputs": [
        {
          "output_type": "stream",
          "name": "stdout",
          "text": [
            "[ 0  1  2  3  4  5  6  7  8  9 10 11]\n"
          ]
        }
      ],
      "source": [
        "# Ranging function in numpy --> arange()\n",
        "\n",
        "print(np.arange(12))"
      ]
    },
    {
      "cell_type": "code",
      "execution_count": 26,
      "id": "59451f9c",
      "metadata": {
        "id": "59451f9c",
        "colab": {
          "base_uri": "https://localhost:8080/"
        },
        "outputId": "cfe10a54-a8c3-4739-94f8-7d210e96238d"
      },
      "outputs": [
        {
          "output_type": "stream",
          "name": "stdout",
          "text": [
            "[[ 0  1  2  3]\n",
            " [ 4  5  6  7]\n",
            " [ 8  9 10 11]]\n"
          ]
        }
      ],
      "source": [
        "print(np.arange(12).reshape(3,4))"
      ]
    },
    {
      "cell_type": "code",
      "execution_count": 27,
      "id": "1e635cfb",
      "metadata": {
        "id": "1e635cfb",
        "colab": {
          "base_uri": "https://localhost:8080/"
        },
        "outputId": "e6bd106f-a432-461c-abb2-db42a7a6a105"
      },
      "outputs": [
        {
          "output_type": "stream",
          "name": "stdout",
          "text": [
            "[[[ 0  1  2]\n",
            "  [ 3  4  5]]\n",
            "\n",
            " [[ 6  7  8]\n",
            "  [ 9 10 11]]]\n",
            "*********************************\n",
            "[[0 1 2]\n",
            " [3 4 5]]\n",
            "*********************************\n",
            "[[ 6  7  8]\n",
            " [ 9 10 11]]\n",
            "*********************************\n",
            "[3 4 5]\n",
            "*********************************\n",
            "5\n"
          ]
        }
      ],
      "source": [
        "arr = np.arange(12).reshape(2,2,3) # --> 2*3, 2*3 (generates 2 matrices)\n",
        "print(arr)\n",
        "print('*********************************')\n",
        "print(arr[0])\n",
        "print('*********************************')\n",
        "print(arr[1])\n",
        "print('*********************************')\n",
        "print(arr[0][1])\n",
        "print('*********************************')\n",
        "print(arr[0][1][2])"
      ]
    },
    {
      "cell_type": "code",
      "execution_count": 33,
      "id": "4d05bf6c",
      "metadata": {
        "id": "4d05bf6c",
        "colab": {
          "base_uri": "https://localhost:8080/"
        },
        "outputId": "6f912169-aaa1-4341-93eb-2e97887b585e"
      },
      "outputs": [
        {
          "output_type": "stream",
          "name": "stdout",
          "text": [
            "[12.2     90.12    12.54489 52.5    ]\n",
            "Rounding function:  [12. 90. 13. 52.]\n",
            "*********************************\n",
            "With decimal: [12.2  90.12 12.54 52.5 ]\n"
          ]
        }
      ],
      "source": [
        "# Round function ---> around()\n",
        "\n",
        "arr = np.array([12.2, 90.12, 12.54489, 52.5])\n",
        "print(arr)\n",
        "print(\"Rounding function: \", np.around(arr))\n",
        "print('*********************************')\n",
        "print(\"With decimal:\",np.around(arr, 2) )"
      ]
    },
    {
      "cell_type": "code",
      "execution_count": null,
      "id": "1485b305",
      "metadata": {
        "id": "1485b305"
      },
      "outputs": [],
      "source": [
        "# Numpy Broadcasting"
      ]
    },
    {
      "cell_type": "code",
      "execution_count": 36,
      "id": "bbf1edd3",
      "metadata": {
        "id": "bbf1edd3",
        "colab": {
          "base_uri": "https://localhost:8080/"
        },
        "outputId": "4aced3da-30fd-437d-d738-c32044bf3e71"
      },
      "outputs": [
        {
          "output_type": "stream",
          "name": "stdout",
          "text": [
            "[ 3  6  9 12 15 18 21]\n"
          ]
        }
      ],
      "source": [
        "a = np.array([1,2,3,4,5,6,7])\n",
        "b = np.array([2,4,6,8,10,12,14])\n",
        "c = a+b\n",
        "print(c)"
      ]
    },
    {
      "cell_type": "code",
      "source": [
        "a = np.array([1,2,3,4,5,6,7])\n",
        "b = np.array([2,4,6,8,10,12,14])\n",
        "c = a-b\n",
        "print(c)"
      ],
      "metadata": {
        "id": "SiuWv-Vv2Hq2",
        "colab": {
          "base_uri": "https://localhost:8080/"
        },
        "outputId": "cc308b19-2bcf-49f3-ad28-e7083b1affce"
      },
      "id": "SiuWv-Vv2Hq2",
      "execution_count": 37,
      "outputs": [
        {
          "output_type": "stream",
          "name": "stdout",
          "text": [
            "[-1 -2 -3 -4 -5 -6 -7]\n"
          ]
        }
      ]
    },
    {
      "cell_type": "code",
      "source": [
        "a = np.array([1,2,3,4,5,6,7])\n",
        "b = np.array([2,4,6,8,10,12,14])\n",
        "c = a*b\n",
        "print(c)"
      ],
      "metadata": {
        "id": "h-K3ropO2K2h",
        "colab": {
          "base_uri": "https://localhost:8080/"
        },
        "outputId": "190d9d4c-2dcf-421f-d100-42a60e8d2885"
      },
      "id": "h-K3ropO2K2h",
      "execution_count": 38,
      "outputs": [
        {
          "output_type": "stream",
          "name": "stdout",
          "text": [
            "[ 2  8 18 32 50 72 98]\n"
          ]
        }
      ]
    },
    {
      "cell_type": "code",
      "execution_count": null,
      "id": "562f1a80",
      "metadata": {
        "id": "562f1a80"
      },
      "outputs": [],
      "source": [
        "a = np.array([[1,2,3,4],[5,6,7,8],[9,10,11,12]])\n",
        "b = np.array([2,4,6,8])\n",
        "print(a)\n",
        "print('*********************************')\n",
        "print(b)\n",
        "print('*********************************')\n",
        "print(a+b)\n",
        "print('*********************************')\n",
        "print(a-b)\n",
        "print('*********************************')\n",
        "print(a*b)"
      ]
    },
    {
      "cell_type": "code",
      "execution_count": 39,
      "id": "8a8bd575",
      "metadata": {
        "id": "8a8bd575",
        "colab": {
          "base_uri": "https://localhost:8080/"
        },
        "outputId": "b7bd2740-16cb-4b04-df32-c8b151720954"
      },
      "outputs": [
        {
          "output_type": "stream",
          "name": "stdout",
          "text": [
            "[[ 0  1  2]\n",
            " [ 3  4  5]\n",
            " [ 6  7  8]\n",
            " [ 9 10 11]\n",
            " [12 13 14]]\n",
            "*********************************\n",
            "[[0]\n",
            " [1]\n",
            " [2]\n",
            " [3]\n",
            " [4]]\n",
            "*********************************\n",
            "[[ 0  1  2]\n",
            " [ 4  5  6]\n",
            " [ 8  9 10]\n",
            " [12 13 14]\n",
            " [16 17 18]]\n"
          ]
        }
      ],
      "source": [
        "arr1 = np.arange(15).reshape(5,3)\n",
        "print(arr1)\n",
        "print('*********************************')\n",
        "arr2 = np.arange(5).reshape(5,1)\n",
        "print(arr2)\n",
        "print('*********************************')\n",
        "print(arr1 + arr2)"
      ]
    },
    {
      "cell_type": "code",
      "execution_count": 40,
      "id": "55ebd35e",
      "metadata": {
        "id": "55ebd35e",
        "colab": {
          "base_uri": "https://localhost:8080/"
        },
        "outputId": "fcf3b272-8c18-424b-c3c7-4d7e454eb9af"
      },
      "outputs": [
        {
          "output_type": "stream",
          "name": "stdout",
          "text": [
            "[[1 2 3]\n",
            " [4 5 6]\n",
            " [7 8 9]]\n",
            "*********************************\n",
            "[[1 4 7]\n",
            " [2 5 8]\n",
            " [3 6 9]]\n"
          ]
        }
      ],
      "source": [
        "a = np.array([[1,2,3],[4,5,6],[7,8,9]])\n",
        "print(a)\n",
        "print('*********************************')\n",
        "at = a.T # Transpose --> rows changes to columns, columns changes to rows\n",
        "print(at)"
      ]
    },
    {
      "cell_type": "markdown",
      "source": [
        "#Pandas"
      ],
      "metadata": {
        "id": "Eb080vYN2mpo"
      },
      "id": "Eb080vYN2mpo"
    },
    {
      "cell_type": "markdown",
      "source": [
        "#Installation of Pandas"
      ],
      "metadata": {
        "id": "_u51ZYRg2oeM"
      },
      "id": "_u51ZYRg2oeM"
    },
    {
      "cell_type": "code",
      "source": [
        "pip install pandas"
      ],
      "metadata": {
        "id": "KKElCqaI2n2b",
        "colab": {
          "base_uri": "https://localhost:8080/"
        },
        "outputId": "d2cdb476-9238-4b44-c5fc-58b0bed22b94"
      },
      "id": "KKElCqaI2n2b",
      "execution_count": 41,
      "outputs": [
        {
          "output_type": "stream",
          "name": "stdout",
          "text": [
            "Requirement already satisfied: pandas in /usr/local/lib/python3.11/dist-packages (2.2.2)\n",
            "Requirement already satisfied: numpy>=1.23.2 in /usr/local/lib/python3.11/dist-packages (from pandas) (1.26.4)\n",
            "Requirement already satisfied: python-dateutil>=2.8.2 in /usr/local/lib/python3.11/dist-packages (from pandas) (2.8.2)\n",
            "Requirement already satisfied: pytz>=2020.1 in /usr/local/lib/python3.11/dist-packages (from pandas) (2025.1)\n",
            "Requirement already satisfied: tzdata>=2022.7 in /usr/local/lib/python3.11/dist-packages (from pandas) (2025.1)\n",
            "Requirement already satisfied: six>=1.5 in /usr/local/lib/python3.11/dist-packages (from python-dateutil>=2.8.2->pandas) (1.17.0)\n"
          ]
        }
      ]
    },
    {
      "cell_type": "code",
      "source": [
        "import pandas as pd"
      ],
      "metadata": {
        "id": "oO-5FfeA_VoT"
      },
      "id": "oO-5FfeA_VoT",
      "execution_count": 42,
      "outputs": []
    },
    {
      "cell_type": "markdown",
      "source": [
        "#Pandas Series"
      ],
      "metadata": {
        "id": "-JrWdnu-22VC"
      },
      "id": "-JrWdnu-22VC"
    },
    {
      "cell_type": "code",
      "source": [
        "info = np.array(['A','B','C','D','E','F'])\n",
        "print(info)\n",
        "a = pd.Series(info)\n",
        "print(a)"
      ],
      "metadata": {
        "id": "4MqR5Uby23T6",
        "colab": {
          "base_uri": "https://localhost:8080/"
        },
        "outputId": "e91bc116-c71b-47f2-bd05-d256bd2329c9"
      },
      "id": "4MqR5Uby23T6",
      "execution_count": 43,
      "outputs": [
        {
          "output_type": "stream",
          "name": "stdout",
          "text": [
            "['A' 'B' 'C' 'D' 'E' 'F']\n",
            "0    A\n",
            "1    B\n",
            "2    C\n",
            "3    D\n",
            "4    E\n",
            "5    F\n",
            "dtype: object\n"
          ]
        }
      ]
    },
    {
      "cell_type": "code",
      "source": [
        "info = {'x':0,'y':1,'z':2}\n",
        "a = pd.Series(info)\n",
        "print(a)"
      ],
      "metadata": {
        "id": "PtOg6ldl26oh",
        "colab": {
          "base_uri": "https://localhost:8080/"
        },
        "outputId": "4a63c9b7-2c4f-447c-ac2a-f292b0e1220e"
      },
      "id": "PtOg6ldl26oh",
      "execution_count": 57,
      "outputs": [
        {
          "output_type": "stream",
          "name": "stdout",
          "text": [
            "x    0\n",
            "y    1\n",
            "z    2\n",
            "dtype: int64\n"
          ]
        }
      ]
    },
    {
      "cell_type": "code",
      "source": [
        "a = [1,2,3,4]\n",
        "b = ['a','b','c','d']\n",
        "x = pd.Series(a,b)\n",
        "print(x)"
      ],
      "metadata": {
        "id": "EnwaO82z281B",
        "colab": {
          "base_uri": "https://localhost:8080/"
        },
        "outputId": "9294dff5-38df-462e-da9b-f82f3e95a297"
      },
      "id": "EnwaO82z281B",
      "execution_count": 48,
      "outputs": [
        {
          "output_type": "stream",
          "name": "stdout",
          "text": [
            "a    1\n",
            "b    2\n",
            "c    3\n",
            "d    4\n",
            "dtype: int64\n"
          ]
        }
      ]
    },
    {
      "cell_type": "code",
      "source": [
        "print(x[3])\n",
        "print(x.index)\n",
        "print(x.values)\n",
        "print(x.dtype)\n",
        "print(x.size)\n",
        "print(x.shape)\n",
        "print(len(x))"
      ],
      "metadata": {
        "id": "v35EJLmz2_kN",
        "colab": {
          "base_uri": "https://localhost:8080/"
        },
        "outputId": "33f322ac-7d77-4a4d-9ca0-806b86ca53ee"
      },
      "id": "v35EJLmz2_kN",
      "execution_count": 50,
      "outputs": [
        {
          "output_type": "stream",
          "name": "stdout",
          "text": [
            "4\n",
            "Index(['a', 'b', 'c', 'd'], dtype='object')\n",
            "[1 2 3 4]\n",
            "int64\n",
            "4\n",
            "(4,)\n",
            "4\n"
          ]
        },
        {
          "output_type": "stream",
          "name": "stderr",
          "text": [
            "<ipython-input-50-73b66bb5e031>:1: FutureWarning: Series.__getitem__ treating keys as positions is deprecated. In a future version, integer keys will always be treated as labels (consistent with DataFrame behavior). To access a value by position, use `ser.iloc[pos]`\n",
            "  print(x[3])\n"
          ]
        }
      ]
    },
    {
      "cell_type": "code",
      "source": [
        "a = pd.Series(data = [1,2,3,np.nan], index = [0,1,2,3])\n",
        "print(a)\n",
        "print(a.hasnans)"
      ],
      "metadata": {
        "id": "Qz2o2euX3CI9",
        "colab": {
          "base_uri": "https://localhost:8080/"
        },
        "outputId": "f292a7ad-7094-44f1-d46d-411b255e7de6"
      },
      "id": "Qz2o2euX3CI9",
      "execution_count": 55,
      "outputs": [
        {
          "output_type": "stream",
          "name": "stdout",
          "text": [
            "0    1.0\n",
            "1    2.0\n",
            "2    3.0\n",
            "3    NaN\n",
            "dtype: float64\n",
            "True\n"
          ]
        }
      ]
    },
    {
      "cell_type": "markdown",
      "source": [
        "#DataFrame"
      ],
      "metadata": {
        "id": "tvQUXHOS3EPM"
      },
      "id": "tvQUXHOS3EPM"
    },
    {
      "cell_type": "code",
      "source": [
        "df = pd.DataFrame()\n",
        "print(df)"
      ],
      "metadata": {
        "id": "CaZNulcx3FJo"
      },
      "id": "CaZNulcx3FJo",
      "execution_count": null,
      "outputs": []
    },
    {
      "cell_type": "code",
      "source": [
        "x = ['Python','Pandas']\n",
        "\n",
        "df = pd.DataFrame(x)\n",
        "df"
      ],
      "metadata": {
        "id": "PHpb4L3v3H-A"
      },
      "id": "PHpb4L3v3H-A",
      "execution_count": null,
      "outputs": []
    },
    {
      "cell_type": "code",
      "source": [
        "info = {'ID':[101,102,103,104,105],'Department':['MEC','CEC','MPC','BIPC','HEC']}\n",
        "\n",
        "df = pd.DataFrame(info)\n",
        "df"
      ],
      "metadata": {
        "id": "4p8qENmi3JYj"
      },
      "id": "4p8qENmi3JYj",
      "execution_count": null,
      "outputs": []
    },
    {
      "cell_type": "code",
      "source": [
        "emp = ['Parker','John','Smith','William']\n",
        "id = [102,107,109,111]\n",
        "\n",
        "emp_series = pd.Series(emp)\n",
        "id_series = pd.Series(id)\n",
        "\n",
        "a = {'Emp':emp_series, 'ID':id_series}\n",
        "df = pd.DataFrame(a)\n",
        "df\n"
      ],
      "metadata": {
        "id": "HsC7AzYo3LCF"
      },
      "id": "HsC7AzYo3LCF",
      "execution_count": null,
      "outputs": []
    },
    {
      "cell_type": "code",
      "source": [
        "info = {'One':pd.Series([1,2,3,4,5,6,7], index=['a','b','c','d','e','f','g']),\n",
        "       'Two': pd.Series([1,2,3,4,5,6,7,8],index = ['a','b','c','d','e','f','g','h'])}\n",
        "\n",
        "df = pd.DataFrame(info)\n",
        "df"
      ],
      "metadata": {
        "id": "sW0POTNc3MzO"
      },
      "id": "sW0POTNc3MzO",
      "execution_count": null,
      "outputs": []
    },
    {
      "cell_type": "code",
      "source": [
        "df['Two']"
      ],
      "metadata": {
        "id": "BhQu30vn3MrY"
      },
      "id": "BhQu30vn3MrY",
      "execution_count": null,
      "outputs": []
    },
    {
      "cell_type": "code",
      "source": [
        "df['Three'] = df['One'] + df['Two']\n",
        "df"
      ],
      "metadata": {
        "id": "QzBuI41p3QIN"
      },
      "id": "QzBuI41p3QIN",
      "execution_count": null,
      "outputs": []
    },
    {
      "cell_type": "code",
      "source": [
        "del df['One']\n",
        "df"
      ],
      "metadata": {
        "id": "jPrIrerF3Rlf"
      },
      "id": "jPrIrerF3Rlf",
      "execution_count": null,
      "outputs": []
    },
    {
      "cell_type": "markdown",
      "source": [
        "#loc and iloc"
      ],
      "metadata": {
        "id": "D3YVUVPo3TnO"
      },
      "id": "D3YVUVPo3TnO"
    },
    {
      "cell_type": "code",
      "source": [
        "data = pd.Series(['a','b','c','d'], index = [1,3,5,7])\n",
        "print(data)\n",
        "print(data.loc[1])\n",
        "print(data.iloc[1])"
      ],
      "metadata": {
        "id": "ScYoZEhg3UiS"
      },
      "id": "ScYoZEhg3UiS",
      "execution_count": null,
      "outputs": []
    },
    {
      "cell_type": "markdown",
      "source": [
        "#Additonal Functions\n"
      ],
      "metadata": {
        "id": "bzWnWTPi3ccZ"
      },
      "id": "bzWnWTPi3ccZ"
    },
    {
      "cell_type": "code",
      "source": [
        "data = {\"Name\":['A','B','C','D'],'Age':['25','21','62','41']}\n",
        "df = pd.DataFrame(data)\n",
        "print(df.dtypes)\n",
        "df"
      ],
      "metadata": {
        "id": "yIR8hMj03d-B"
      },
      "id": "yIR8hMj03d-B",
      "execution_count": null,
      "outputs": []
    },
    {
      "cell_type": "code",
      "source": [
        "#astype --> convert one datatype into another datatype\n",
        "\n",
        "df['Age'] = df['Age'].astype(int)\n",
        "print(df.dtypes)\n",
        "df"
      ],
      "metadata": {
        "id": "7hDvVkNh3gKf"
      },
      "id": "7hDvVkNh3gKf",
      "execution_count": null,
      "outputs": []
    },
    {
      "cell_type": "code",
      "source": [
        "df.describe()"
      ],
      "metadata": {
        "id": "ji3TZvaE3imH"
      },
      "id": "ji3TZvaE3imH",
      "execution_count": null,
      "outputs": []
    },
    {
      "cell_type": "code",
      "source": [
        "data = {'Name':['A','B',np.nan,'D'], 'Age':[25,np.nan,62,41]}\n",
        "df = pd.DataFrame(data)\n",
        "df"
      ],
      "metadata": {
        "id": "bKLl3oh53lrc"
      },
      "id": "bKLl3oh53lrc",
      "execution_count": null,
      "outputs": []
    },
    {
      "cell_type": "code",
      "source": [
        "df1 = df.dropna()\n",
        "df1\n"
      ],
      "metadata": {
        "id": "sqjKW_wI3nMf"
      },
      "id": "sqjKW_wI3nMf",
      "execution_count": null,
      "outputs": []
    },
    {
      "cell_type": "code",
      "source": [
        "df1 = df.fillna(0)\n",
        "df1"
      ],
      "metadata": {
        "id": "v6fvUur03oqx"
      },
      "id": "v6fvUur03oqx",
      "execution_count": null,
      "outputs": []
    },
    {
      "cell_type": "code",
      "source": [
        "data = {\"Name\":['A','B','C','D'],'Age':[25,21,62,41]}\n",
        "df = pd.DataFrame(data)\n",
        "\n",
        "df['Age'].replace(25,30, inplace=True)\n",
        "df"
      ],
      "metadata": {
        "id": "yV181hjS3sU3"
      },
      "id": "yV181hjS3sU3",
      "execution_count": null,
      "outputs": []
    },
    {
      "cell_type": "markdown",
      "source": [
        "#   Wroking with CSV files\n",
        "    #open empty Excel file\n",
        "    #Click on file -> Save as -> (Choose the location of the current .py file)\n",
        "    #Create a file name & choose the type as CSV (comma delimited)\n",
        "    #Enter some values in the file"
      ],
      "metadata": {
        "id": "LJODAA383u7S"
      },
      "id": "LJODAA383u7S"
    },
    {
      "cell_type": "code",
      "source": [
        "df = pd.read_csv('Book1.csv')\n",
        "df"
      ],
      "metadata": {
        "id": "XAnpUrS033NE"
      },
      "id": "XAnpUrS033NE",
      "execution_count": null,
      "outputs": []
    },
    {
      "cell_type": "code",
      "source": [
        "df.head() #generates first 5 rows"
      ],
      "metadata": {
        "id": "YgYN_7U235SH"
      },
      "id": "YgYN_7U235SH",
      "execution_count": null,
      "outputs": []
    },
    {
      "cell_type": "code",
      "source": [
        "df.tail() #generates lsat five rows"
      ],
      "metadata": {
        "id": "2fgBL0xT36qf"
      },
      "id": "2fgBL0xT36qf",
      "execution_count": null,
      "outputs": []
    },
    {
      "cell_type": "code",
      "source": [
        "df"
      ],
      "metadata": {
        "id": "Q_cPAygN38JR"
      },
      "id": "Q_cPAygN38JR",
      "execution_count": null,
      "outputs": []
    },
    {
      "cell_type": "code",
      "source": [
        "df.apply(np.max)"
      ],
      "metadata": {
        "id": "ApDigRhv4AD1"
      },
      "id": "ApDigRhv4AD1",
      "execution_count": null,
      "outputs": []
    },
    {
      "cell_type": "code",
      "source": [
        "df.apply(np.min)"
      ],
      "metadata": {
        "id": "IA1i2LRo4BVi"
      },
      "id": "IA1i2LRo4BVi",
      "execution_count": null,
      "outputs": []
    },
    {
      "cell_type": "code",
      "source": [
        "df.sort_values(by = 'AGE')"
      ],
      "metadata": {
        "id": "ooLdA5FA4D4k"
      },
      "id": "ooLdA5FA4D4k",
      "execution_count": null,
      "outputs": []
    },
    {
      "cell_type": "code",
      "source": [
        "df.loc[df.SALARY == 10000]"
      ],
      "metadata": {
        "id": "Mhm-LSaw4GhW"
      },
      "id": "Mhm-LSaw4GhW",
      "execution_count": null,
      "outputs": []
    },
    {
      "cell_type": "code",
      "source": [
        "df.loc[(df.AGE > 21) & (df.SALARY > 10000),[\"NAME\",\"AGE\"]]"
      ],
      "metadata": {
        "id": "kAeWqj2Y4Ir3"
      },
      "id": "kAeWqj2Y4Ir3",
      "execution_count": null,
      "outputs": []
    }
  ],
  "metadata": {
    "kernelspec": {
      "display_name": "Python 3 (ipykernel)",
      "language": "python",
      "name": "python3"
    },
    "language_info": {
      "codemirror_mode": {
        "name": "ipython",
        "version": 3
      },
      "file_extension": ".py",
      "mimetype": "text/x-python",
      "name": "python",
      "nbconvert_exporter": "python",
      "pygments_lexer": "ipython3",
      "version": "3.9.7"
    },
    "colab": {
      "provenance": [],
      "collapsed_sections": [
        "tsVkbPv1que-",
        "sCZ-2IHQqyov",
        "rZ5bvnorq2YF",
        "ZVarTp0fq6kl",
        "ARpKgzibrAON",
        "_u51ZYRg2oeM",
        "-JrWdnu-22VC",
        "tvQUXHOS3EPM",
        "D3YVUVPo3TnO",
        "bzWnWTPi3ccZ",
        "LJODAA383u7S"
      ]
    }
  },
  "nbformat": 4,
  "nbformat_minor": 5
}