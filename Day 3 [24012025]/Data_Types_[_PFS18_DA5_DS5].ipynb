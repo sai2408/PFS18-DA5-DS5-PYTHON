{
  "nbformat": 4,
  "nbformat_minor": 0,
  "metadata": {
    "colab": {
      "provenance": [],
      "collapsed_sections": [
        "abBBFRFFm76m",
        "X0XdcoD9VfDk",
        "HWm3gZwrXf-h",
        "aU52j7AeXwVz",
        "TvAHECGXYGoC",
        "mSQUvnKpYgb0",
        "SfeSgLAbZVxG",
        "k_EWNOy-a7Un",
        "m-VEWOX2bBWr",
        "TsoDVe68bFKf"
      ]
    },
    "kernelspec": {
      "name": "python3",
      "display_name": "Python 3"
    },
    "language_info": {
      "name": "python"
    }
  },
  "cells": [
    {
      "cell_type": "markdown",
      "source": [
        "#Data Types\n",
        "    1. Numeric Types:\n",
        "        int\n",
        "        flaot\n",
        "        complex\n",
        "    2. Sequence Types:\n",
        "        list\n",
        "        tuple\n",
        "    3. Mapping Types:\n",
        "        dict\n",
        "    4. Set types\n",
        "        sets\n",
        "        frozensets\n",
        "    5. Boolean Types\n",
        "        bool [ True / False ]\n",
        "    6. Text Type:\n",
        "        Strings"
      ],
      "metadata": {
        "id": "Q-M84qHsmuG2"
      }
    },
    {
      "cell_type": "markdown",
      "source": [
        "#Numeric\n",
        "    1. Int\n",
        "    2. Float\n",
        "    3. Complex"
      ],
      "metadata": {
        "id": "abBBFRFFm76m"
      }
    },
    {
      "cell_type": "code",
      "execution_count": null,
      "metadata": {
        "id": "rArahkFEmsPR",
        "colab": {
          "base_uri": "https://localhost:8080/"
        },
        "outputId": "b882a3bd-5dec-4951-d89e-e4937a92472c"
      },
      "outputs": [
        {
          "output_type": "stream",
          "name": "stdout",
          "text": [
            "10751144\n",
            "10751464\n",
            "10751144\n"
          ]
        }
      ],
      "source": [
        "'''\n",
        "a = 10\n",
        "b = 20\n",
        "c = 10.56\n",
        "print(a)\n",
        "print(b)\n",
        "print(type(a))\n",
        "'''\n",
        "'''\n",
        "a = 10\n",
        "print(type(a))\n",
        "a = 10.45\n",
        "print(type(a))\n",
        "a = complex(4,5)\n",
        "print(type(a))\n",
        "print(a)\n",
        "print(id(a))\n",
        "'''\n",
        "a = 10\n",
        "b = 20\n",
        "c = 10\n",
        "print(id(a))\n",
        "print(id(b))\n",
        "print(id(c))"
      ]
    },
    {
      "cell_type": "markdown",
      "source": [
        "#Sequence\n",
        "    1. Lists\n",
        "    2. Tuples"
      ],
      "metadata": {
        "id": "NXtbkA-1nD1s"
      }
    },
    {
      "cell_type": "markdown",
      "source": [
        "#Lists\n",
        "    List is ordered collection of items\n",
        "    Item could be of any python Data Type\n",
        "    Lists are Mutable\n",
        "    Square brackets represents Lists\n",
        "    \n",
        "    Operations on Lists:\n",
        "        Creation\n",
        "        Accessing\n",
        "        Insertion\n",
        "        Deletion\n",
        "        Updation\n"
      ],
      "metadata": {
        "id": "z4o2293AnMwp"
      }
    },
    {
      "cell_type": "markdown",
      "source": [
        "#List Operations\n"
      ],
      "metadata": {
        "id": "X0XdcoD9VfDk"
      }
    },
    {
      "cell_type": "markdown",
      "source": [
        "1. Creation\n",
        "        Creation of an Empty List\n",
        "        Creation of List with Single Element\n",
        "        Creation of List with multiple Elements\n",
        "        Creation of list with user Inputs [ Lets Discuss Later ]"
      ],
      "metadata": {
        "id": "CRxp_v4YXGI9"
      }
    },
    {
      "cell_type": "code",
      "source": [
        "a = []\n",
        "print(a)\n",
        "print(type(a))\n",
        "b = [1]\n",
        "c = [10.45]\n",
        "print(b)\n",
        "print(type(b))\n",
        "print(c)\n",
        "print(type(c))\n",
        "d = [10,20,67.89,4+7j]\n",
        "print(d)\n",
        "print(type(d))"
      ],
      "metadata": {
        "id": "QsCSnMGgXMLK",
        "colab": {
          "base_uri": "https://localhost:8080/"
        },
        "outputId": "c65daf0d-6e61-42e6-8870-8b848f553e51"
      },
      "execution_count": null,
      "outputs": [
        {
          "output_type": "stream",
          "name": "stdout",
          "text": [
            "[]\n",
            "<class 'list'>\n",
            "[1]\n",
            "<class 'list'>\n",
            "[10.45]\n",
            "<class 'list'>\n",
            "[10, 20, 67.89, (4+7j)]\n",
            "<class 'list'>\n"
          ]
        }
      ]
    },
    {
      "cell_type": "markdown",
      "source": [
        "2. Accessing\n",
        "    Indexing\n",
        "        Positive Indexing\n",
        "        Negetive Indexing\n",
        "    Looping [ Discuss Later ]\n",
        "        For Loop with range\n",
        "        For Loop without range\n",
        "    Methods\n",
        "        index()\n",
        "        count()\n",
        "        copy()\n",
        "    Slicing\n",
        "        Positive Slicing\n",
        "        Negetive Slicing"
      ],
      "metadata": {
        "id": "envMkRJbXMmS"
      }
    },
    {
      "cell_type": "code",
      "source": [
        "a = [10,20,30,40,50,60]\n",
        "print(a[4])\n",
        "print(a[0])\n",
        "print(a[-1])\n",
        "print(a[6-1])"
      ],
      "metadata": {
        "id": "WTKSXAmOXPfw",
        "colab": {
          "base_uri": "https://localhost:8080/"
        },
        "outputId": "162bdbfd-c34d-4ffa-936a-0583ce19878b"
      },
      "execution_count": null,
      "outputs": [
        {
          "output_type": "stream",
          "name": "stdout",
          "text": [
            "50\n",
            "10\n",
            "60\n",
            "60\n"
          ]
        }
      ]
    },
    {
      "cell_type": "code",
      "source": [
        "a = [10,20,300,40,30,50]\n",
        "print(a.index(30))"
      ],
      "metadata": {
        "colab": {
          "base_uri": "https://localhost:8080/"
        },
        "id": "gWU5BErx_02e",
        "outputId": "755ef8ac-0164-48f5-a0f4-8851d700901c"
      },
      "execution_count": null,
      "outputs": [
        {
          "output_type": "stream",
          "name": "stdout",
          "text": [
            "4\n"
          ]
        }
      ]
    },
    {
      "cell_type": "code",
      "source": [
        "a = [10,20,30,40,50,30,40,30]\n",
        "print(a.count(30))"
      ],
      "metadata": {
        "colab": {
          "base_uri": "https://localhost:8080/"
        },
        "id": "zmnZvrGDB9G0",
        "outputId": "fa7c794d-21a5-419c-ba08-af724d07dda3"
      },
      "execution_count": null,
      "outputs": [
        {
          "output_type": "stream",
          "name": "stdout",
          "text": [
            "3\n"
          ]
        }
      ]
    },
    {
      "cell_type": "code",
      "source": [
        "a = [10,20,30]\n",
        "b = a.copy()\n",
        "print(a)\n",
        "print(b)"
      ],
      "metadata": {
        "colab": {
          "base_uri": "https://localhost:8080/"
        },
        "id": "63bkxbGjCGac",
        "outputId": "55738268-03d8-4f11-cc47-82554b42c7ab"
      },
      "execution_count": null,
      "outputs": [
        {
          "output_type": "stream",
          "name": "stdout",
          "text": [
            "[10, 20, 30]\n",
            "[10, 20, 30]\n"
          ]
        }
      ]
    },
    {
      "cell_type": "code",
      "source": [
        "a = [10,20,30]\n",
        "b = a.copy()\n",
        "print(a)\n",
        "print(b)\n",
        "b[1] = 25\n",
        "print(a)\n",
        "print(b)\n"
      ],
      "metadata": {
        "colab": {
          "base_uri": "https://localhost:8080/"
        },
        "id": "5MvU9C6_CMN7",
        "outputId": "29735da4-e762-415e-c798-1bdefeb25f49"
      },
      "execution_count": null,
      "outputs": [
        {
          "output_type": "stream",
          "name": "stdout",
          "text": [
            "[10, 20, 30]\n",
            "[10, 20, 30]\n",
            "[10, 20, 30]\n",
            "[10, 25, 30]\n"
          ]
        }
      ]
    },
    {
      "cell_type": "code",
      "source": [
        "a = [10,20,30,40,50,60,70,80]\n",
        "print(a[::])\n",
        "print(a[:])\n",
        "print(a[::1])\n",
        "print(a[::2])\n",
        "print(a[::3])\n",
        "print(a[::-1])\n",
        "print(a[::-2])\n",
        "print(a[2:])\n",
        "print(a[:5])\n",
        "print(a[3:6])\n",
        "print(a[2:6:2])\n",
        "print(a[11:25])\n",
        "b = [10,20,30,40,50,60,70]\n",
        "print(b[5:2:-1])"
      ],
      "metadata": {
        "colab": {
          "base_uri": "https://localhost:8080/"
        },
        "id": "Glj38SxVCr0n",
        "outputId": "ff5ec6de-59c7-4b28-c031-124565567b8b"
      },
      "execution_count": 20,
      "outputs": [
        {
          "output_type": "stream",
          "name": "stdout",
          "text": [
            "[10, 20, 30, 40, 50, 60, 70, 80]\n",
            "[10, 20, 30, 40, 50, 60, 70, 80]\n",
            "[10, 20, 30, 40, 50, 60, 70, 80]\n",
            "[10, 30, 50, 70]\n",
            "[10, 40, 70]\n",
            "[80, 70, 60, 50, 40, 30, 20, 10]\n",
            "[80, 60, 40, 20]\n",
            "[30, 40, 50, 60, 70, 80]\n",
            "[10, 20, 30, 40, 50]\n",
            "[40, 50, 60]\n",
            "[30, 50]\n",
            "[]\n",
            "[60, 50, 40]\n"
          ]
        }
      ]
    },
    {
      "cell_type": "markdown",
      "source": [
        "3. Insertion\n",
        "        Methods\n",
        "          append()\n",
        "          extend()\n",
        "          insert()"
      ],
      "metadata": {
        "id": "GqbJb6u3XPz8"
      }
    },
    {
      "cell_type": "code",
      "source": [
        "a = [10,20,30]\n",
        "a.append(40)\n",
        "print(a)"
      ],
      "metadata": {
        "id": "xtZsumXTXaXI",
        "colab": {
          "base_uri": "https://localhost:8080/"
        },
        "outputId": "7e9a8fa1-88c7-4682-92e2-9e9e04125073"
      },
      "execution_count": null,
      "outputs": [
        {
          "output_type": "stream",
          "name": "stdout",
          "text": [
            "[10, 20, 30, 40]\n"
          ]
        }
      ]
    },
    {
      "cell_type": "code",
      "source": [
        "a = [10,20,30]\n",
        "b = [70,60]\n",
        "b.extend(a)\n",
        "print(a)\n",
        "print(b)"
      ],
      "metadata": {
        "colab": {
          "base_uri": "https://localhost:8080/"
        },
        "id": "CCZjrUetDUMy",
        "outputId": "e97c0926-923c-4f0b-f514-61494d48ce3b"
      },
      "execution_count": null,
      "outputs": [
        {
          "output_type": "stream",
          "name": "stdout",
          "text": [
            "[10, 20, 30]\n",
            "[70, 60, 10, 20, 30]\n"
          ]
        }
      ]
    },
    {
      "cell_type": "code",
      "source": [
        "a = [10,20,30,40]\n",
        "a.insert(2,25)\n",
        "print(a)\n",
        "a.insert(0,5)\n",
        "print(a)"
      ],
      "metadata": {
        "colab": {
          "base_uri": "https://localhost:8080/"
        },
        "id": "Mct62DGdDdWM",
        "outputId": "38a4c195-2ce9-4a5c-b96b-1a7009354ecf"
      },
      "execution_count": null,
      "outputs": [
        {
          "output_type": "stream",
          "name": "stdout",
          "text": [
            "[10, 20, 25, 30, 40]\n",
            "[5, 10, 20, 25, 30, 40]\n"
          ]
        }
      ]
    },
    {
      "cell_type": "markdown",
      "source": [
        "4. Deletion\n",
        "        Methods\n",
        "          remove()\n",
        "          pop()\n",
        "          clear()"
      ],
      "metadata": {
        "id": "t0uQ9SArXV8H"
      }
    },
    {
      "cell_type": "code",
      "source": [
        "a = [10,20,30,40]\n",
        "print(a)\n",
        "a.remove(30)\n",
        "print(a)\n",
        "b = [1,2,3,4,2,3,4]\n",
        "print(b)\n",
        "b.remove(3)\n",
        "print(b)"
      ],
      "metadata": {
        "colab": {
          "base_uri": "https://localhost:8080/"
        },
        "id": "HsPoPzv_F55E",
        "outputId": "943dd983-2a89-49b1-e04f-a58b404e7d4d"
      },
      "execution_count": 15,
      "outputs": [
        {
          "output_type": "stream",
          "name": "stdout",
          "text": [
            "[10, 20, 30, 40]\n",
            "[10, 20, 40]\n",
            "[1, 2, 3, 4, 2, 3, 4]\n",
            "[1, 2, 4, 2, 3, 4]\n"
          ]
        }
      ]
    },
    {
      "cell_type": "code",
      "source": [
        "a = [10,20,30,40,50]\n",
        "print(a)\n",
        "a.pop()\n",
        "print(a)\n",
        "b = [1,2,3,4,5]\n",
        "print(b)\n",
        "b.pop(3)\n",
        "print(b)"
      ],
      "metadata": {
        "id": "XBavFaO4Xd5C",
        "colab": {
          "base_uri": "https://localhost:8080/"
        },
        "outputId": "19a37bb5-66db-482a-836a-8f964052c25d"
      },
      "execution_count": 17,
      "outputs": [
        {
          "output_type": "stream",
          "name": "stdout",
          "text": [
            "[10, 20, 30, 40, 50]\n",
            "[10, 20, 30, 40]\n",
            "[1, 2, 3, 4, 5]\n",
            "[1, 2, 3, 5]\n"
          ]
        }
      ]
    },
    {
      "cell_type": "code",
      "source": [
        "a = [1,2,3,4,5]\n",
        "print(a)\n",
        "a.clear()\n",
        "print(a)"
      ],
      "metadata": {
        "colab": {
          "base_uri": "https://localhost:8080/"
        },
        "id": "1VQbtEHVHMM6",
        "outputId": "7a17ec6e-6ac3-4e09-eaf6-4b7972d3e214"
      },
      "execution_count": 18,
      "outputs": [
        {
          "output_type": "stream",
          "name": "stdout",
          "text": [
            "[1, 2, 3, 4, 5]\n",
            "[]\n"
          ]
        }
      ]
    },
    {
      "cell_type": "markdown",
      "source": [
        "5. Updation\n",
        "        Indexing\n",
        "            Positive\n",
        "            Negetive\n",
        "        Methods\n",
        "          sort()\n",
        "          reverse()"
      ],
      "metadata": {
        "id": "N2EY9wghXZF5"
      }
    },
    {
      "cell_type": "code",
      "source": [
        "a = [10,20,30,40,50]\n",
        "a[2] = 350\n",
        "print(a)\n",
        "a[-2] = 450\n",
        "print(a)\n",
        "b = [7,3,7,2,87]\n",
        "print(b)\n",
        "b.sort()\n",
        "print(b)\n",
        "c = [34,56,78]\n",
        "print(c)\n",
        "c.reverse()\n",
        "print(c)"
      ],
      "metadata": {
        "id": "35UBYjgQXfKF",
        "colab": {
          "base_uri": "https://localhost:8080/"
        },
        "outputId": "348f756e-0711-45fc-f9bd-33594b37c223"
      },
      "execution_count": 27,
      "outputs": [
        {
          "output_type": "stream",
          "name": "stdout",
          "text": [
            "[10, 20, 350, 40, 50]\n",
            "[10, 20, 350, 450, 50]\n",
            "[7, 3, 7, 2, 87]\n",
            "[2, 3, 7, 7, 87]\n",
            "[34, 56, 78]\n",
            "[78, 56, 34]\n"
          ]
        }
      ]
    },
    {
      "cell_type": "markdown",
      "source": [
        "#Built-in functions in Lists\n",
        "    len()\n",
        "    max()\n",
        "    min()\n",
        "    sum()\n",
        "    sorted()"
      ],
      "metadata": {
        "id": "HWm3gZwrXf-h"
      }
    },
    {
      "cell_type": "code",
      "source": [
        "a = [10,20,40,12,7]\n",
        "print(len(a))\n",
        "print(max(a))\n",
        "print(min(a))\n",
        "print(sum(a))\n",
        "print(sorted(a))\n",
        "b = [4,2,7]\n",
        "b.sort()\n",
        "print(b)\n",
        "c = [4,2,7]\n",
        "print(sorted(c))\n",
        "print(c)"
      ],
      "metadata": {
        "id": "5Or1BskgXu7w",
        "colab": {
          "base_uri": "https://localhost:8080/"
        },
        "outputId": "b95ebfda-1c9b-4c0d-d11b-f71c11461527"
      },
      "execution_count": 37,
      "outputs": [
        {
          "output_type": "stream",
          "name": "stdout",
          "text": [
            "5\n",
            "40\n",
            "7\n",
            "89\n",
            "[7, 10, 12, 20, 40]\n",
            "[2, 4, 7]\n",
            "[2, 4, 7]\n",
            "[4, 2, 7]\n"
          ]
        }
      ]
    },
    {
      "cell_type": "markdown",
      "source": [
        "#External Operations on Lists\n",
        "    1. concatenation\n",
        "    2. repetetion\n",
        "    3. membership"
      ],
      "metadata": {
        "id": "aU52j7AeXwVz"
      }
    },
    {
      "cell_type": "code",
      "source": [
        "a = [10,20,30,40]\n",
        "b = [1,2,3,4]\n",
        "print(a+b)\n",
        "c = [1,2,3]\n",
        "print(c*3)\n",
        "d = [10,20,30,40]\n",
        "print(100 in d)"
      ],
      "metadata": {
        "id": "_4x_zUSNX7Mt",
        "colab": {
          "base_uri": "https://localhost:8080/"
        },
        "outputId": "cdfd5a4f-d60b-4798-e78f-97f40549bcd4"
      },
      "execution_count": 42,
      "outputs": [
        {
          "output_type": "stream",
          "name": "stdout",
          "text": [
            "[10, 20, 30, 40, 1, 2, 3, 4]\n",
            "[1, 2, 3, 1, 2, 3, 1, 2, 3]\n",
            "False\n"
          ]
        }
      ]
    },
    {
      "cell_type": "markdown",
      "source": [
        "#List Comprehension\n",
        "    Its an elegant way to define lists in python\n",
        "\n",
        "    Breakdown of List Comprehension:\n",
        "        1. Output Expression\n",
        "        2. Input Sequence\n",
        "        3. Condition"
      ],
      "metadata": {
        "id": "TvAHECGXYGoC"
      }
    },
    {
      "cell_type": "code",
      "source": [],
      "metadata": {
        "id": "uGDjzK2zbdYH"
      },
      "execution_count": null,
      "outputs": []
    },
    {
      "cell_type": "markdown",
      "source": [
        "#Nested Lists\n",
        "    List inside another lists is called as Nested Lists"
      ],
      "metadata": {
        "id": "mSQUvnKpYgb0"
      }
    },
    {
      "cell_type": "code",
      "source": [],
      "metadata": {
        "id": "0KnwM2zrYYEI"
      },
      "execution_count": null,
      "outputs": []
    },
    {
      "cell_type": "markdown",
      "source": [
        "#Tuples\n",
        "    Tuple is ordered collection of items.\n",
        "    It could be of any python data type\n",
        "    Its an immutable data structure\n",
        "\n",
        "    Operations on Tuple:\n",
        "        Creation\n",
        "        Accessing"
      ],
      "metadata": {
        "id": "oz3LR66SnPKI"
      }
    },
    {
      "cell_type": "markdown",
      "source": [
        "#Tuple Operations\n",
        "  \n"
      ],
      "metadata": {
        "id": "SfeSgLAbZVxG"
      }
    },
    {
      "cell_type": "markdown",
      "source": [
        "1. Creation\n",
        "        Creation of an Empty List\n",
        "        Creation of List with Single Element\n",
        "        Creation of List with multiple Elements\n",
        "        Creation of list with user Inputs [ Lets Discuss Later ]"
      ],
      "metadata": {
        "id": "LmBTNISJZ7CU"
      }
    },
    {
      "cell_type": "code",
      "source": [],
      "metadata": {
        "id": "HV1DHtVnakJZ"
      },
      "execution_count": null,
      "outputs": []
    },
    {
      "cell_type": "markdown",
      "source": [
        "2. Accessing\n",
        "  1. Indexing\n",
        "          Positive Indexing\n",
        "          Negetive Indexing\n",
        "  2. Looping\n",
        "            For Loop with range\n",
        "            For Loop without range\n",
        "  3. Methods\n",
        "            index()\n",
        "            count()\n",
        "            copy()\n",
        "  4. Slicing\n",
        "          Positive Slicing\n",
        "          Negetive Slicing"
      ],
      "metadata": {
        "id": "EbRioTKEaF-a"
      }
    },
    {
      "cell_type": "code",
      "source": [],
      "metadata": {
        "id": "QAhXkNvsaz2T"
      },
      "execution_count": null,
      "outputs": []
    },
    {
      "cell_type": "markdown",
      "source": [
        "#Built-in functions in Tuple\n",
        "    len()\n",
        "    max()\n",
        "    min()\n",
        "    sum()"
      ],
      "metadata": {
        "id": "k_EWNOy-a7Un"
      }
    },
    {
      "cell_type": "code",
      "source": [],
      "metadata": {
        "id": "T1U3XKmia8XZ"
      },
      "execution_count": null,
      "outputs": []
    },
    {
      "cell_type": "markdown",
      "source": [
        "#External Operations on Lists\n",
        "    1. concatenation\n",
        "    2. repetetion\n",
        "    3. membership"
      ],
      "metadata": {
        "id": "m-VEWOX2bBWr"
      }
    },
    {
      "cell_type": "code",
      "source": [],
      "metadata": {
        "id": "uv5QMZEfbCYS"
      },
      "execution_count": null,
      "outputs": []
    },
    {
      "cell_type": "markdown",
      "source": [
        "#Nested Tuple\n",
        "    Tuple inside another tuple is called as tuple"
      ],
      "metadata": {
        "id": "TsoDVe68bFKf"
      }
    },
    {
      "cell_type": "code",
      "source": [],
      "metadata": {
        "id": "xm4svwMTbgnr"
      },
      "execution_count": null,
      "outputs": []
    }
  ]
}