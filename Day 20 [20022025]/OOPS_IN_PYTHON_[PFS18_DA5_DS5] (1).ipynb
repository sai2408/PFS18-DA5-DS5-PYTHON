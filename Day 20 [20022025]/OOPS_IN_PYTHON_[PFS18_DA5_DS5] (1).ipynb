{
  "nbformat": 4,
  "nbformat_minor": 0,
  "metadata": {
    "colab": {
      "provenance": []
    },
    "kernelspec": {
      "name": "python3",
      "display_name": "Python 3"
    },
    "language_info": {
      "name": "python"
    }
  },
  "cells": [
    {
      "cell_type": "markdown",
      "source": [
        "#OOPS IN PYTHON\n",
        "    1. Class\n",
        "    2. Object\n",
        "    3. Attributes\n",
        "    4. Methods\n",
        "    5. Constructors"
      ],
      "metadata": {
        "id": "ogHMnCf9J05C"
      }
    },
    {
      "cell_type": "code",
      "source": [
        "class hello:\n",
        "    a = 10\n",
        "    b = 20\n",
        "    def abc(self):\n",
        "        print(\"This is Function from hello\")\n",
        "    def hello1(self):\n",
        "        print(\"I am from hello 1\")\n",
        "class bye:\n",
        "    a = 100\n",
        "    b = 20\n",
        "    def abc(self):\n",
        "      print(\"This is function from bye\")\n",
        "    def hello2(self):\n",
        "        print(\"I am from hello 2\")\n",
        "ob1 = hello()\n",
        "print(ob1.a)\n",
        "print(ob1.b)\n",
        "ob1.hello1()\n",
        "ob1.abc()\n",
        "\n",
        "ob2 = hello()\n",
        "print(ob2.a)\n",
        "print(ob2.b)\n",
        "ob2.hello1()\n",
        "ob2.abc()\n",
        "\n",
        "ob3 = bye()\n",
        "ob3.abc()\n",
        "\n"
      ],
      "metadata": {
        "colab": {
          "base_uri": "https://localhost:8080/"
        },
        "id": "6zc1EWFi90ZD",
        "outputId": "c89d7aef-b69e-4538-80ce-08e9ff46f8ca"
      },
      "execution_count": null,
      "outputs": [
        {
          "output_type": "stream",
          "name": "stdout",
          "text": [
            "10\n",
            "20\n",
            "I am from hello 1\n",
            "This is Function from hello\n",
            "10\n",
            "20\n",
            "I am from hello 1\n",
            "This is Function from hello\n",
            "This is function from bye\n"
          ]
        }
      ]
    },
    {
      "cell_type": "code",
      "source": [
        "class hello:\n",
        "    def __init__(self):\n",
        "        print(\"This is Constructor 1\")\n",
        "    def abc(self):\n",
        "      print(\"Hello\")\n",
        "obj = hello()\n",
        "obj.abc()"
      ],
      "metadata": {
        "colab": {
          "base_uri": "https://localhost:8080/"
        },
        "id": "VrrjsgBsASsI",
        "outputId": "4199c842-8a2c-447f-9b6f-aeb622ed60a8"
      },
      "execution_count": null,
      "outputs": [
        {
          "output_type": "stream",
          "name": "stdout",
          "text": [
            "This is Constructor 1\n",
            "Hello\n"
          ]
        }
      ]
    },
    {
      "cell_type": "code",
      "source": [
        "class bye:\n",
        "    def __init__(self,a,b):\n",
        "        self.a = a\n",
        "        self.b = b\n",
        "    def hello(self):\n",
        "        print(self.a,self.b)\n",
        "ob = bye(100,200)\n",
        "ob.hello()"
      ],
      "metadata": {
        "colab": {
          "base_uri": "https://localhost:8080/"
        },
        "id": "PuN8UEUWAqBN",
        "outputId": "f495b043-d0e8-4838-b6ab-4286348c8d06"
      },
      "execution_count": null,
      "outputs": [
        {
          "output_type": "stream",
          "name": "stdout",
          "text": [
            "100 200\n"
          ]
        }
      ]
    },
    {
      "cell_type": "code",
      "source": [
        "class Rectangle:\n",
        "    def __init__(self,a,b):\n",
        "        self.a = a\n",
        "        self.b = b\n",
        "    def area(self):\n",
        "        print(self.a * self.b)\n",
        "    def perimeter(self):\n",
        "        print(2*(self.a + self.b))\n",
        "r1 = Rectangle(10,20)\n",
        "r2 = Rectangle(1,2)\n",
        "r1.area()\n",
        "r2.area()\n",
        "r1.perimeter()\n",
        "r2.perimeter()"
      ],
      "metadata": {
        "colab": {
          "base_uri": "https://localhost:8080/"
        },
        "id": "gmin7layB-Tm",
        "outputId": "3deca2f7-34b6-425b-949d-06557c5b6ed3"
      },
      "execution_count": null,
      "outputs": [
        {
          "output_type": "stream",
          "name": "stdout",
          "text": [
            "200\n",
            "2\n",
            "60\n",
            "6\n"
          ]
        }
      ]
    },
    {
      "cell_type": "code",
      "source": [
        "class car:\n",
        "    def __init__(self,brand,model):\n",
        "        self.brand = brand\n",
        "        self.model = model\n",
        "    def display_brand(self):\n",
        "        print(\"The brand name is \" + self.brand)\n",
        "    def display_model(self):\n",
        "        print(\"The model is \"+ self.model)\n",
        "c1 = car(\"Toyota\",\"Camry\")\n",
        "c1.display_brand()\n",
        "c2 = car(\"Honda\",\"Civic\")\n",
        "c2.display_model()\n",
        "c1.display_model()\n"
      ],
      "metadata": {
        "colab": {
          "base_uri": "https://localhost:8080/"
        },
        "id": "bWSCOIRPCnsv",
        "outputId": "a7cd5ea6-ec59-4a07-8108-b30e2721a292"
      },
      "execution_count": null,
      "outputs": [
        {
          "output_type": "stream",
          "name": "stdout",
          "text": [
            "The brand name is Toyota\n",
            "The model is Civic\n",
            "The model is Camry\n"
          ]
        }
      ]
    },
    {
      "cell_type": "markdown",
      "source": [
        "#Access Specifiers\n",
        "    1. Public\n",
        "    2. Private"
      ],
      "metadata": {
        "id": "OsTk6AipKL8_"
      }
    },
    {
      "cell_type": "code",
      "source": [
        "#Public\n",
        "'''\n",
        "class hello:\n",
        "    a = 10\n",
        "    def __init__(self):\n",
        "        self.a = 100\n",
        "    def display(self):\n",
        "        print(self.a)\n",
        "ob = hello()\n",
        "ob.display()\n",
        "ob.a = 1000\n",
        "ob.display()\n",
        "'''\n",
        "#Private\n",
        "'''\n",
        "class hello:\n",
        "    __a = 10\n",
        "    def __init__(self):\n",
        "        self.__a = 100\n",
        "    def display(self):\n",
        "        print(self.__a)\n",
        "ob = hello()\n",
        "ob.display()\n",
        "ob.__a = 1000\n",
        "ob.display()\n",
        "'''"
      ],
      "metadata": {
        "colab": {
          "base_uri": "https://localhost:8080/"
        },
        "id": "C5NY2yd_A8n2",
        "outputId": "69252f29-e8be-441d-a401-ee28ff416879"
      },
      "execution_count": 17,
      "outputs": [
        {
          "output_type": "stream",
          "name": "stdout",
          "text": [
            "100\n",
            "100\n"
          ]
        }
      ]
    },
    {
      "cell_type": "markdown",
      "source": [
        "#4 PILLERS OF OOPS\n",
        "    1. Encapsulation\n",
        "    2. Inheritance\n",
        "    3. Polymorphism\n",
        "    3. Abstraction"
      ],
      "metadata": {
        "id": "Ia_IMFSxKCnw"
      }
    },
    {
      "cell_type": "markdown",
      "source": [
        "#1. Encapsulation"
      ],
      "metadata": {
        "id": "TQxczYS9LbSr"
      }
    },
    {
      "cell_type": "code",
      "source": [
        "class aaa:\n",
        "    def hello1(self):\n",
        "        self.a = \"Hello\"\n",
        "class bbb:\n",
        "    def hello2(self):\n",
        "        print(self.a)\n",
        "oa = aaa()\n",
        "ob = bbb()\n",
        "ob.hello2()"
      ],
      "metadata": {
        "colab": {
          "base_uri": "https://localhost:8080/",
          "height": 297
        },
        "id": "9kZjwAIDIClO",
        "outputId": "7c8d2b8f-a261-4bbf-c122-0d6c3eab6087"
      },
      "execution_count": 21,
      "outputs": [
        {
          "output_type": "error",
          "ename": "AttributeError",
          "evalue": "'bbb' object has no attribute 'a'",
          "traceback": [
            "\u001b[0;31m---------------------------------------------------------------------------\u001b[0m",
            "\u001b[0;31mAttributeError\u001b[0m                            Traceback (most recent call last)",
            "\u001b[0;32m<ipython-input-21-55f257d45ac0>\u001b[0m in \u001b[0;36m<cell line: 0>\u001b[0;34m()\u001b[0m\n\u001b[1;32m      7\u001b[0m \u001b[0moa\u001b[0m \u001b[0;34m=\u001b[0m \u001b[0maaa\u001b[0m\u001b[0;34m(\u001b[0m\u001b[0;34m)\u001b[0m\u001b[0;34m\u001b[0m\u001b[0;34m\u001b[0m\u001b[0m\n\u001b[1;32m      8\u001b[0m \u001b[0mob\u001b[0m \u001b[0;34m=\u001b[0m \u001b[0mbbb\u001b[0m\u001b[0;34m(\u001b[0m\u001b[0;34m)\u001b[0m\u001b[0;34m\u001b[0m\u001b[0;34m\u001b[0m\u001b[0m\n\u001b[0;32m----> 9\u001b[0;31m \u001b[0mob\u001b[0m\u001b[0;34m.\u001b[0m\u001b[0mhello2\u001b[0m\u001b[0;34m(\u001b[0m\u001b[0;34m)\u001b[0m\u001b[0;34m\u001b[0m\u001b[0;34m\u001b[0m\u001b[0m\n\u001b[0m",
            "\u001b[0;32m<ipython-input-21-55f257d45ac0>\u001b[0m in \u001b[0;36mhello2\u001b[0;34m(self)\u001b[0m\n\u001b[1;32m      4\u001b[0m \u001b[0;32mclass\u001b[0m \u001b[0mbbb\u001b[0m\u001b[0;34m:\u001b[0m\u001b[0;34m\u001b[0m\u001b[0;34m\u001b[0m\u001b[0m\n\u001b[1;32m      5\u001b[0m     \u001b[0;32mdef\u001b[0m \u001b[0mhello2\u001b[0m\u001b[0;34m(\u001b[0m\u001b[0mself\u001b[0m\u001b[0;34m)\u001b[0m\u001b[0;34m:\u001b[0m\u001b[0;34m\u001b[0m\u001b[0;34m\u001b[0m\u001b[0m\n\u001b[0;32m----> 6\u001b[0;31m         \u001b[0mprint\u001b[0m\u001b[0;34m(\u001b[0m\u001b[0mself\u001b[0m\u001b[0;34m.\u001b[0m\u001b[0ma\u001b[0m\u001b[0;34m)\u001b[0m\u001b[0;34m\u001b[0m\u001b[0;34m\u001b[0m\u001b[0m\n\u001b[0m\u001b[1;32m      7\u001b[0m \u001b[0moa\u001b[0m \u001b[0;34m=\u001b[0m \u001b[0maaa\u001b[0m\u001b[0;34m(\u001b[0m\u001b[0;34m)\u001b[0m\u001b[0;34m\u001b[0m\u001b[0;34m\u001b[0m\u001b[0m\n\u001b[1;32m      8\u001b[0m \u001b[0mob\u001b[0m \u001b[0;34m=\u001b[0m \u001b[0mbbb\u001b[0m\u001b[0;34m(\u001b[0m\u001b[0;34m)\u001b[0m\u001b[0;34m\u001b[0m\u001b[0;34m\u001b[0m\u001b[0m\n",
            "\u001b[0;31mAttributeError\u001b[0m: 'bbb' object has no attribute 'a'"
          ]
        }
      ]
    },
    {
      "cell_type": "code",
      "source": [
        "class solution:\n",
        "    def findelement(self,arr):\n",
        "        arr = set(arr)\n",
        "        return len(arr)\n",
        "a = list(map(int,input().split()))\n",
        "ob = solution()\n",
        "x = ob.findelement(a)\n",
        "print(x)"
      ],
      "metadata": {
        "colab": {
          "base_uri": "https://localhost:8080/"
        },
        "id": "M6qJvnIdOD6W",
        "outputId": "e2879ed1-fc03-43c0-b31a-e5cb3a80ae8e"
      },
      "execution_count": 24,
      "outputs": [
        {
          "output_type": "stream",
          "name": "stdout",
          "text": [
            "1 1 2\n",
            "2\n"
          ]
        }
      ]
    },
    {
      "cell_type": "code",
      "source": [
        "\n",
        "x = \"a1b2c3d4\"\n",
        "ob = findsolution(x)\n",
        "x = ob.generate()\n",
        "print(x)\n",
        "#o/p -> 1234abcd"
      ],
      "metadata": {
        "id": "wG9VFq4VOlvZ"
      },
      "execution_count": null,
      "outputs": []
    },
    {
      "cell_type": "markdown",
      "source": [
        "#2. Inheritance\n",
        "    1. Single Inheritance\n",
        "    2. Multiple Inheritance\n",
        "    3. Multi Level Inheritance\n",
        "    4. Hierarchical Inheritance\n",
        "    5. Hybrid Inheritance"
      ],
      "metadata": {
        "id": "KEhv_M50Kyqv"
      }
    },
    {
      "cell_type": "markdown",
      "source": [
        "#Super Method"
      ],
      "metadata": {
        "id": "xtWsj_MqLJWt"
      }
    },
    {
      "cell_type": "markdown",
      "source": [
        "#3. Polymorphism\n",
        "    1. Method Overloading\n",
        "    2. Method Overriding\n",
        "    3. Operator Overloading"
      ],
      "metadata": {
        "id": "uX0rzRvALLj2"
      }
    },
    {
      "cell_type": "markdown",
      "source": [
        "#4. Hybrid Inheritance"
      ],
      "metadata": {
        "id": "R7jHrQFKLVm2"
      }
    },
    {
      "cell_type": "markdown",
      "source": [
        "#Exception Handling\n",
        "    Key Points:\n",
        "        1. Try\n",
        "        2. Except\n",
        "        3. Else\n",
        "        4. Finally"
      ],
      "metadata": {
        "id": "V5DQWXKU0-Vy"
      }
    }
  ]
}