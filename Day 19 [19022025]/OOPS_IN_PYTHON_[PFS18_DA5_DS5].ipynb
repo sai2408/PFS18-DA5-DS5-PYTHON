{
  "nbformat": 4,
  "nbformat_minor": 0,
  "metadata": {
    "colab": {
      "provenance": []
    },
    "kernelspec": {
      "name": "python3",
      "display_name": "Python 3"
    },
    "language_info": {
      "name": "python"
    }
  },
  "cells": [
    {
      "cell_type": "markdown",
      "source": [
        "#OOPS IN PYTHON\n",
        "    1. Class\n",
        "    2. Object\n",
        "    3. Attributes\n",
        "    4. Methods\n",
        "    5. Constructors"
      ],
      "metadata": {
        "id": "ogHMnCf9J05C"
      }
    },
    {
      "cell_type": "code",
      "source": [
        "class hello:\n",
        "    a = 10\n",
        "    b = 20\n",
        "    def abc(self):\n",
        "        print(\"This is Function from hello\")\n",
        "    def hello1(self):\n",
        "        print(\"I am from hello 1\")\n",
        "class bye:\n",
        "    a = 100\n",
        "    b = 20\n",
        "    def abc(self):\n",
        "      print(\"This is function from bye\")\n",
        "    def hello2(self):\n",
        "        print(\"I am from hello 2\")\n",
        "ob1 = hello()\n",
        "print(ob1.a)\n",
        "print(ob1.b)\n",
        "ob1.hello1()\n",
        "ob1.abc()\n",
        "\n",
        "ob2 = hello()\n",
        "print(ob2.a)\n",
        "print(ob2.b)\n",
        "ob2.hello1()\n",
        "ob2.abc()\n",
        "\n",
        "ob3 = bye()\n",
        "ob3.abc()\n",
        "\n",
        ""
      ],
      "metadata": {
        "colab": {
          "base_uri": "https://localhost:8080/"
        },
        "id": "6zc1EWFi90ZD",
        "outputId": "c89d7aef-b69e-4538-80ce-08e9ff46f8ca"
      },
      "execution_count": 16,
      "outputs": [
        {
          "output_type": "stream",
          "name": "stdout",
          "text": [
            "10\n",
            "20\n",
            "I am from hello 1\n",
            "This is Function from hello\n",
            "10\n",
            "20\n",
            "I am from hello 1\n",
            "This is Function from hello\n",
            "This is function from bye\n"
          ]
        }
      ]
    },
    {
      "cell_type": "code",
      "source": [
        "class hello:\n",
        "    def __init__(self):\n",
        "        print(\"This is Constructor 1\")\n",
        "    def abc(self):\n",
        "      print(\"Hello\")\n",
        "obj = hello()\n",
        "obj.abc()"
      ],
      "metadata": {
        "colab": {
          "base_uri": "https://localhost:8080/"
        },
        "id": "VrrjsgBsASsI",
        "outputId": "4199c842-8a2c-447f-9b6f-aeb622ed60a8"
      },
      "execution_count": 19,
      "outputs": [
        {
          "output_type": "stream",
          "name": "stdout",
          "text": [
            "This is Constructor 1\n",
            "Hello\n"
          ]
        }
      ]
    },
    {
      "cell_type": "code",
      "source": [
        "class bye:\n",
        "    def __init__(self,a,b):\n",
        "        self.a = a\n",
        "        self.b = b\n",
        "    def hello(self):\n",
        "        print(self.a,self.b)\n",
        "ob = bye(100,200)\n",
        "ob.hello()"
      ],
      "metadata": {
        "colab": {
          "base_uri": "https://localhost:8080/"
        },
        "id": "PuN8UEUWAqBN",
        "outputId": "f495b043-d0e8-4838-b6ab-4286348c8d06"
      },
      "execution_count": 27,
      "outputs": [
        {
          "output_type": "stream",
          "name": "stdout",
          "text": [
            "100 200\n"
          ]
        }
      ]
    },
    {
      "cell_type": "code",
      "source": [
        "class Rectangle:\n",
        "    def __init__(self,a,b):\n",
        "        self.a = a\n",
        "        self.b = b\n",
        "    def area(self):\n",
        "        print(self.a * self.b)\n",
        "    def perimeter(self):\n",
        "        print(2*(self.a + self.b))\n",
        "r1 = Rectangle(10,20)\n",
        "r2 = Rectangle(1,2)\n",
        "r1.area()\n",
        "r2.area()\n",
        "r1.perimeter()\n",
        "r2.perimeter()"
      ],
      "metadata": {
        "colab": {
          "base_uri": "https://localhost:8080/"
        },
        "id": "gmin7layB-Tm",
        "outputId": "3deca2f7-34b6-425b-949d-06557c5b6ed3"
      },
      "execution_count": 31,
      "outputs": [
        {
          "output_type": "stream",
          "name": "stdout",
          "text": [
            "200\n",
            "2\n",
            "60\n",
            "6\n"
          ]
        }
      ]
    },
    {
      "cell_type": "code",
      "source": [
        "class car:\n",
        "    def __init__(self,brand,model):\n",
        "        self.brand = brand\n",
        "        self.model = model\n",
        "    def display_brand(self):\n",
        "        print(\"The brand name is \" + self.brand)\n",
        "    def display_model(self):\n",
        "        print(\"The model is \"+ self.model)\n",
        "c1 = car(\"Toyota\",\"Camry\")\n",
        "c1.display_brand()\n",
        "c2 = car(\"Honda\",\"Civic\")\n",
        "c2.display_model()\n",
        "c1.display_model()\n"
      ],
      "metadata": {
        "colab": {
          "base_uri": "https://localhost:8080/"
        },
        "id": "bWSCOIRPCnsv",
        "outputId": "a7cd5ea6-ec59-4a07-8108-b30e2721a292"
      },
      "execution_count": 42,
      "outputs": [
        {
          "output_type": "stream",
          "name": "stdout",
          "text": [
            "The brand name is Toyota\n",
            "The model is Civic\n",
            "The model is Camry\n"
          ]
        }
      ]
    },
    {
      "cell_type": "markdown",
      "source": [
        "#Access Specifiers\n",
        "    1. Public\n",
        "    2. Private"
      ],
      "metadata": {
        "id": "OsTk6AipKL8_"
      }
    },
    {
      "cell_type": "markdown",
      "source": [
        "#4 PILLERS OF OOPS\n",
        "    1. Encapsulation\n",
        "    2. Inheritance\n",
        "    3. Polymorphism\n",
        "    3. Abstraction"
      ],
      "metadata": {
        "id": "Ia_IMFSxKCnw"
      }
    },
    {
      "cell_type": "markdown",
      "source": [
        "#1. Encapsulation"
      ],
      "metadata": {
        "id": "TQxczYS9LbSr"
      }
    },
    {
      "cell_type": "markdown",
      "source": [
        "#2. Inheritance\n",
        "    1. Single Inheritance\n",
        "    2. Multiple Inheritance\n",
        "    3. Multi Level Inheritance\n",
        "    4. Hierarchical Inheritance\n",
        "    5. Hybrid Inheritance"
      ],
      "metadata": {
        "id": "KEhv_M50Kyqv"
      }
    },
    {
      "cell_type": "markdown",
      "source": [
        "#Super Method"
      ],
      "metadata": {
        "id": "xtWsj_MqLJWt"
      }
    },
    {
      "cell_type": "markdown",
      "source": [
        "#3. Polymorphism\n",
        "    1. Method Overloading\n",
        "    2. Method Overriding\n",
        "    3. Operator Overloading"
      ],
      "metadata": {
        "id": "uX0rzRvALLj2"
      }
    },
    {
      "cell_type": "markdown",
      "source": [
        "#4. Hybrid Inheritance"
      ],
      "metadata": {
        "id": "R7jHrQFKLVm2"
      }
    },
    {
      "cell_type": "markdown",
      "source": [
        "#Exception Handling\n",
        "    Key Points:\n",
        "        1. Try\n",
        "        2. Except\n",
        "        3. Else\n",
        "        4. Finally"
      ],
      "metadata": {
        "id": "V5DQWXKU0-Vy"
      }
    }
  ]
}