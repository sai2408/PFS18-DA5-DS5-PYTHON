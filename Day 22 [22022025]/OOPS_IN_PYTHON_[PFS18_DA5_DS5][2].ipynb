{
  "nbformat": 4,
  "nbformat_minor": 0,
  "metadata": {
    "colab": {
      "provenance": []
    },
    "kernelspec": {
      "name": "python3",
      "display_name": "Python 3"
    },
    "language_info": {
      "name": "python"
    }
  },
  "cells": [
    {
      "cell_type": "markdown",
      "source": [
        "#OOPS IN PYTHON\n",
        "    1. Class\n",
        "    2. Object\n",
        "    3. Attributes\n",
        "    4. Methods\n",
        "    5. Constructors"
      ],
      "metadata": {
        "id": "ogHMnCf9J05C"
      }
    },
    {
      "cell_type": "markdown",
      "source": [
        "#Access Specifiers\n",
        "    1. Public\n",
        "    2. Private"
      ],
      "metadata": {
        "id": "OsTk6AipKL8_"
      }
    },
    {
      "cell_type": "markdown",
      "source": [
        "#4 PILLERS OF OOPS\n",
        "    1. Encapsulation\n",
        "    2. Inheritance\n",
        "    3. Polymorphism\n",
        "    3. Abstraction"
      ],
      "metadata": {
        "id": "Ia_IMFSxKCnw"
      }
    },
    {
      "cell_type": "markdown",
      "source": [
        "#1. Encapsulation\n",
        "    Encapsulation is one of the core concepts of Object-Oriented Programming (OOP).\n",
        "    It is the mechanism of restricting direct access to some components of an object while still allowing controlled interaction.\n",
        "    In Python, encapsulation helps in data hiding and ensures that the internal state of an object is not directly modified from outside the class."
      ],
      "metadata": {
        "id": "TQxczYS9LbSr"
      }
    },
    {
      "cell_type": "markdown",
      "source": [
        "#2. Inheritance\n",
        "    Inheritance is a fundamental concept of Object-Oriented Programming (OOP) that allows a child class (or subclass) to inherit properties\n",
        "    and behaviors (methods) from a parent class (or superclass). This promotes code reusability and\n",
        "    establishes a hierarchical relationship between classes.\n",
        "\n",
        "    1. Single Inheritance\n",
        "        One child class inherits from one parent class.\n",
        "    2. Multiple Inheritance\n",
        "        A child class inherits from more than one parent class.\n",
        "    3. Multi Level Inheritance\n",
        "        A child class inherits from a parent class, and another class inherits from that child class.\n",
        "    4. Hierarchical Inheritance\n",
        "        Multiple child classes inherit from a single parent class.\n",
        "    5. Hybrid Inheritance\n",
        "        Combination of two or more types of inheritance."
      ],
      "metadata": {
        "id": "KEhv_M50Kyqv"
      }
    },
    {
      "cell_type": "markdown",
      "source": [
        "#Super Method\n",
        "    The super() function in Python is used to give access to methods and properties of a parent (or superclass) from a child (or subclass).\n",
        "    It is commonly used in inheritance to call methods from the parent class without directly referring to the parent class name."
      ],
      "metadata": {
        "id": "xtWsj_MqLJWt"
      }
    },
    {
      "cell_type": "code",
      "source": [
        "class A:\n",
        "  def hello(self):\n",
        "      print(\"I am from class A\")\n",
        "class B(A):\n",
        "  def hello(self):\n",
        "    super().hello()\n",
        "ob = B()\n",
        "ob.hello()"
      ],
      "metadata": {
        "colab": {
          "base_uri": "https://localhost:8080/"
        },
        "id": "cSkHlMk2Sls3",
        "outputId": "b51d435e-1118-4d6f-e2d6-84b32b2bca91"
      },
      "execution_count": 2,
      "outputs": [
        {
          "output_type": "stream",
          "name": "stdout",
          "text": [
            "I am from class A\n"
          ]
        }
      ]
    },
    {
      "cell_type": "markdown",
      "source": [
        "#3. Polymorphism\n",
        "    Polymorphism is a core concept of Object-Oriented Programming (OOP) that allows objects of different classes to be treated\n",
        "    as objects of a common super class.\n",
        "    It enables a single function, method, or operator to behave differently based on the object it is acting upon.\n",
        "    The word polymorphism comes from the Greek words \"poly\" (many) and \"morph\" (forms), meaning \"many forms\".\n",
        "\n",
        "    Types of Polymorphism\n",
        "    1. Duck Typing (Dynamic Polymorphism)\n",
        "        In Python, if an object behaves like a particular type, it is that type — \"If it walks like a duck and quacks like a duck, it's a duck.\"\n",
        "\n",
        "    2. Method Overriding\n",
        "        In inheritance, a child class can provide a specific implementation of a method already defined in its parent class.\n",
        "\n",
        "    3. Method Overloading\n",
        "        Python doesn't support traditional method overloading. However, it can be achieved using default arguments or *args and **args.\n",
        "\n",
        "    4. Operator Overloading\n",
        "        Python allows operators to have different meanings based on the context, by using magic methods (dunder methods).\n"
      ],
      "metadata": {
        "id": "uX0rzRvALLj2"
      }
    },
    {
      "cell_type": "code",
      "source": [
        "#Duck Typing\n",
        "class A:\n",
        "  def hello(self):\n",
        "    print(\"I am from class a\")\n",
        "class B:\n",
        "  def hello(self):\n",
        "    print(\"I am from class b\")\n",
        "oa = A()\n",
        "oa.hello()\n",
        "\n",
        "ob = B()\n",
        "ob.hello()\n",
        "\n",
        "#Method overloading\n",
        "class hello:\n",
        "  def say(self,*abc):\n",
        "    res = 0\n",
        "    for i in abc:\n",
        "      res = res + i\n",
        "    print(res)\n",
        "  def say2(self,a=0,b=0,c=0):\n",
        "    print(a+b+c)\n",
        "h = hello()\n",
        "h.say(10)\n",
        "h.say(10,20)\n",
        "h.say(10,20,30)\n",
        "h.say(10,20,30,40)\n",
        "\n",
        "h.say2(10)\n",
        "h.say2(10,20)\n",
        "h.say2(10,20,30)\n",
        "\n",
        "#Operator Overloading\n",
        "class A:\n",
        "  def hello(self,a,b):\n",
        "    print(a+b)\n",
        "oa = A()\n",
        "oa.hello(10,20)\n",
        "oa.hello(\"hello\",\" world\")"
      ],
      "metadata": {
        "colab": {
          "base_uri": "https://localhost:8080/"
        },
        "id": "b6SHvWZHUs1-",
        "outputId": "ca0888d4-5b60-4b03-eed4-7f8793799c08"
      },
      "execution_count": 14,
      "outputs": [
        {
          "output_type": "stream",
          "name": "stdout",
          "text": [
            "I am from class a\n",
            "I am from class b\n",
            "10\n",
            "30\n",
            "60\n",
            "100\n",
            "10\n",
            "30\n",
            "60\n",
            "30\n",
            "hello world\n"
          ]
        }
      ]
    },
    {
      "cell_type": "markdown",
      "source": [
        "#4. Abstraction"
      ],
      "metadata": {
        "id": "NsQun5QcN83t"
      }
    },
    {
      "cell_type": "code",
      "source": [
        "from abc import ABC,abstractmethod\n",
        "\n",
        "class shape(ABC):\n",
        "  @abstractmethod\n",
        "  def area(self):\n",
        "    pass\n",
        "  def display1(self):\n",
        "    print(\"shape\")\n",
        "class rectangle(shape):\n",
        "  def area(self,a,b):\n",
        "    print(a * b)\n",
        "  def display(self):\n",
        "    print(\"Rectangle\")\n",
        "class square(shape):\n",
        "  def area(self,a):\n",
        "    print(a*a)\n",
        "  def display(self):\n",
        "    print(\"Square\")\n",
        "ob = rectangle()\n",
        "ob.area(2,4)\n",
        "ob.display()\n",
        "oc = square()\n",
        "oc.area(2)\n",
        "oc.display()\n",
        "\n",
        "ob.display()\n",
        "ob.display1()\n",
        "oc.display()\n",
        "oc.display1()"
      ],
      "metadata": {
        "id": "eiB1k9DZODB5",
        "colab": {
          "base_uri": "https://localhost:8080/"
        },
        "outputId": "63c0847a-5891-4430-8239-df73c5530794"
      },
      "execution_count": 29,
      "outputs": [
        {
          "output_type": "stream",
          "name": "stdout",
          "text": [
            "8\n",
            "Rectangle\n",
            "4\n",
            "Square\n",
            "Rectangle\n",
            "shape\n",
            "Square\n",
            "shape\n"
          ]
        }
      ]
    },
    {
      "cell_type": "code",
      "source": [
        "#Problem of the day\n",
        "t = int(input())\n",
        "for _ in range(t):\n",
        "  s = input()\n",
        "  s1 = True\n",
        "  r = \"\"\n",
        "  for i in s:\n",
        "    if i not in r:\n",
        "      r = r + i\n",
        "  for i in r:\n",
        "    k = s.replace(i,\"0\")\n",
        "    if \"11\" in k or \"00\" in k:\n",
        "      k = s.replace(i,\"1\")\n",
        "  if \"00\" in k or \"11\" in k:\n",
        "    print(\"No\")\n",
        "  else:\n",
        "    print(\"Yes\")\n",
        "\n",
        "\n",
        ""
      ],
      "metadata": {
        "colab": {
          "base_uri": "https://localhost:8080/"
        },
        "id": "_9t92nnMgQLD",
        "outputId": "453259ec-f23c-4b2b-c1a5-39dc523fc489"
      },
      "execution_count": 59,
      "outputs": [
        {
          "output_type": "stream",
          "name": "stdout",
          "text": [
            "1\n",
            "abacaba\n",
            "No\n"
          ]
        }
      ]
    },
    {
      "cell_type": "markdown",
      "source": [
        "#Exception Handling\n",
        "    Exception Handling in Python is a mechanism to gracefully handle runtime errors, ensuring that the program doesn't crash unexpectedly.\n",
        "    It allows you to detect errors, handle them properly, and continue program execution.\n",
        "\n",
        "    An exception is an event that occurs during the execution of a program that disrupts its normal flow. Common examples include\n",
        "    ZeroDivisionError, FileNotFoundError, and ValueError.\n",
        "\n",
        "    Key Points:\n",
        "        1. Try [ Code that might raise an exception. ]\n",
        "        2. Except [ Handles the exception ]\n",
        "        3. Else [ Executes if no exceptions occur ]\n",
        "        4. Finally [ Executes code regardless of an exception ]"
      ],
      "metadata": {
        "id": "V5DQWXKU0-Vy"
      }
    },
    {
      "cell_type": "code",
      "source": [],
      "metadata": {
        "id": "PtIImlX0Phd4"
      },
      "execution_count": null,
      "outputs": []
    }
  ]
}