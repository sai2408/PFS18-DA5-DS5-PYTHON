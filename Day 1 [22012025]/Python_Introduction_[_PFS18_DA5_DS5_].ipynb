{
  "nbformat": 4,
  "nbformat_minor": 0,
  "metadata": {
    "colab": {
      "provenance": []
    },
    "kernelspec": {
      "name": "python3",
      "display_name": "Python 3"
    },
    "language_info": {
      "name": "python"
    }
  },
  "cells": [
    {
      "cell_type": "markdown",
      "source": [
        "#Problem Solving Steps\n",
        "    1. Algorithm Developement\n",
        "        Step by Step Process\n",
        "    2. Flow Chart Design\n",
        "        Graphical representation of Process\n",
        "    3. Pseudo Code\n",
        "        Semi code of Process\n",
        "    4. Source Code\n",
        "        Complete Code"
      ],
      "metadata": {
        "id": "gdAgoF23io2W"
      }
    },
    {
      "cell_type": "markdown",
      "source": [
        "#Translator\n",
        "    The machine converts high level language to machine level language\n",
        "\n",
        "    Types of Translators:\n",
        "        1. Compiler\n",
        "        2. Assembler\n",
        "        3. Interpreter"
      ],
      "metadata": {
        "id": "lg5tlMgqjRGP"
      }
    },
    {
      "cell_type": "markdown",
      "source": [
        "#PYTHON"
      ],
      "metadata": {
        "id": "mQmRN-sDjHSi"
      }
    },
    {
      "cell_type": "markdown",
      "source": [
        "#History of Python\n",
        "    Python is an object-oriented and open-source language developed in the 1980s by Dutchman\n",
        "    Guido van Rossum.\n",
        "\n",
        "    Inception And Development : In the early 1980s Van Rossum used to work at CWI (Centrum voor\n",
        "    Wiskunde en Informatica) as an implementer of the programming language called ABC.\n",
        "\n",
        "    Later at CWI in the late 1980s, while working on a new distributed operating system called\n",
        "    AMOEBA, Van Rossum started looking for a scripting language with a syntax like ABC\n",
        "\n",
        "    Behind the name : Back in the 1970s, there was a popular BBC comedy tv show called Monty\n",
        "    Python’s Fly Circus and Van Rossum happened to be the big fan of that show.\n"
      ],
      "metadata": {
        "id": "O8Frrknsh1Hu"
      }
    },
    {
      "cell_type": "markdown",
      "source": [
        "#Variables\n",
        "    1. Varibale Naming Rules\n",
        "    2. Assignment\n",
        "    3. Reassignment\n",
        "    4. Multiple Assignment\n",
        "    5. Swapping\n",
        "    6. Deleting"
      ],
      "metadata": {
        "id": "SBenWSCgj1xs"
      }
    },
    {
      "cell_type": "code",
      "source": [
        "#Reassignment\n",
        "a = 10\n",
        "a = 100"
      ],
      "metadata": {
        "id": "j_xhBA4nm6J-"
      },
      "execution_count": 7,
      "outputs": []
    },
    {
      "cell_type": "code",
      "source": [
        "#Multiple Assignment\n",
        "a,b,c = 10,20,30\n",
        "x=y=z=0\n"
      ],
      "metadata": {
        "id": "j2T1hcnD4ep0"
      },
      "execution_count": null,
      "outputs": []
    },
    {
      "cell_type": "code",
      "source": [
        "#Swapping\n",
        "a = 10\n",
        "b = 20\n",
        "a,b = b,a\n"
      ],
      "metadata": {
        "id": "5KrIgCNz4vmc"
      },
      "execution_count": null,
      "outputs": []
    },
    {
      "cell_type": "code",
      "source": [
        "a = 10\n",
        "del a\n",
        "print(a)"
      ],
      "metadata": {
        "colab": {
          "base_uri": "https://localhost:8080/",
          "height": 176
        },
        "id": "IDHg3zRy44_J",
        "outputId": "4568b71d-fd57-4422-8ce2-3c82018b286d"
      },
      "execution_count": 9,
      "outputs": [
        {
          "output_type": "error",
          "ename": "NameError",
          "evalue": "name 'a' is not defined",
          "traceback": [
            "\u001b[0;31m---------------------------------------------------------------------------\u001b[0m",
            "\u001b[0;31mNameError\u001b[0m                                 Traceback (most recent call last)",
            "\u001b[0;32m<ipython-input-9-30dee1feeb1a>\u001b[0m in \u001b[0;36m<cell line: 0>\u001b[0;34m()\u001b[0m\n\u001b[1;32m      1\u001b[0m \u001b[0ma\u001b[0m \u001b[0;34m=\u001b[0m \u001b[0;36m10\u001b[0m\u001b[0;34m\u001b[0m\u001b[0;34m\u001b[0m\u001b[0m\n\u001b[1;32m      2\u001b[0m \u001b[0;32mdel\u001b[0m \u001b[0ma\u001b[0m\u001b[0;34m\u001b[0m\u001b[0;34m\u001b[0m\u001b[0m\n\u001b[0;32m----> 3\u001b[0;31m \u001b[0mprint\u001b[0m\u001b[0;34m(\u001b[0m\u001b[0ma\u001b[0m\u001b[0;34m)\u001b[0m\u001b[0;34m\u001b[0m\u001b[0;34m\u001b[0m\u001b[0m\n\u001b[0m",
            "\u001b[0;31mNameError\u001b[0m: name 'a' is not defined"
          ]
        }
      ]
    }
  ]
}