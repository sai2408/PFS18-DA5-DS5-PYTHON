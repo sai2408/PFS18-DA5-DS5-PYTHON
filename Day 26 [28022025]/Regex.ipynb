{
  "cells": [
    {
      "cell_type": "markdown",
      "source": [
        "#Regular Expression"
      ],
      "metadata": {
        "id": "xwHyW6LIQrbf"
      },
      "id": "xwHyW6LIQrbf"
    },
    {
      "cell_type": "markdown",
      "id": "e35544a9",
      "metadata": {
        "id": "e35544a9"
      },
      "source": [
        "\\d: Matches any digit (0-9). Example: \\d will match any single digit in a string.\n",
        "\n",
        "\\D: Matches any non-digit. Example: \\D will match any character that is not a digit.\n",
        "\n",
        "\\s: Matches any whitespace character (spaces, tabs, newlines). Example: \\s will match any space character.\n",
        "\n",
        "\\S: Matches any non-whitespace character. Example: \\S will match any character that is not a space.\n",
        "\n",
        "\\w: Matches any word character (alphanumeric + underscore). Example: \\w+ will match one or more word characters.\n",
        "\n",
        "\\W: Matches any non-word character. Example: \\W will match any character that is not a word character.\n",
        "\n",
        "\\A: Anchors the match at the start of the string. Example: \\A\\d will match a digit at the beginning of the string.\n",
        "\n",
        "\\b: Represents a word boundary. Example: \\bword\\b will match the word \"word\" as a whole word.\n",
        "\n",
        "\\B: Represents a non-word boundary. Example: \\Bword\\B will match the word \"word\" only if it's within another word.\n",
        "\n",
        "\\Z: Anchors the match at the end of the string. Example: pattern\\z will match \"pattern\" only at the end of the string."
      ]
    },
    {
      "cell_type": "markdown",
      "source": [
        "#Syntax\n",
        "\n",
        "```\n",
        "import re\n",
        "pattern = <Pattern>\n",
        "text = <Text>\n",
        "matches = re.<method_name>(pattern,text)\n",
        "print(matchers)\n",
        "```\n",
        "\n"
      ],
      "metadata": {
        "id": "FkLJRj-LPCJl"
      },
      "id": "FkLJRj-LPCJl"
    },
    {
      "cell_type": "code",
      "execution_count": 1,
      "id": "88fe95ff",
      "metadata": {
        "id": "88fe95ff",
        "outputId": "9c91995b-723c-4c14-e911-43d166f9c944",
        "colab": {
          "base_uri": "https://localhost:8080/"
        }
      },
      "outputs": [
        {
          "output_type": "stream",
          "name": "stdout",
          "text": [
            "['2', '5']\n"
          ]
        }
      ],
      "source": [
        "# \\d - Matches any digit (0-9)\n",
        "\n",
        "import re\n",
        "\n",
        "pattern = r'\\d'\n",
        "text = 'The price is 25 Rupees'\n",
        "\n",
        "matches = re.findall(pattern,text)\n",
        "print(matches)"
      ]
    },
    {
      "cell_type": "code",
      "execution_count": 2,
      "id": "0cff1e86",
      "metadata": {
        "id": "0cff1e86",
        "outputId": "a118cb8a-d421-4e6e-d917-bb2ff13ed0e0",
        "colab": {
          "base_uri": "https://localhost:8080/"
        }
      },
      "outputs": [
        {
          "output_type": "stream",
          "name": "stdout",
          "text": [
            "['T', 'h', 'e', ' ', 'p', 'r', 'i', 'c', 'e', ' ', 'i', 's', ' ', ' ', 'R', 'u', 'p', 'e', 'e', 's']\n"
          ]
        }
      ],
      "source": [
        "# \\D - Matches any non digit\n",
        "\n",
        "pattern = r'\\D'\n",
        "text = 'The price is 25 Rupees'\n",
        "\n",
        "matches = re.findall(pattern,text)\n",
        "print(matches)"
      ]
    },
    {
      "cell_type": "code",
      "execution_count": 3,
      "id": "9d5b8337",
      "metadata": {
        "id": "9d5b8337",
        "outputId": "f4e27859-74c0-4940-9e56-3fb804a7ec56",
        "colab": {
          "base_uri": "https://localhost:8080/"
        }
      },
      "outputs": [
        {
          "output_type": "stream",
          "name": "stdout",
          "text": [
            "[' ', ' ', ' ', ' ']\n"
          ]
        }
      ],
      "source": [
        "# \\s - Matches any white space character\n",
        "\n",
        "pattern = r'\\s'\n",
        "text = 'The price is 25 Rupees'\n",
        "\n",
        "matches = re.findall(pattern,text)\n",
        "print(matches)"
      ]
    },
    {
      "cell_type": "code",
      "execution_count": 4,
      "id": "e226a94f",
      "metadata": {
        "id": "e226a94f",
        "outputId": "603ad3aa-7322-4f59-f31c-b10a209ae529",
        "colab": {
          "base_uri": "https://localhost:8080/"
        }
      },
      "outputs": [
        {
          "output_type": "stream",
          "name": "stdout",
          "text": [
            "['T', 'h', 'e', 'p', 'r', 'i', 'c', 'e', 'i', 's', '2', '5', 'R', 'u', 'p', 'e', 'e', 's']\n"
          ]
        }
      ],
      "source": [
        "# \\S - Matches any non - white space character\n",
        "\n",
        "pattern = r'\\S'\n",
        "text = 'The price is 25 Rupees'\n",
        "\n",
        "matches = re.findall(pattern,text)\n",
        "print(matches)"
      ]
    },
    {
      "cell_type": "code",
      "execution_count": 6,
      "id": "ba6fa8cb",
      "metadata": {
        "id": "ba6fa8cb",
        "outputId": "a3f20118-8b13-4918-c464-5aba28c84e59",
        "colab": {
          "base_uri": "https://localhost:8080/"
        }
      },
      "outputs": [
        {
          "output_type": "stream",
          "name": "stdout",
          "text": [
            "['T', 'h', 'e', 'p', 'r', 'i', 'c', 'e', 'i', 's', '2', '5', 'R', 'u', 'p', 'e', 'e', 's', '_']\n"
          ]
        }
      ],
      "source": [
        "# \\w - Matches any word character(alphanumeric + underscore)\n",
        "import re\n",
        "pattern = r'\\w'\n",
        "text = 'The price is 25 Rupees_$'\n",
        "\n",
        "matches = re.findall(pattern,text)\n",
        "print(matches)"
      ]
    },
    {
      "cell_type": "code",
      "execution_count": 7,
      "id": "7f820f2c",
      "metadata": {
        "id": "7f820f2c",
        "outputId": "db569cd8-a470-4df0-8277-a40980805bc5",
        "colab": {
          "base_uri": "https://localhost:8080/"
        }
      },
      "outputs": [
        {
          "output_type": "stream",
          "name": "stdout",
          "text": [
            "[' ', ' ', ' ', ' ', ',', ' ', ' ', ' ', ' ', '#', ':']\n"
          ]
        }
      ],
      "source": [
        "# \\W - Matches any non word character\n",
        "\n",
        "pattern = r'\\W'\n",
        "text = 'The price is 25 Rupees, purchased by john_doe123 #:'\n",
        "\n",
        "matches = re.findall(pattern,text)\n",
        "print(matches)"
      ]
    },
    {
      "cell_type": "code",
      "execution_count": 10,
      "id": "f74389ab",
      "metadata": {
        "id": "f74389ab",
        "outputId": "e002a040-0e0e-4445-f248-f280b386856c",
        "colab": {
          "base_uri": "https://localhost:8080/"
        }
      },
      "outputs": [
        {
          "output_type": "stream",
          "name": "stdout",
          "text": [
            "['Hello']\n"
          ]
        }
      ],
      "source": [
        "# \\A: Anchors the match at the start of the string\n",
        "\n",
        "pattern = r'\\AHello'\n",
        "text = 'Hello world'\n",
        "\n",
        "matches = re.findall(pattern,text)\n",
        "print(matches)"
      ]
    },
    {
      "cell_type": "code",
      "execution_count": 23,
      "id": "1b504c4e",
      "metadata": {
        "id": "1b504c4e",
        "outputId": "7ee09a28-326b-40e2-a4c0-71bdb2605635",
        "colab": {
          "base_uri": "https://localhost:8080/"
        }
      },
      "outputs": [
        {
          "output_type": "stream",
          "name": "stdout",
          "text": [
            "['price', 'price']\n"
          ]
        }
      ],
      "source": [
        "# \\b: Represents a word boundary.\n",
        "\n",
        "pattern = r'\\bprice\\b'\n",
        "text = 'The price is 25 Rupees prices'\n",
        "\n",
        "matches = re.findall(pattern,text)\n",
        "print(matches)"
      ]
    },
    {
      "cell_type": "code",
      "execution_count": 29,
      "id": "b1a03834",
      "metadata": {
        "id": "b1a03834",
        "outputId": "fe7a40f2-4367-4860-c504-b15b2220762c",
        "colab": {
          "base_uri": "https://localhost:8080/"
        }
      },
      "outputs": [
        {
          "output_type": "stream",
          "name": "stdout",
          "text": [
            "['rice']\n"
          ]
        }
      ],
      "source": [
        "# \\B: Represents a non word boundary.\n",
        "import re\n",
        "pattern = r'\\Brice'\n",
        "text = 'The cprice is 25 Rupees prices'\n",
        "\n",
        "matches = re.findall(pattern,text)\n",
        "print(matches)"
      ]
    },
    {
      "cell_type": "code",
      "execution_count": 31,
      "id": "56895e83",
      "metadata": {
        "id": "56895e83",
        "outputId": "3377ce0e-7b5e-4f39-cf06-8c984b3bf26c",
        "colab": {
          "base_uri": "https://localhost:8080/"
        }
      },
      "outputs": [
        {
          "output_type": "stream",
          "name": "stdout",
          "text": [
            "[]\n"
          ]
        }
      ],
      "source": [
        "# \\Z: Anchors the match at the end of the string\n",
        "\n",
        "pattern = r'end\\Z'\n",
        "text = 'This is the ends'\n",
        "\n",
        "matches = re.findall(pattern,text)\n",
        "print(matches)"
      ]
    },
    {
      "cell_type": "raw",
      "id": "ca921b09",
      "metadata": {
        "id": "ca921b09"
      },
      "source": [
        "# Meta Characters\n",
        "\n",
        ". (Dot):\n",
        "Matches any character except the newline character.\n",
        "\n",
        "^ (Caret):\n",
        "Matches the pattern only at the start of the string, indicating a \"Starts With\" condition.\n",
        "\n",
        "$ (Dollar):\n",
        "Matches the pattern only at the end of the string before the newline character, indicating an \"Ends With\" condition.\n",
        "\n",
        "* (Asterisk):\n",
        "Matches zero or more occurrences of the preceding pattern.\n",
        "\n",
        "+ (Plus):\n",
        "Matches one or more occurrences of the preceding pattern.\n",
        "\n",
        "? (Question mark):\n",
        "Matches zero or one occurrence of the preceding pattern.\n",
        "\n",
        "{} (Curly Braces):\n",
        "Matches the exactly specified number of occurrences of the preceding pattern.\n",
        "\n",
        "[] (Bracket):\n",
        "Defines a set of characters, and the pattern matches any one of the characters within the set.\n",
        "\n",
        "| (Pipe):\n",
        "Acts as an OR operator, allowing the pattern to match either of the defined patterns."
      ]
    },
    {
      "cell_type": "code",
      "execution_count": 34,
      "id": "7fea38b7",
      "metadata": {
        "id": "7fea38b7",
        "outputId": "057e2c6c-0db3-45a4-c306-44c11c91d099",
        "colab": {
          "base_uri": "https://localhost:8080/"
        }
      },
      "outputs": [
        {
          "output_type": "stream",
          "name": "stdout",
          "text": [
            "['hat', 'h5t']\n"
          ]
        }
      ],
      "source": [
        "# Dot(.)\n",
        "\n",
        "pattern = r'h.t'\n",
        "text = 'hat, pot, h5t, haat'\n",
        "\n",
        "matches = re.findall(pattern,text)\n",
        "print(matches)"
      ]
    },
    {
      "cell_type": "code",
      "execution_count": 36,
      "id": "8eebb85d",
      "metadata": {
        "id": "8eebb85d",
        "outputId": "41f528e3-1a51-4922-9898-3f2b1c1e75b8",
        "colab": {
          "base_uri": "https://localhost:8080/"
        }
      },
      "outputs": [
        {
          "output_type": "stream",
          "name": "stdout",
          "text": [
            "[]\n"
          ]
        }
      ],
      "source": [
        "# Caret(^)\n",
        "\n",
        "pattern = r'^The'\n",
        "text = 'the price is 25 Rupees'\n",
        "\n",
        "matches = re.findall(pattern,text)\n",
        "print(matches)"
      ]
    },
    {
      "cell_type": "code",
      "execution_count": 37,
      "id": "68dbf178",
      "metadata": {
        "id": "68dbf178",
        "outputId": "b07324af-42df-4a7e-852a-9881f6f29d84",
        "colab": {
          "base_uri": "https://localhost:8080/"
        }
      },
      "outputs": [
        {
          "output_type": "stream",
          "name": "stdout",
          "text": [
            "['Rupees']\n"
          ]
        }
      ],
      "source": [
        "# $ (Dollar)\n",
        "\n",
        "pattern = r'Rupees$'\n",
        "text = 'The price is 25 Rupees'\n",
        "\n",
        "matches = re.findall(pattern,text)\n",
        "print(matches)"
      ]
    },
    {
      "cell_type": "code",
      "execution_count": 41,
      "id": "cf5a6a57",
      "metadata": {
        "id": "cf5a6a57",
        "outputId": "3ed82a2a-9219-4457-837f-df01ead059dc",
        "colab": {
          "base_uri": "https://localhost:8080/"
        }
      },
      "outputs": [
        {
          "output_type": "stream",
          "name": "stdout",
          "text": [
            "['ac', 'abc', 'abbc']\n"
          ]
        }
      ],
      "source": [
        "# * (Asterisk)\n",
        "\n",
        "pattern = r'ab*c'\n",
        "text = 'ac, abc, abbc, abdc'\n",
        "\n",
        "matches = re.findall(pattern,text)\n",
        "print(matches)"
      ]
    },
    {
      "cell_type": "code",
      "execution_count": 42,
      "id": "a7d08ceb",
      "metadata": {
        "id": "a7d08ceb",
        "outputId": "5262fe13-b03b-469d-d73d-c6898471a991",
        "colab": {
          "base_uri": "https://localhost:8080/"
        }
      },
      "outputs": [
        {
          "output_type": "stream",
          "name": "stdout",
          "text": [
            "['abc', 'abbc']\n"
          ]
        }
      ],
      "source": [
        "# + (Plus):\n",
        "\n",
        "pattern = r'ab+c'\n",
        "text = 'ac, abc, abbc, abd'\n",
        "\n",
        "matches = re.findall(pattern,text)\n",
        "print(matches)"
      ]
    },
    {
      "cell_type": "code",
      "execution_count": 44,
      "id": "7d9c168a",
      "metadata": {
        "id": "7d9c168a",
        "outputId": "6de81f93-b2c9-4b2e-d3ea-3908f4ef8d90",
        "colab": {
          "base_uri": "https://localhost:8080/"
        }
      },
      "outputs": [
        {
          "output_type": "stream",
          "name": "stdout",
          "text": [
            "['colors', 'color', 'colors']\n"
          ]
        }
      ],
      "source": [
        "# ?(Question mark)\n",
        "\n",
        "pattern = r'colors?'\n",
        "text = 'hai, colors, color colorssss'\n",
        "\n",
        "matches = re.findall(pattern,text)\n",
        "print(matches)"
      ]
    },
    {
      "cell_type": "code",
      "execution_count": 51,
      "id": "132f3463",
      "metadata": {
        "id": "132f3463",
        "outputId": "8dd97e3e-016a-43d4-819b-6f1f6a26a641",
        "colab": {
          "base_uri": "https://localhost:8080/"
        }
      },
      "outputs": [
        {
          "output_type": "stream",
          "name": "stdout",
          "text": [
            "['10:10']\n"
          ]
        }
      ],
      "source": [
        "# {} (Curly Braces)\n",
        "\n",
        "pattern = r'\\d{2}:\\d{2}'\n",
        "text = 'The time is 10:10'\n",
        "\n",
        "matches = re.findall(pattern,text)\n",
        "print(matches)"
      ]
    },
    {
      "cell_type": "code",
      "execution_count": 53,
      "id": "81fb063b",
      "metadata": {
        "id": "81fb063b",
        "outputId": "50836c3c-1a16-4db7-8708-17f5c8abce82",
        "colab": {
          "base_uri": "https://localhost:8080/"
        }
      },
      "outputs": [
        {
          "output_type": "stream",
          "name": "stdout",
          "text": [
            "['cat', 'hat']\n"
          ]
        }
      ],
      "source": [
        "# [] (Bracket)\n",
        "\n",
        "pattern = r'[ch]at'\n",
        "text = 'The cat wears hat'\n",
        "\n",
        "matches = re.findall(pattern,text)\n",
        "print(matches)"
      ]
    },
    {
      "cell_type": "code",
      "execution_count": 58,
      "id": "b16b5eaf",
      "metadata": {
        "id": "b16b5eaf",
        "outputId": "b73b86b6-ce1a-4d73-f249-a5051d058506",
        "colab": {
          "base_uri": "https://localhost:8080/"
        }
      },
      "outputs": [
        {
          "output_type": "stream",
          "name": "stdout",
          "text": [
            "['cat', 'hat']\n"
          ]
        }
      ],
      "source": [
        "# | (Pipe)\n",
        "\n",
        "pattern = r'cat|hat'\n",
        "text = 'The cat wears hat'\n",
        "\n",
        "matches = re.findall(pattern,text)\n",
        "print(matches)"
      ]
    },
    {
      "cell_type": "markdown",
      "id": "fd66217f",
      "metadata": {
        "id": "fd66217f"
      },
      "source": [
        "### Regex Functions\n",
        "\n",
        "re.compile(pattern, flags=0): Compiles a regular expression pattern into a regex object for efficient reuse.\n",
        "\n",
        "re.search(pattern, string, flags=0): Searches for the first occurrence of the pattern in the string and returns a match object.\n",
        "\n",
        "re.match(pattern, string, flags=0): Checks if the pattern matches at the beginning of the string and returns a match object.\n",
        "\n",
        "re.fullmatch(pattern, string, flags=0): Checks if the entire string matches the pattern and returns a match object.\n",
        "\n",
        "re.split(pattern, string, maxsplit=0, flags=0): Splits the string at occurrences of the pattern and returns a list of substrings.\n",
        "\n",
        "re.findall(pattern, string, flags=0): Finds all occurrences of the pattern in the string and returns a list of matches.\n",
        "\n",
        "re.finditer(pattern, string, flags=0): Finds all occurrences of the pattern in the string and returns an iterator of match objects.\n",
        "\n",
        "re.sub(pattern, repl, string, count=0, flags=0): Substitutes occurrences of the pattern with the replacement string in the input string.\n",
        "\n",
        "re.subn(pattern, repl, string, count=0, flags=0): Similar to re.sub, but also returns the number of substitutions made.\n",
        "\n",
        "re.escape(string): Escapes special characters in the string, making it safe to use as a literal in a regex pattern.\n"
      ]
    },
    {
      "cell_type": "code",
      "execution_count": null,
      "id": "3e03586d",
      "metadata": {
        "id": "3e03586d"
      },
      "outputs": [],
      "source": [
        "# re.compile\n",
        "\n",
        "pattern = re.compile(r'\\d+')\n",
        "text = 'There are 123 apples and 456 oranges'\n",
        "\n",
        "matches = re.findall(pattern,text)\n",
        "print(matches)"
      ]
    },
    {
      "cell_type": "code",
      "execution_count": null,
      "id": "ab65562d",
      "metadata": {
        "id": "ab65562d"
      },
      "outputs": [],
      "source": [
        "# re.search\n",
        "\n",
        "pattern = re.compile(r'\\d+')\n",
        "text = 'There are 123 apples and 456 oranges'\n",
        "\n",
        "matches = pattern.search(text)\n",
        "print(matches.group())"
      ]
    },
    {
      "cell_type": "code",
      "execution_count": null,
      "id": "a5501c14",
      "metadata": {
        "id": "a5501c14"
      },
      "outputs": [],
      "source": [
        "# re.match\n",
        "\n",
        "pattern = re.compile(r'\\d+')\n",
        "text = '123 apples and 456 oranges'\n",
        "\n",
        "matches = pattern.match(text)\n",
        "print(matches.group())"
      ]
    },
    {
      "cell_type": "code",
      "execution_count": null,
      "id": "3b4678c9",
      "metadata": {
        "id": "3b4678c9"
      },
      "outputs": [],
      "source": [
        "# re.fullmatch\n",
        "\n",
        "pattern = re.compile(r'\\d+')\n",
        "text = '123456'\n",
        "\n",
        "matches = pattern.fullmatch(text)\n",
        "print(matches.group())"
      ]
    },
    {
      "cell_type": "code",
      "execution_count": null,
      "id": "f8020522",
      "metadata": {
        "id": "f8020522"
      },
      "outputs": [],
      "source": [
        "# re.split\n",
        "\n",
        "pattern = re.compile(r'\\s+')\n",
        "text = 'The price of apple is 25 Rupees'\n",
        "\n",
        "matches = pattern.split(text)\n",
        "print(matches)"
      ]
    },
    {
      "cell_type": "code",
      "execution_count": null,
      "id": "10655f9f",
      "metadata": {
        "id": "10655f9f"
      },
      "outputs": [],
      "source": [
        "# re.findall\n",
        "\n",
        "pattern = re.compile(r'\\d+')\n",
        "text = 'There are 123 apples and 456 oranges'\n",
        "\n",
        "matches = re.findall(pattern,text)\n",
        "print(matches)"
      ]
    },
    {
      "cell_type": "code",
      "execution_count": null,
      "id": "fc2fc429",
      "metadata": {
        "id": "fc2fc429"
      },
      "outputs": [],
      "source": [
        "# re.finditer\n",
        "\n",
        "pattern = re.compile(r'\\d+')\n",
        "text = 'There are 123 apples and 456 oranges'\n",
        "\n",
        "matches = pattern.finditer(text)\n",
        "for match in matches:\n",
        "    print(match.group())"
      ]
    },
    {
      "cell_type": "code",
      "execution_count": null,
      "id": "e25ea89e",
      "metadata": {
        "id": "e25ea89e"
      },
      "outputs": [],
      "source": [
        "# re.sub\n",
        "\n",
        "pattern = re.compile(r'\\d+')\n",
        "text = 'The price of apple is 25 Rupees and Orange is 50 Rupees'\n",
        "\n",
        "matches = pattern.sub(\"A\", text)\n",
        "print(matches)"
      ]
    },
    {
      "cell_type": "code",
      "execution_count": null,
      "id": "a8b741e5",
      "metadata": {
        "id": "a8b741e5"
      },
      "outputs": [],
      "source": [
        "# re.subn\n",
        "\n",
        "pattern = re.compile(r'\\d+')\n",
        "text = 'The price of apple is 25 Rupees and Orange is 50 Rupees'\n",
        "\n",
        "replaced_text, num_substitutions = pattern.subn(\"A\",text)\n",
        "print(replaced_text)\n",
        "print(num_substitutions)"
      ]
    },
    {
      "cell_type": "code",
      "execution_count": null,
      "id": "05b010c5",
      "metadata": {
        "id": "05b010c5"
      },
      "outputs": [],
      "source": [
        "# re.escape\n",
        "\n",
        "pattern = re.compile(r'\\$')\n",
        "text = 'The price of apple is $50'\n",
        "\n",
        "matches = re.findall(pattern, text)\n",
        "print(matches)"
      ]
    }
  ],
  "metadata": {
    "kernelspec": {
      "display_name": "Python 3 (ipykernel)",
      "language": "python",
      "name": "python3"
    },
    "language_info": {
      "codemirror_mode": {
        "name": "ipython",
        "version": 3
      },
      "file_extension": ".py",
      "mimetype": "text/x-python",
      "name": "python",
      "nbconvert_exporter": "python",
      "pygments_lexer": "ipython3",
      "version": "3.9.7"
    },
    "colab": {
      "provenance": []
    }
  },
  "nbformat": 4,
  "nbformat_minor": 5
}