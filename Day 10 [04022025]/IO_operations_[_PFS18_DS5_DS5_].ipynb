{
  "nbformat": 4,
  "nbformat_minor": 0,
  "metadata": {
    "colab": {
      "provenance": []
    },
    "kernelspec": {
      "name": "python3",
      "display_name": "Python 3"
    },
    "language_info": {
      "name": "python"
    }
  },
  "cells": [
    {
      "cell_type": "markdown",
      "source": [
        "#INPUT OPERATIONS\n",
        "    input() [ Value will be considered as String ]"
      ],
      "metadata": {
        "id": "PLcuwK7rhMbU"
      }
    },
    {
      "cell_type": "code",
      "execution_count": null,
      "metadata": {
        "id": "5j_B-8kfhJlb",
        "colab": {
          "base_uri": "https://localhost:8080/"
        },
        "outputId": "d4b73fb7-1984-4a34-921f-8dd0f630cc70"
      },
      "outputs": [
        {
          "output_type": "stream",
          "name": "stdout",
          "text": [
            "[10,20,30,40]\n",
            "[10,20,30,40]\n",
            "<class 'str'>\n"
          ]
        }
      ],
      "source": [
        "x = input()\n",
        "print(x)\n",
        "print(type(x))"
      ]
    },
    {
      "cell_type": "markdown",
      "source": [
        "#Taking Inputs of integer"
      ],
      "metadata": {
        "id": "gwSekB-YhbV4"
      }
    },
    {
      "cell_type": "code",
      "source": [
        "x = input()\n",
        "print(type(x))\n",
        "x = int(x)\n",
        "print(type(x))\n",
        "a = int(input())\n",
        "print(type(a))\n"
      ],
      "metadata": {
        "id": "RyuzIFRphhc8",
        "colab": {
          "base_uri": "https://localhost:8080/"
        },
        "outputId": "5c233a16-e89f-47ac-bd78-eb6a311b2704"
      },
      "execution_count": null,
      "outputs": [
        {
          "output_type": "stream",
          "name": "stdout",
          "text": [
            "123\n",
            "<class 'str'>\n",
            "<class 'int'>\n",
            "10\n",
            "<class 'int'>\n"
          ]
        }
      ]
    },
    {
      "cell_type": "code",
      "source": [
        "a = input(\"Enter Username: \")\n",
        "b = int(input(\"Enter Password: \"))"
      ],
      "metadata": {
        "colab": {
          "base_uri": "https://localhost:8080/"
        },
        "id": "AclxxveNjTzl",
        "outputId": "efc06b86-b16f-444f-ec09-3a63fac013a8"
      },
      "execution_count": null,
      "outputs": [
        {
          "name": "stdout",
          "output_type": "stream",
          "text": [
            "Enter Username: iamsai2408\n",
            "Enter Password: 1234567890\n"
          ]
        }
      ]
    },
    {
      "cell_type": "code",
      "source": [
        "a,b = map(int,input().split(\",\"))\n",
        "print(a)\n",
        "print(type(a))\n",
        "print(b)"
      ],
      "metadata": {
        "colab": {
          "base_uri": "https://localhost:8080/"
        },
        "id": "b9PMRXmDml6y",
        "outputId": "0b475c09-272d-4631-fd0a-fcc69e6ee836"
      },
      "execution_count": null,
      "outputs": [
        {
          "output_type": "stream",
          "name": "stdout",
          "text": [
            "10,20\n",
            "10\n",
            "<class 'int'>\n",
            "20\n"
          ]
        }
      ]
    },
    {
      "cell_type": "markdown",
      "source": [
        "#Taking inputs of float"
      ],
      "metadata": {
        "id": "OIFAd0Cohhtv"
      }
    },
    {
      "cell_type": "code",
      "source": [
        "a = float(input())\n",
        "print(a)\n",
        "print(type(a))"
      ],
      "metadata": {
        "id": "3QyFocULhlbi",
        "colab": {
          "base_uri": "https://localhost:8080/"
        },
        "outputId": "a5a484c1-c289-45ea-b95f-a5c126a8c76a"
      },
      "execution_count": null,
      "outputs": [
        {
          "output_type": "stream",
          "name": "stdout",
          "text": [
            "10.456\n",
            "10.456\n",
            "<class 'float'>\n"
          ]
        }
      ]
    },
    {
      "cell_type": "code",
      "source": [
        "a,b = map(float,input().split(\",\"))\n",
        "print(a)\n",
        "print(b)\n",
        "print(type(a))\n",
        "print(type(b))"
      ],
      "metadata": {
        "colab": {
          "base_uri": "https://localhost:8080/"
        },
        "id": "3Nj5JVcAnCkW",
        "outputId": "3878d98d-f4c7-4b41-91f8-cbe3066bcc3b"
      },
      "execution_count": null,
      "outputs": [
        {
          "output_type": "stream",
          "name": "stdout",
          "text": [
            "10.45,56\n",
            "10.45\n",
            "56.0\n",
            "<class 'float'>\n",
            "<class 'float'>\n"
          ]
        }
      ]
    },
    {
      "cell_type": "markdown",
      "source": [
        "#Taking inputs of list"
      ],
      "metadata": {
        "id": "lovmA31zhkys"
      }
    },
    {
      "cell_type": "code",
      "source": [
        "x = input()\n",
        "print(type(x))\n",
        "x = input().split()\n",
        "print(x)\n",
        "print(type(x))"
      ],
      "metadata": {
        "id": "brovwn3Mhqr9",
        "colab": {
          "base_uri": "https://localhost:8080/"
        },
        "outputId": "df7de035-b3ce-4742-c12d-3dc73857729f"
      },
      "execution_count": null,
      "outputs": [
        {
          "output_type": "stream",
          "name": "stdout",
          "text": [
            "10 20 30 40 50\n",
            "<class 'str'>\n",
            "10 20 30 40\n",
            "['10', '20', '30', '40']\n",
            "<class 'list'>\n"
          ]
        }
      ]
    },
    {
      "cell_type": "code",
      "source": [
        "x = input().split(\",\")\n",
        "print(x)\n",
        "print(type(x))"
      ],
      "metadata": {
        "colab": {
          "base_uri": "https://localhost:8080/"
        },
        "id": "iTsAC2U2kEm_",
        "outputId": "b7c8b175-c09c-45eb-aa6b-c9d3cbcab74e"
      },
      "execution_count": null,
      "outputs": [
        {
          "output_type": "stream",
          "name": "stdout",
          "text": [
            "10,20,30,40,50\n",
            "['10', '20', '30', '40', '50']\n",
            "<class 'list'>\n"
          ]
        }
      ]
    },
    {
      "cell_type": "code",
      "source": [
        "x = input().split(\"$\")\n",
        "print(x)\n"
      ],
      "metadata": {
        "colab": {
          "base_uri": "https://localhost:8080/"
        },
        "id": "pwAgQGKFkSix",
        "outputId": "1d748369-0a96-4545-f6f3-80ac1fc333f7"
      },
      "execution_count": null,
      "outputs": [
        {
          "output_type": "stream",
          "name": "stdout",
          "text": [
            "10$20$30\n",
            "['10', '20', '30']\n"
          ]
        }
      ]
    },
    {
      "cell_type": "code",
      "source": [
        "x = list(map(int,input().split()))\n",
        "print(x)"
      ],
      "metadata": {
        "colab": {
          "base_uri": "https://localhost:8080/"
        },
        "id": "fz3YuiYIkcy6",
        "outputId": "f7dff2b4-61e1-45ad-852a-ee4b2abc266e"
      },
      "execution_count": null,
      "outputs": [
        {
          "output_type": "stream",
          "name": "stdout",
          "text": [
            "10 20 30 40 50\n",
            "[10, 20, 30, 40, 50]\n"
          ]
        }
      ]
    },
    {
      "cell_type": "code",
      "source": [
        "x = list(map(int,input().split()))[:4]\n",
        "print(x)"
      ],
      "metadata": {
        "colab": {
          "base_uri": "https://localhost:8080/"
        },
        "id": "s5m6W4eElQzE",
        "outputId": "0da633b6-c22f-435e-b879-9222fcf3f845"
      },
      "execution_count": null,
      "outputs": [
        {
          "output_type": "stream",
          "name": "stdout",
          "text": [
            "10 -20 -45 0 45\n",
            "[10, -20, -45, 0]\n"
          ]
        }
      ]
    },
    {
      "cell_type": "code",
      "source": [
        "n = int(input())\n",
        "x = list(map(int,input().split()))[:n]\n"
      ],
      "metadata": {
        "colab": {
          "base_uri": "https://localhost:8080/"
        },
        "id": "JC_NRQhlmZUj",
        "outputId": "3f8516ee-6fea-4e00-a64d-5edeb67c9bf2"
      },
      "execution_count": null,
      "outputs": [
        {
          "name": "stdout",
          "output_type": "stream",
          "text": [
            "2\n",
            "1 2\n"
          ]
        }
      ]
    },
    {
      "cell_type": "markdown",
      "source": [
        "#Taking inputs of Tuple"
      ],
      "metadata": {
        "id": "8EoWtXdehrD3"
      }
    },
    {
      "cell_type": "code",
      "source": [
        "x = list(map(float,input().split()))\n",
        "print(x)"
      ],
      "metadata": {
        "id": "IufSSOkshuvv"
      },
      "execution_count": null,
      "outputs": []
    },
    {
      "cell_type": "markdown",
      "source": [
        "#Taking inputs of sets"
      ],
      "metadata": {
        "id": "F3IKRMgqhvIL"
      }
    },
    {
      "cell_type": "code",
      "source": [
        "s1 = set(input().split())\n",
        "print(s1)"
      ],
      "metadata": {
        "id": "kiMbTOCkhySv",
        "colab": {
          "base_uri": "https://localhost:8080/"
        },
        "outputId": "6d93e655-7292-4085-8488-6bd439970d5b"
      },
      "execution_count": null,
      "outputs": [
        {
          "output_type": "stream",
          "name": "stdout",
          "text": [
            "sai vardhan sai 10 45.78\n",
            "{'vardhan', '45.78', '10', 'sai'}\n"
          ]
        }
      ]
    },
    {
      "cell_type": "code",
      "source": [
        "s1 = set(map(int,input().split()))\n",
        "print(s1)"
      ],
      "metadata": {
        "colab": {
          "base_uri": "https://localhost:8080/"
        },
        "id": "r0cJ_-EYnjXr",
        "outputId": "705c851c-9c83-4b50-9e92-b36340624a14"
      },
      "execution_count": null,
      "outputs": [
        {
          "output_type": "stream",
          "name": "stdout",
          "text": [
            "10 20 34 12 20\n",
            "{10, 12, 20, 34}\n"
          ]
        }
      ]
    },
    {
      "cell_type": "markdown",
      "source": [
        "#Taking inputs of dictionaries"
      ],
      "metadata": {
        "id": "MIDe26XehyoJ"
      }
    },
    {
      "cell_type": "code",
      "source": [
        "keys = [10,20,30,40]\n",
        "values = [100,200,300,400]\n",
        "x = zip(keys,values)\n",
        "x = dict(x)\n",
        "print(x)\n"
      ],
      "metadata": {
        "id": "d75LoNzXh2a-",
        "colab": {
          "base_uri": "https://localhost:8080/"
        },
        "outputId": "3312bdfc-4989-4b40-f3e1-c194c40911a4"
      },
      "execution_count": null,
      "outputs": [
        {
          "output_type": "stream",
          "name": "stdout",
          "text": [
            "{10: 100, 20: 200, 30: 300, 40: 400}\n"
          ]
        }
      ]
    },
    {
      "cell_type": "code",
      "source": [
        "keys = list(map(int,input().split(\",\")))\n",
        "values = input().split()\n",
        "d = dict(zip(keys,values))\n",
        "print(d)''"
      ],
      "metadata": {
        "colab": {
          "base_uri": "https://localhost:8080/"
        },
        "id": "7YfXNX65oCqs",
        "outputId": "0dc14a26-7fa9-4320-d828-113fa494d98d"
      },
      "execution_count": null,
      "outputs": [
        {
          "output_type": "stream",
          "name": "stdout",
          "text": [
            "10,20,30\n",
            "sai vardhan venkat\n",
            "{10: 'sai', 20: 'vardhan', 30: 'venkat'}\n"
          ]
        }
      ]
    },
    {
      "cell_type": "code",
      "source": [
        "keys = [10,20,30]\n",
        "values = [100,200,300,400]\n",
        "d = dict(zip(keys,values))\n",
        "print(d)"
      ],
      "metadata": {
        "colab": {
          "base_uri": "https://localhost:8080/"
        },
        "id": "Wa9CLGAErstZ",
        "outputId": "ffba72a1-7eaa-4727-9149-622d9360228e"
      },
      "execution_count": null,
      "outputs": [
        {
          "output_type": "stream",
          "name": "stdout",
          "text": [
            "{10: 100, 20: 200, 30: 300}\n"
          ]
        }
      ]
    },
    {
      "cell_type": "markdown",
      "source": [
        "#OUTPUT FORMATTING\n",
        "    print() [ Prints values given as a parameters ]\n",
        "#Types of Output Operations\n",
        "    1. Using Normal Method\n",
        "    2. Using Modulo Operator\n",
        "    3. Using F - Format\n",
        "    4. Using Dot Format"
      ],
      "metadata": {
        "id": "zE54bfXyh42e"
      }
    },
    {
      "cell_type": "code",
      "source": [
        "print(\"Hello world\")"
      ],
      "metadata": {
        "colab": {
          "base_uri": "https://localhost:8080/"
        },
        "id": "ijX25SV8mZeE",
        "outputId": "7f935aec-0eb1-4057-afc7-5d1dad872944"
      },
      "execution_count": 1,
      "outputs": [
        {
          "output_type": "stream",
          "name": "stdout",
          "text": [
            "Hello world\n"
          ]
        }
      ]
    },
    {
      "cell_type": "markdown",
      "source": [
        "#USING NORMAL METHOD"
      ],
      "metadata": {
        "id": "r-Jd-HoQiLpZ"
      }
    },
    {
      "cell_type": "code",
      "source": [
        "a = int(input())\n",
        "b = int(input())\n",
        "print(\"The values of a and b are\",a,b)"
      ],
      "metadata": {
        "id": "nlnCVa30im78",
        "colab": {
          "base_uri": "https://localhost:8080/"
        },
        "outputId": "f7e790ca-11f9-4239-f41d-61e8204fbfd1"
      },
      "execution_count": 3,
      "outputs": [
        {
          "output_type": "stream",
          "name": "stdout",
          "text": [
            "100\n",
            "200\n",
            "The values of a and b are 100 200\n"
          ]
        }
      ]
    },
    {
      "cell_type": "code",
      "source": [
        "a = 56\n",
        "b = 78\n",
        "print(a)\n",
        "print(b)\n",
        "print(a,b)\n",
        "print(a,\",\",b)"
      ],
      "metadata": {
        "colab": {
          "base_uri": "https://localhost:8080/"
        },
        "id": "jWEZU6I3myoy",
        "outputId": "a6f44f96-8b31-4dea-84ec-99d0a2392e2c"
      },
      "execution_count": 7,
      "outputs": [
        {
          "output_type": "stream",
          "name": "stdout",
          "text": [
            "56\n",
            "78\n",
            "56 78\n",
            "56 , 78\n"
          ]
        }
      ]
    },
    {
      "cell_type": "code",
      "source": [
        "hours = 12\n",
        "min = 5\n",
        "sec = 45\n",
        "print(hours,\":\",min,\":\",sec)"
      ],
      "metadata": {
        "colab": {
          "base_uri": "https://localhost:8080/"
        },
        "id": "qwwEQD5En5zK",
        "outputId": "4616b5a0-a5cf-4f33-dcce-f5a25b340c03"
      },
      "execution_count": 8,
      "outputs": [
        {
          "output_type": "stream",
          "name": "stdout",
          "text": [
            "12 : 5 : 45\n"
          ]
        }
      ]
    },
    {
      "cell_type": "markdown",
      "source": [
        "#USING MODULO OPERATOR\n",
        "    %d - For Integers\n",
        "    %f - For Floats\n",
        "    %s - For Strings"
      ],
      "metadata": {
        "id": "1O_RqI6AinO9"
      }
    },
    {
      "cell_type": "code",
      "source": [
        "a = 10\n",
        "print(\"The value is %d\"%a)"
      ],
      "metadata": {
        "id": "HLVfqpEqiyxp",
        "colab": {
          "base_uri": "https://localhost:8080/"
        },
        "outputId": "07526a63-06a9-408a-fb29-432538a17383"
      },
      "execution_count": 24,
      "outputs": [
        {
          "output_type": "stream",
          "name": "stdout",
          "text": [
            "The value is 10\n"
          ]
        }
      ]
    },
    {
      "cell_type": "code",
      "source": [
        "a = 10\n",
        "b = 12.345\n",
        "c = \"Hello\"\n",
        "print(\"The values are %d %f %s\"%(a,b,c))"
      ],
      "metadata": {
        "colab": {
          "base_uri": "https://localhost:8080/"
        },
        "id": "kKfu--15q9Py",
        "outputId": "0f66174a-c4ec-458d-91bd-0f0d91e8323c"
      },
      "execution_count": 30,
      "outputs": [
        {
          "output_type": "stream",
          "name": "stdout",
          "text": [
            "The values are 10 12.345000 Hello\n"
          ]
        }
      ]
    },
    {
      "cell_type": "markdown",
      "source": [
        "#USING F - FORMAT"
      ],
      "metadata": {
        "id": "eH5WQtduizLT"
      }
    },
    {
      "cell_type": "code",
      "source": [
        "a = 10\n",
        "b = 12.345\n",
        "c = \"Hello\"\n",
        "print(f\"The Values are {a}{b}{c}\")"
      ],
      "metadata": {
        "id": "ZOJUkxwHi1GG",
        "colab": {
          "base_uri": "https://localhost:8080/"
        },
        "outputId": "afd97a5f-2031-4d94-f828-6a61a5bea458"
      },
      "execution_count": 32,
      "outputs": [
        {
          "output_type": "stream",
          "name": "stdout",
          "text": [
            "The Values are 1012.345Hello\n"
          ]
        }
      ]
    },
    {
      "cell_type": "code",
      "source": [
        "x = 12.34567\n",
        "print(x)\n",
        "print(f\"{x}\")"
      ],
      "metadata": {
        "colab": {
          "base_uri": "https://localhost:8080/"
        },
        "id": "x7vG1XwhpSCW",
        "outputId": "f95520cc-b40b-4706-d584-9ae6233a74dc"
      },
      "execution_count": 16,
      "outputs": [
        {
          "output_type": "stream",
          "name": "stdout",
          "text": [
            "12.34567\n",
            "12.34567\n"
          ]
        }
      ]
    },
    {
      "cell_type": "markdown",
      "source": [
        "#USING DOT FORMAT"
      ],
      "metadata": {
        "id": "rVUi9xgmi1i7"
      }
    },
    {
      "cell_type": "code",
      "source": [
        "a = 12.456789\n",
        "print(\"The value is {:.3f}\".format(a))"
      ],
      "metadata": {
        "id": "cmaMDZFji4uc",
        "colab": {
          "base_uri": "https://localhost:8080/"
        },
        "outputId": "d3620b38-7731-4ebd-fe3a-71fccb30d431"
      },
      "execution_count": 34,
      "outputs": [
        {
          "output_type": "stream",
          "name": "stdout",
          "text": [
            "The value is 12.457\n"
          ]
        }
      ]
    },
    {
      "cell_type": "code",
      "source": [
        "a = 10\n",
        "b = 20\n",
        "c = 30\n",
        "print(\"The values are {} {} {}\".format(b,c,a))"
      ],
      "metadata": {
        "colab": {
          "base_uri": "https://localhost:8080/"
        },
        "id": "hIy9vGhxptoS",
        "outputId": "16b2237c-ce80-43ce-b900-a8545f7fcbb5"
      },
      "execution_count": 22,
      "outputs": [
        {
          "output_type": "stream",
          "name": "stdout",
          "text": [
            "The values are 20 30 10\n"
          ]
        }
      ]
    }
  ]
}