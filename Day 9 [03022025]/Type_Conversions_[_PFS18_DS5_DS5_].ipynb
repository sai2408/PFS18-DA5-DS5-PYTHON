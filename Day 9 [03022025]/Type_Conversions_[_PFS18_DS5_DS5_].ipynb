{
  "nbformat": 4,
  "nbformat_minor": 0,
  "metadata": {
    "colab": {
      "provenance": []
    },
    "kernelspec": {
      "name": "python3",
      "display_name": "Python 3"
    },
    "language_info": {
      "name": "python"
    }
  },
  "cells": [
    {
      "cell_type": "markdown",
      "source": [
        "#Type Conversions\n",
        "\n",
        "---\n",
        "![image.png](data:image/png;base64,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)\n",
        "\n"
      ],
      "metadata": {
        "id": "UZSNx05afKY8"
      }
    },
    {
      "cell_type": "markdown",
      "source": [
        "#Interger\n",
        "    Strings\n",
        "    Float"
      ],
      "metadata": {
        "id": "lm2qfrKgfvAR"
      }
    },
    {
      "cell_type": "code",
      "execution_count": 3,
      "metadata": {
        "id": "PqFN12a-fHBv",
        "colab": {
          "base_uri": "https://localhost:8080/"
        },
        "outputId": "7daa87b6-fe53-489d-8ef9-18dfc8075a01"
      },
      "outputs": [
        {
          "output_type": "stream",
          "name": "stdout",
          "text": [
            "10\n",
            "<class 'int'>\n",
            "10\n",
            "<class 'str'>\n",
            "10.0\n",
            "<class 'float'>\n"
          ]
        }
      ],
      "source": [
        "a = 10\n",
        "print(a)\n",
        "print(type(a))\n",
        "b = str(a)\n",
        "print(b)\n",
        "print(type(b))\n",
        "c = float(a)\n",
        "print(c)\n",
        "print(type(c))"
      ]
    },
    {
      "cell_type": "markdown",
      "source": [
        "#Float\n",
        "    String\n",
        "    Integer"
      ],
      "metadata": {
        "id": "65bxKi61f0MU"
      }
    },
    {
      "cell_type": "code",
      "source": [
        "a = 10.456\n",
        "print(a)\n",
        "print(type(a))\n",
        "b = str(a)\n",
        "print(b)\n",
        "print(b[1])\n",
        "print(type(b))\n",
        "c = int(a)\n",
        "print(c)\n",
        "print(type(c))"
      ],
      "metadata": {
        "id": "hINC8ji9f6Q9",
        "colab": {
          "base_uri": "https://localhost:8080/"
        },
        "outputId": "b9edb2cd-b81d-47c5-f466-1938d7427d79"
      },
      "execution_count": 8,
      "outputs": [
        {
          "output_type": "stream",
          "name": "stdout",
          "text": [
            "10.456\n",
            "<class 'float'>\n",
            "10.456\n",
            "0\n",
            "<class 'str'>\n",
            "10\n",
            "<class 'int'>\n"
          ]
        }
      ]
    },
    {
      "cell_type": "markdown",
      "source": [
        "#Strings\n",
        "    Integer\n",
        "    Float"
      ],
      "metadata": {
        "id": "R1f3q0QKf6dp"
      }
    },
    {
      "cell_type": "code",
      "source": [
        "a1 = \"10\"\n",
        "print(a1)\n",
        "print(type(a1))\n",
        "b1 = int(a1)\n",
        "print(b1)\n",
        "print(type(b1))\n",
        "c1 = float(a1)\n",
        "print(c1)\n",
        "print(type(c1))\n",
        "a2 = \"45.678\"\n",
        "print(a2)\n",
        "print(type(a2))\n",
        "c2 = float(a2)\n",
        "print(c2)\n",
        "print(type(c2))"
      ],
      "metadata": {
        "id": "e9XAAIj7gBNa",
        "colab": {
          "base_uri": "https://localhost:8080/"
        },
        "outputId": "8318cda9-558a-4978-deb0-e2992805c1f4"
      },
      "execution_count": 15,
      "outputs": [
        {
          "output_type": "stream",
          "name": "stdout",
          "text": [
            "10\n",
            "<class 'str'>\n",
            "10\n",
            "<class 'int'>\n",
            "10.0\n",
            "<class 'float'>\n",
            "45.678\n",
            "<class 'str'>\n",
            "45.678\n",
            "<class 'float'>\n"
          ]
        }
      ]
    },
    {
      "cell_type": "markdown",
      "source": [
        "#List\n",
        "    String\n",
        "    Tuple"
      ],
      "metadata": {
        "id": "uPHgKyRpgBfi"
      }
    },
    {
      "cell_type": "code",
      "source": [
        "a = [10,20,30,40]\n",
        "print(a)\n",
        "print(type(a))\n",
        "b = tuple(a)\n",
        "print(b)\n",
        "print(type(b))\n",
        "c = str(a)\n",
        "print(c)\n",
        "print(c[3])\n",
        "print(type(c))"
      ],
      "metadata": {
        "id": "c5BO_p41gHJ_",
        "colab": {
          "base_uri": "https://localhost:8080/"
        },
        "outputId": "7182fba2-8959-49d5-a73e-0f0a205430d8"
      },
      "execution_count": 20,
      "outputs": [
        {
          "output_type": "stream",
          "name": "stdout",
          "text": [
            "[10, 20, 30, 40]\n",
            "<class 'list'>\n",
            "(10, 20, 30, 40)\n",
            "<class 'tuple'>\n",
            "[10, 20, 30, 40]\n",
            ",\n",
            "<class 'str'>\n"
          ]
        }
      ]
    },
    {
      "cell_type": "markdown",
      "source": [
        "#Tuple\n",
        "    String\n",
        "    List"
      ],
      "metadata": {
        "id": "eXIVGV6ZhBGo"
      }
    },
    {
      "cell_type": "code",
      "source": [
        "a = (1,2,3,4,5)\n",
        "print(a)\n",
        "print(type(a))\n",
        "b = list(a)\n",
        "print(b)\n",
        "print(type(b))\n",
        "c = str(a)\n",
        "print(c)\n",
        "print(c[-1])\n",
        "print(type(c))"
      ],
      "metadata": {
        "id": "uqh7QCNHhEBB",
        "colab": {
          "base_uri": "https://localhost:8080/"
        },
        "outputId": "14fd34c0-35d2-49f2-d7b2-5208f871f8d4"
      },
      "execution_count": 24,
      "outputs": [
        {
          "output_type": "stream",
          "name": "stdout",
          "text": [
            "(1, 2, 3, 4, 5)\n",
            "<class 'tuple'>\n",
            "[1, 2, 3, 4, 5]\n",
            "<class 'list'>\n",
            "(1, 2, 3, 4, 5)\n",
            ")\n",
            "<class 'str'>\n"
          ]
        }
      ]
    }
  ]
}